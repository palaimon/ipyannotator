{
 "cells": [
  {
   "cell_type": "code",
   "execution_count": null,
   "id": "5d941538",
   "metadata": {},
   "outputs": [],
   "source": [
    "# default_exp datasets.generators"
   ]
  },
  {
   "cell_type": "code",
   "execution_count": null,
   "id": "8d5fa86f",
   "metadata": {},
   "outputs": [],
   "source": [
    "# hide\n",
    "%load_ext autoreload\n",
    "%autoreload 2"
   ]
  },
  {
   "cell_type": "code",
   "execution_count": null,
   "id": "3940e9b9",
   "metadata": {},
   "outputs": [],
   "source": [
    "# hide\n",
    "from nbdev import *"
   ]
  },
  {
   "cell_type": "markdown",
   "id": "0745ce2f",
   "metadata": {},
   "source": [
    "# Generators for MOT data\n",
    "\n",
    "MOT data format can be [found here](https://github.com/JonathonLuiten/TrackEval/blob/master/docs/MOTChallenge-Official/Readme.md#data-format)."
   ]
  },
  {
   "cell_type": "code",
   "execution_count": null,
   "id": "ec91f97e",
   "metadata": {},
   "outputs": [],
   "source": [
    "#exporti\n",
    "\n",
    "from PIL import Image\n",
    "from functools import partial\n",
    "from pydantic import BaseModel\n",
    "from typing import List, Optional, Tuple, Any, Iterator"
   ]
  },
  {
   "cell_type": "code",
   "execution_count": null,
   "id": "e4df3493-1d63-4ab4-a238-384cceed72c8",
   "metadata": {},
   "outputs": [],
   "source": [
    "from pandas import DataFrame\n",
    "import numpy as np\n",
    "from pathlib import Path\n",
    "from skimage.draw import rectangle"
   ]
  },
  {
   "cell_type": "code",
   "execution_count": null,
   "id": "c780e88b",
   "metadata": {},
   "outputs": [],
   "source": [
    "#exporti\n",
    "from skimage.draw import disk"
   ]
  },
  {
   "cell_type": "code",
   "execution_count": null,
   "id": "3ea9aff7",
   "metadata": {},
   "outputs": [],
   "source": [
    "#hide\n",
    "import matplotlib.pyplot as plt"
   ]
  },
  {
   "cell_type": "code",
   "execution_count": null,
   "id": "e4cb807d",
   "metadata": {},
   "outputs": [],
   "source": [
    "import tempfile\n",
    "tmp_dir = tempfile.TemporaryDirectory()\n",
    "tmp_dir.name"
   ]
  },
  {
   "cell_type": "code",
   "execution_count": null,
   "id": "7560086f",
   "metadata": {},
   "outputs": [],
   "source": [
    "def show_img(img):\n",
    "    fig, ax = plt.subplots(ncols=1, nrows=1, figsize=(3, 3))\n",
    "    ax.imshow(img)"
   ]
  },
  {
   "cell_type": "markdown",
   "id": "a05b7045",
   "metadata": {},
   "source": [
    "## Create mot gt and render corresponding frames"
   ]
  },
  {
   "cell_type": "code",
   "execution_count": null,
   "id": "d870b97b",
   "metadata": {},
   "outputs": [],
   "source": [
    "#exporti\n",
    "class TrackObject(BaseModel):\n",
    "    id: int\n",
    "    center: Tuple[int, int]\n",
    "    color: Tuple[float, float, float]\n",
    "\n",
    "\n",
    "class TrackObjectRectangle(TrackObject):\n",
    "    size: Tuple[int, int]\n",
    "    type: str = 'rectangle'\n",
    "\n",
    "\n",
    "class TrackObjectCircle(TrackObject):\n",
    "    radius: int\n",
    "    type: str = 'circle'\n",
    "\n",
    "\n",
    "class Frame(BaseModel):\n",
    "    res: Tuple[int, int]\n",
    "    pos: int\n",
    "    objects: Optional[List[TrackObject]] = []\n",
    "    img: Optional[Any]"
   ]
  },
  {
   "cell_type": "code",
   "execution_count": null,
   "id": "3c3553b4",
   "metadata": {},
   "outputs": [],
   "source": [
    "#exporti\n",
    "def gen_frame(n_frames=5, res=(200, 200)) -> Iterator[Frame]:\n",
    "    for f in range(n_frames):\n",
    "        yield Frame(pos=f, res=res)"
   ]
  },
  {
   "cell_type": "code",
   "execution_count": null,
   "id": "5d00f2ac",
   "metadata": {},
   "outputs": [],
   "source": [
    "#hide\n",
    "list(gen_frame(n_frames=2))"
   ]
  },
  {
   "cell_type": "code",
   "execution_count": null,
   "id": "ffa05768",
   "metadata": {},
   "outputs": [],
   "source": [
    "#exporti\n",
    "def gen_bg_img(stream, bg='rand', channel=3) -> Iterator[Frame]:\n",
    "    for gt in stream:\n",
    "        # print(g)\n",
    "        width, height = gt.res\n",
    "        if bg == 'rand':\n",
    "            img = np.random.rand(width, height, channel)\n",
    "        else:\n",
    "            img = np.zeros((width, height, channel), dtype=np.double)\n",
    "        gt.img = img\n",
    "        yield gt"
   ]
  },
  {
   "cell_type": "code",
   "execution_count": null,
   "id": "0ba70744",
   "metadata": {},
   "outputs": [],
   "source": [
    "#hide\n",
    "\n",
    "frames = gen_frame()\n",
    "bgs = list(gen_bg_img(frames))[0]\n",
    "bgs.img.shape  # type: ignore"
   ]
  },
  {
   "cell_type": "code",
   "execution_count": null,
   "id": "6d93f6b2",
   "metadata": {},
   "outputs": [],
   "source": [
    "#hide\n",
    "show_img(bgs.img)  # type: ignore"
   ]
  },
  {
   "cell_type": "code",
   "execution_count": null,
   "id": "817cdcc9",
   "metadata": {},
   "outputs": [],
   "source": [
    "#exporti\n",
    "def default_path(current_frame, start=(10, 10), speed=(5, 5), radius=10, type='rectangle'):\n",
    "    initial_x, initial_y = start\n",
    "    x_speed, y_speed = speed\n",
    "\n",
    "    x = initial_x + current_frame * x_speed\n",
    "    y = initial_y + current_frame * y_speed\n",
    "\n",
    "    if type == 'circle':\n",
    "        y = y + radius\n",
    "        x = x + radius\n",
    "\n",
    "    return (x, y)"
   ]
  },
  {
   "cell_type": "code",
   "execution_count": null,
   "id": "6e39e3f7",
   "metadata": {},
   "outputs": [],
   "source": [
    "#exporti\n",
    "def gen_moving_object(stream, object_id, size=(20, 20), path_f=default_path,\n",
    "                      type='rectangle', color=(1.0, 1.0, 1.0)) -> Iterator[Frame]:\n",
    "\n",
    "    frame_nr = 0\n",
    "    for gt in stream:\n",
    "        if type == 'circle':\n",
    "            center = path_f(frame_nr, type=type)\n",
    "            radius = (min(size)) / 2\n",
    "            o_track = TrackObjectCircle(id=object_id, center=center,\n",
    "                                        radius=radius, color=color)\n",
    "        else:\n",
    "            center = path_f(frame_nr)\n",
    "            # error: Incompatible types in assignment (expression has type\n",
    "            # \"TrackObjectRectangle\", variable has type \"TrackObjectCircle\")\n",
    "            o_track = TrackObjectRectangle(id=object_id, center=center,  # type: ignore\n",
    "                                           size=size, color=color)\n",
    "\n",
    "        gt.objects.append(o_track)\n",
    "        frame_nr = frame_nr + 1\n",
    "        yield gt"
   ]
  },
  {
   "cell_type": "code",
   "execution_count": null,
   "id": "2a9537ee",
   "metadata": {},
   "outputs": [],
   "source": [
    "#hide\n",
    "frames = gen_frame()\n",
    "track1 = gen_moving_object(frames, object_id=0)\n",
    "track2 = gen_moving_object(track1, object_id=1)\n",
    "next(track2)"
   ]
  },
  {
   "cell_type": "code",
   "execution_count": null,
   "id": "31155dcc",
   "metadata": {},
   "outputs": [],
   "source": [
    "#exporti\n",
    "def gen_render_objects(stream):\n",
    "    for gt in stream:\n",
    "        for o in gt.objects:\n",
    "            if o.type == 'circle':\n",
    "                rr, cc = disk(o.center, o.radius)\n",
    "            else:\n",
    "                rr, cc = rectangle(start=o.center, extent=o.size, shape=gt.img.shape)\n",
    "\n",
    "            r, g, b = o.color\n",
    "            gt.img[rr.astype(int), cc.astype(int), :] = [r, g, b]\n",
    "        yield gt"
   ]
  },
  {
   "cell_type": "code",
   "execution_count": null,
   "id": "5a33cad3",
   "metadata": {},
   "outputs": [],
   "source": [
    "#hide\n",
    "def example_path_generator(current_frame, start=(50, 50), speed=(10, 5),\n",
    "                           radius=10, type='rectangle', boost=2):\n",
    "    initial_x, initial_y = start\n",
    "    x_speed, y_speed = speed\n",
    "    print()\n",
    "\n",
    "    x = initial_x + current_frame * x_speed * boost\n",
    "    y = initial_y + current_frame * y_speed\n",
    "\n",
    "    if type == 'circle':\n",
    "        y = y + radius\n",
    "\n",
    "    return (x, y)"
   ]
  },
  {
   "cell_type": "code",
   "execution_count": null,
   "id": "94423a8a",
   "metadata": {},
   "outputs": [],
   "source": [
    "#hide\n",
    "frames = gen_frame(n_frames=20)\n",
    "track1 = gen_moving_object(frames, object_id=0, size=(20, 40),\n",
    "                           path_f=partial(example_path_generator, boost=2))\n",
    "track2 = gen_moving_object(track1, object_id=1, size=(40, 60), type='circle',\n",
    "                           color=(1, 0, 0))\n",
    "bg_img = gen_bg_img(track2, bg='')\n",
    "track_img = gen_render_objects(bg_img)"
   ]
  },
  {
   "cell_type": "code",
   "execution_count": null,
   "id": "f8546d8d",
   "metadata": {},
   "outputs": [],
   "source": [
    "#hide\n",
    "gt = next(track_img)\n",
    "# print(gt)\n",
    "show_img(gt.img)"
   ]
  },
  {
   "cell_type": "code",
   "execution_count": null,
   "id": "2623ff0f",
   "metadata": {},
   "outputs": [],
   "source": [
    "#exporti\n",
    "\n",
    "def occlude_lower_left_img(track_img, color=[0, 0, 0]):\n",
    "    for gt in track_img:\n",
    "        pos = (gt.res[0] / 2, gt.res[1] / 4)\n",
    "        extent = (gt.res[0] / 3, gt.res[1] / 3)\n",
    "        rr, cc = rectangle(start=pos, extent=extent, shape=gt.img.shape)\n",
    "        gt.img[rr.astype(int), cc.astype(int), :] = color\n",
    "        yield gt"
   ]
  },
  {
   "cell_type": "code",
   "execution_count": null,
   "id": "2d0d004b",
   "metadata": {},
   "outputs": [],
   "source": [
    "#hide\n",
    "occluded_img = occlude_lower_left_img(track_img, color=[0, 32, 255])\n",
    "oc = next(occluded_img)\n",
    "show_img(oc.img)"
   ]
  },
  {
   "cell_type": "code",
   "execution_count": null,
   "id": "0f4d9dee",
   "metadata": {},
   "outputs": [],
   "source": [
    "#exporti\n",
    "def gt_to_mot(gt: Frame):\n",
    "    \"\"\"mot format <frame>, <id>, <bb_left>,\n",
    "        <bb_top>, <bb_width>, <bb_height>, <conf>, <label>, <vis>\n",
    "    \"\"\"\n",
    "    # gt possible None\n",
    "    for o in gt.objects:  # type: ignore\n",
    "        cx = o.center[0]\n",
    "        cy = o.center[1]\n",
    "        mot = {\n",
    "            'frame': gt.pos,\n",
    "            'id': o.id,\n",
    "            'conf': -1,\n",
    "            'label': -1,\n",
    "            'vis': -1\n",
    "        }\n",
    "        if o.type == 'circle':  # type: ignore\n",
    "            mot['bb_left'] = cx - o.radius  # type: ignore\n",
    "            mot['bb_top'] = cy - o.radius  # type: ignore\n",
    "            mot['bb_width'] = o.radius * 2  # type: ignore\n",
    "            mot['bb_height'] = o.radius * 2  # type: ignore\n",
    "        else:\n",
    "            mot['bb_left'] = cy\n",
    "            mot['bb_top'] = cx\n",
    "            mot['bb_width'] = o.size[1]  # type: ignore\n",
    "            mot['bb_height'] = o.size[0]  # type: ignore\n",
    "\n",
    "        yield mot"
   ]
  },
  {
   "cell_type": "code",
   "execution_count": null,
   "id": "66e36b4f",
   "metadata": {},
   "outputs": [],
   "source": [
    "#export\n",
    "def create_mot_ds(path: Path, img_path: str = 'img', n_frames: int = 20, occluded: bool = False):\n",
    "    # create data\n",
    "    frames = gen_frame(n_frames=n_frames)\n",
    "    track1 = gen_moving_object(frames, object_id=0, size=(10, 30),\n",
    "                               path_f=partial(default_path, start=(150, 10), speed=(0, 10)))\n",
    "    track2 = gen_moving_object(track1, object_id=1, type='circle', color=(1, 0, 0), size=(40, 40),\n",
    "                               path_f=partial(default_path, start=(40, 40), speed=(5, 5)))\n",
    "    bg_img = gen_bg_img(track2)\n",
    "    track_img = gen_render_objects(bg_img)\n",
    "\n",
    "    if occluded:\n",
    "        track_img = occlude_lower_left_img(track_img)\n",
    "\n",
    "    # save to files\n",
    "    _img_path = Path(path) / img_path\n",
    "    _img_path.mkdir(parents=True, exist_ok=True)\n",
    "    records = []\n",
    "\n",
    "    for gt in track_img:\n",
    "        frame_pos = str(gt.pos).zfill(4)\n",
    "        file_path = _img_path / f\"{frame_pos}.jpg\"\n",
    "        im = Image.fromarray((gt.img * 175.5).astype(np.uint8))  # Trasnform img to RGB\n",
    "\n",
    "        im.save(file_path)\n",
    "\n",
    "        for mot in gt_to_mot(gt):\n",
    "            records.append(mot)\n",
    "\n",
    "    df_gt = DataFrame.from_records(records)\n",
    "    df_gt.to_csv(Path(path) / 'mot.csv', index=False)"
   ]
  },
  {
   "cell_type": "code",
   "execution_count": null,
   "id": "b031b922",
   "metadata": {},
   "outputs": [],
   "source": [
    "#hide\n",
    "create_mot_ds(Path(tmp_dir.name), occluded=True)"
   ]
  },
  {
   "cell_type": "code",
   "execution_count": null,
   "id": "f0d25898",
   "metadata": {},
   "outputs": [],
   "source": [
    "#hide\n",
    "import os\n",
    "os.listdir(f'{tmp_dir.name}/img')"
   ]
  },
  {
   "cell_type": "code",
   "execution_count": null,
   "id": "92d5a05c",
   "metadata": {},
   "outputs": [],
   "source": [
    "#hide\n",
    "from nbdev.export import notebook2script\n",
    "notebook2script()"
   ]
  }
 ],
 "metadata": {
  "kernelspec": {
   "display_name": "Python 3",
   "language": "python",
   "name": "python3"
  }
 },
 "nbformat": 4,
 "nbformat_minor": 5
}
