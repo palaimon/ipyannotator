{
 "cells": [
  {
   "cell_type": "code",
   "execution_count": null,
   "id": "4ea99533",
   "metadata": {},
   "outputs": [],
   "source": [
    "#default_exp docs.api"
   ]
  },
  {
   "cell_type": "markdown",
   "id": "adaf876a",
   "metadata": {},
   "source": [
    "# API"
   ]
  },
  {
   "cell_type": "markdown",
   "id": "65bd4919",
   "metadata": {},
   "source": [
    "## A simple but flexible API to define annotation tasks\n",
    "\n",
    "Ipyannotator provides a simple API (application programming interface) which is based on three steps describing general tasks in the data annotation process. These are denoted as the explore, create, and improve phase.\n",
    "\n",
    "These three steps in conjuction with domain-specific annotation types, define the inputs and outputs of the annotation process, providing a very flexible and extendable API to set up annotation tasks."
   ]
  },
  {
   "cell_type": "markdown",
   "id": "028f4f0e",
   "metadata": {},
   "source": [
    "### API example\n",
    "\n",
    "The following code examples illustrate the main actions around which the Ipyannotator API is built. \n",
    "\n",
    "Please keep in mind that Ipyannotator aims to be flexible enought so that these generic aspects can be extented to much complexer and domain-specific tasks and interfaces.\n",
    "\n",
    "To set up Ipyannotator in Jupyter Notebook the library has to be imported with three main components: the pair of input/output data, the settings structure, and the generic annotator module. The following example uses the  `InputImage/OutputImageLabel` associated with the image classification task. It imports the settings pointing to a folder called 'data' and configures the annotator module with the entries. Once the annotator module is configured it can be used to call the explore, create and improve steps.\n",
    "\n",
    "```python\n",
    "from pathlib import Path\n",
    "from ipyannotator.base import Settings\n",
    "from ipyannotator.annotator import Annotator\n",
    "from ipyannotator.mltypes import InputImage, OutputImageLabel\n",
    "\n",
    "input = InputImage(image_dir='images', image_width=200, image_height=200)\n",
    "output = OutputImageLabel(label_dir='labels', label_width=30, label_height=30)\n",
    "settings = Settings(project_path=Path('data'))\n",
    "\n",
    "annotator = Annotator(input, output, settings)\n",
    "```\n",
    "\n",
    "For a full investigation of image classification task check [our tutorial](https://palaimon.github.io/ipyannotator/nbs/01b_tutorial_image_classification.html)."
   ]
  },
  {
   "cell_type": "markdown",
   "id": "8ae283ca",
   "metadata": {},
   "source": [
    "## API Reference\n",
    "\n",
    "Detailed information about Ipyannotator API. To see usage please check [Ipyannotator tutorials](https://palaimon.github.io/ipyannotator/nbs/22_input_output_doc.html)."
   ]
  },
  {
   "cell_type": "code",
   "execution_count": null,
   "id": "443a3204",
   "metadata": {},
   "outputs": [],
   "source": [
    "#exporti\n",
    "from ipyannotator.annotator import Annotator\n",
    "from ipyannotator.docs.utils import show_doc\n",
    "from ipyannotator.base import Settings"
   ]
  },
  {
   "cell_type": "markdown",
   "id": "ab95f6b1",
   "metadata": {},
   "source": [
    "To use Ipyannotator API it's necessary to import the `Annotator` class by using `from ipyannotator.annotator import Annotator`. "
   ]
  },
  {
   "cell_type": "code",
   "execution_count": null,
   "id": "810c4106",
   "metadata": {},
   "outputs": [],
   "source": [
    "#exporti\n",
    "show_doc(Annotator, title_level=3)"
   ]
  },
  {
   "cell_type": "markdown",
   "id": "7c6ab67b",
   "metadata": {},
   "source": [
    "The pairs of input/output available are listed on the [Input/Output Types](https://palaimon.github.io/ipyannotator/nbs/22_input_output_doc.html) section. \n",
    "\n",
    "When working with the `Annotator` class the input type is always required, but the output type has a `NoOutput` default option that returns an annotator to explore the input images. `NoOutput` usage can be found on the [Bounding Box Annotator Tutorial](https://palaimon.github.io/ipyannotator/nbs/01c_tutorial_bbox.html#explore)."
   ]
  },
  {
   "cell_type": "markdown",
   "id": "6e53ec99",
   "metadata": {},
   "source": [
    "### Actions"
   ]
  },
  {
   "cell_type": "markdown",
   "id": "8d7d2c09",
   "metadata": {},
   "source": [
    "Once the API is configured the following actions are available."
   ]
  },
  {
   "cell_type": "code",
   "execution_count": null,
   "id": "a899c11b",
   "metadata": {},
   "outputs": [],
   "source": [
    "#exporti\n",
    "show_doc(Annotator.explore)"
   ]
  },
  {
   "cell_type": "code",
   "execution_count": null,
   "id": "e1e8918b",
   "metadata": {},
   "outputs": [],
   "source": [
    "#exporti\n",
    "show_doc(Annotator.create)"
   ]
  },
  {
   "cell_type": "code",
   "execution_count": null,
   "id": "84c2193f",
   "metadata": {},
   "outputs": [],
   "source": [
    "#exporti\n",
    "show_doc(Annotator.improve)"
   ]
  },
  {
   "cell_type": "code",
   "execution_count": null,
   "id": "26cc23cf",
   "metadata": {},
   "outputs": [],
   "source": [
    "#hide\n",
    "from nbdev.export import notebook2script\n",
    "notebook2script()"
   ]
  },
  {
   "cell_type": "markdown",
   "id": "b19da654",
   "metadata": {},
   "source": [
    "### Settings\n",
    "\n",
    "The final piece of the configuration to access the Ipyannotator API is the `Settings` class that can be imported using `from ipyannotator.base import Settings`. Ipyannotator `Settings` class allow users to customize the folder structure to get the images, read annotations and store results, but also provides a default folder structure:\n",
    "\n",
    "```\n",
    "user_project\n",
    "│   annotation.json\n",
    "│\n",
    "└───images\n",
    "│   │   00001.png\n",
    "│   │   00002.png\n",
    "│   │   ...    \n",
    "│\n",
    "└───results\n",
    "    │ annotations.json\n",
    "\n",
    "```"
   ]
  },
  {
   "cell_type": "code",
   "execution_count": null,
   "id": "be811874",
   "metadata": {},
   "outputs": [],
   "source": [
    "#exporti\n",
    "show_doc(Settings, title_level=4)"
   ]
  }
 ],
 "metadata": {
  "kernelspec": {
   "display_name": "Python 3 (ipykernel)",
   "language": "python",
   "name": "python3"
  }
 },
 "nbformat": 4,
 "nbformat_minor": 5
}
