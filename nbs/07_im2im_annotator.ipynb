{
 "cells": [
  {
   "cell_type": "code",
   "execution_count": null,
   "metadata": {},
   "outputs": [],
   "source": [
    "# default_exp im2im_annotator"
   ]
  },
  {
   "cell_type": "code",
   "execution_count": null,
   "metadata": {},
   "outputs": [],
   "source": [
    "%load_ext autoreload\n",
    "%autoreload 2"
   ]
  },
  {
   "cell_type": "code",
   "execution_count": null,
   "metadata": {},
   "outputs": [],
   "source": [
    "from nbdev import *"
   ]
  },
  {
   "cell_type": "code",
   "execution_count": null,
   "metadata": {},
   "outputs": [],
   "source": [
    "#export\n",
    "\n",
    "import json\n",
    "import textwrap\n",
    "import uuid\n",
    "import os\n",
    "import random\n",
    "import re\n",
    "\n",
    "from functools import partial\n",
    "from math import ceil\n",
    "from pathlib import Path\n",
    "\n",
    "from ipycanvas import Canvas, hold_canvas\n",
    "from ipyevents import Event\n",
    "from ipywidgets import (AppLayout, VBox, HBox, Button, GridBox, Layout, Checkbox, HTML, IntText, Valid, Output, Image)\n",
    "from traitlets import Dict, Int, Float, HasTraits, observe, dlink, link, List, Unicode\n",
    "\n",
    "from ipyannotator.navi_widget import Navi\n",
    "from ipyannotator.storage import setup_project_paths, get_image_list_from_folder, AnnotationStorage\n",
    "from ipyannotator.capture_annotator import CaptureGrid\n",
    "from ipyannotator.image_button import ImageButton\n",
    "from ipyannotator.bbox_canvas import draw_img\n"
   ]
  },
  {
   "cell_type": "code",
   "execution_count": null,
   "metadata": {},
   "outputs": [],
   "source": [
    "# export\n",
    "\n",
    "class ImCanvas(HBox, HasTraits):\n",
    "    image_path = Unicode()\n",
    "    _image_scale = Float()\n",
    "    _image_rescale = Float(1.0)\n",
    "\n",
    "    def __init__(self, width=150, height=150):\n",
    " \n",
    "        self._canvas = Canvas(width=width, height=height)\n",
    "        self._initial_canvas_size = self._canvas.size\n",
    "\n",
    "        super().__init__([self._canvas])\n",
    "\n",
    "    def _draw_image(self, canvas_size=None):\n",
    "        self._image_scale = draw_img(self._canvas, self.image_path, clear=True,\n",
    "                                     canvas_size=canvas_size, rescale=self._image_rescale)\n",
    "\n",
    "    @observe('image_path')\n",
    "    def _call_draw_image(self, change):\n",
    "        self._draw_image(self._initial_canvas_size)\n",
    "\n",
    "    # Add value as a read-only property\n",
    "    @property\n",
    "    def image_scale(self):\n",
    "        return self._image_scale\n",
    "\n",
    "    @observe('_image_rescale')\n",
    "    def _redraw_image(self, change):\n",
    "        # Resize canvas\n",
    "        new_width = self._initial_canvas_size[0] * self._image_rescale\n",
    "        new_height = self._initial_canvas_size[1] * self._image_rescale\n",
    "        self._canvas.size = (new_width, new_height)\n",
    "        \n",
    "        # As draw_image method uses canvas current size, we pass\n",
    "        # as parameter the initial size of canvas (before rescaling it too)\n",
    "        self._draw_image(self._initial_canvas_size)\n",
    "\n",
    "    def _clear_image(self):\n",
    "        self._canvas.clear()\n",
    "\n",
    "    # needed to support voila\n",
    "    # https://ipycanvas.readthedocs.io/en/latest/advanced.html#ipycanvas-in-voila\n",
    "    def observe_client_ready(self, cb=None):\n",
    "        self._canvas.on_client_ready(cb)"
   ]
  },
  {
   "cell_type": "code",
   "execution_count": null,
   "metadata": {},
   "outputs": [],
   "source": [
    "im = ImCanvas(35, 35)\n",
    "im.image_path = '../data/projects/im2im1/class_images/blocks_1.png'\n",
    "display(im)\n",
    "im.image_scale"
   ]
  },
  {
   "cell_type": "code",
   "execution_count": null,
   "metadata": {},
   "outputs": [],
   "source": [
    "im._image_rescale = 2"
   ]
  },
  {
   "cell_type": "code",
   "execution_count": null,
   "metadata": {},
   "outputs": [],
   "source": [
    "im._clear_image()\n",
    "im.image_scale"
   ]
  },
  {
   "cell_type": "code",
   "execution_count": null,
   "metadata": {},
   "outputs": [],
   "source": [
    "#exporti\n",
    "\n",
    "class Im2ImAnnotatorGUI(AppLayout):\n",
    "    def __init__(self, im_width=300, im_height=300, \n",
    "                       label_width=150, label_height=150, \n",
    "                       n_rows=None, n_cols=None, label_autosize=False):\n",
    "            \n",
    "        if label_autosize:\n",
    "            if im_width <100 or im_height < 100:\n",
    "                label_width = 10\n",
    "                label_height = 10\n",
    "            elif im_width >1000 or im_height > 1000:\n",
    "                label_width = 50\n",
    "                label_height = 10\n",
    "            else:\n",
    "                label_width = min(im_width, im_height)/10\n",
    "                label_height = label_width\n",
    "                \n",
    "        self.label_width = label_width\n",
    "        self.label_height = label_height\n",
    "        self.n_rows = n_rows\n",
    "        self.n_cols = n_cols\n",
    "        \n",
    "        self._image = ImCanvas(width=im_width, height=im_height)\n",
    "            \n",
    "        self._navi = Navi(disable_resize=False)\n",
    "        \n",
    "        self._save_btn = Button(description=\"Save\",\n",
    "                                layout=Layout(width='auto'))\n",
    "        \n",
    "        \n",
    "        self._controls_box = HBox([self._navi, self._save_btn],\n",
    "                                 layout=Layout(display='flex', justify_content='center', flex_flow='wrap', align_items='center'))\n",
    "        \n",
    "        self._controls_box.add_class(\"im2im-annotator-class\")\n",
    "        display(HTML(\"<style>.im2im-annotator-class {margin-top: 10px;}</style>\"))\n",
    "         \n",
    "        self._grid_box = CaptureGrid(grid_item=ImageButton, image_width=label_width, image_height=label_height,  n_rows=n_rows, n_cols=n_cols)\n",
    "\n",
    "\n",
    "        self._grid_label = HTML(value=\"<b>LABEL</b>\",)\n",
    "        self._labels_box = VBox(children = [self._grid_label, self._grid_box],\n",
    "                                layout=Layout(display='flex', justify_content='center', flex_wrap='wrap', align_items='center'))     \n",
    "        \n",
    "        self._navi._size_dropdown.observe(self.change_scale, names='value')\n",
    "        \n",
    "        super().__init__(header=None,\n",
    "                 left_sidebar=VBox([self._image, self._controls_box], layout=Layout(display='flex', justify_content='center', flex_wrap='wrap', align_items='center')),\n",
    "                 center=self._labels_box,\n",
    "                 right_sidebar=None,\n",
    "                 footer=None,\n",
    "                 pane_widths=(6, 4, 0),\n",
    "                 pane_heights=(1, 1, 1))\n",
    "    \n",
    "    \n",
    "    def change_scale(self, change):\n",
    "        new_scale = int(change['new'])\n",
    "        if new_scale:\n",
    "            self._image._image_rescale = new_scale / 100\n",
    "        \n",
    "    def on_client_ready(self, callback):\n",
    "        self._image.observe_client_ready(callback)\n",
    "        "
   ]
  },
  {
   "cell_type": "code",
   "execution_count": null,
   "metadata": {},
   "outputs": [],
   "source": [
    "label_state = {\n",
    "    '../data/projects/im2im1/class_images/blocks_1.png': {'answer': False}, \n",
    "    '../data/projects/im2im1/class_images/blocks_9.png': {'answer': False},\n",
    "    '../data/projects/im2im1/class_images/blocks_12.png': {'answer': True},\n",
    "    '../data/projects/im2im1/class_images/blocks_32.png': {'answer': False},\n",
    "    '../data/projects/im2im1/class_images/blocks_37.png': {'answer': False},\n",
    "    '../data/projects/im2im1/class_images/blocks_69.png': {'answer': True}\n",
    "}"
   ]
  },
  {
   "cell_type": "code",
   "execution_count": null,
   "metadata": {},
   "outputs": [],
   "source": [
    "im2im_ = Im2ImAnnotatorGUI(im_height = 100, im_width = 100, label_width=50, label_height=50, n_rows=2, n_cols=3)\n",
    "im2im_._image.image_path='../data/projects/im2im1/pics/Grass1.png'\n",
    "im2im_"
   ]
  },
  {
   "cell_type": "code",
   "execution_count": null,
   "metadata": {},
   "outputs": [],
   "source": [
    "im2im_._image._image_rescale = 2"
   ]
  },
  {
   "cell_type": "code",
   "execution_count": null,
   "metadata": {},
   "outputs": [],
   "source": [
    "im2im_._grid_box.current_state = label_state"
   ]
  },
  {
   "cell_type": "code",
   "execution_count": null,
   "metadata": {},
   "outputs": [],
   "source": [
    "#exporti\n",
    "def _label_state_to_storage_format(label_state):\n",
    "    return [Path(k).name for k, v in label_state.items() if v['answer']]"
   ]
  },
  {
   "cell_type": "code",
   "execution_count": null,
   "metadata": {},
   "outputs": [],
   "source": [
    "label_state_storage = _label_state_to_storage_format(label_state); label_state_storage"
   ]
  },
  {
   "cell_type": "code",
   "execution_count": null,
   "metadata": {},
   "outputs": [],
   "source": [
    "#exporti\n",
    "def _storage_format_to_label_state(storage_format, label_names, label_dir):\n",
    "    return {str(Path(label_dir)/label): {'answer': label in storage_format} for label in label_names}"
   ]
  },
  {
   "cell_type": "code",
   "execution_count": null,
   "metadata": {},
   "outputs": [],
   "source": [
    "label_names = ['blocks_1.png', 'blocks_9.png', 'blocks_12.png', 'blocks_32.png', 'blocks_37.png', 'blocks_69.png']\n",
    "restored_label_state = _storage_format_to_label_state(label_state_storage, label_names, '../data/projects/im2im1/class_images/')\n",
    "test_eq(label_state, restored_label_state)"
   ]
  },
  {
   "cell_type": "code",
   "execution_count": null,
   "metadata": {},
   "outputs": [],
   "source": [
    "import tempfile\n",
    "tmp_dir = tempfile.TemporaryDirectory(); \n",
    "\n",
    "print(tmp_dir.name)"
   ]
  },
  {
   "cell_type": "code",
   "execution_count": null,
   "metadata": {},
   "outputs": [],
   "source": [
    "# dataset generator annotation format\n",
    "\n",
    "# annotations = {\n",
    "#     'img_0.jpg': {'labels': [('red', 'rectangle'), ('red', 'rectangle')], \n",
    "#                   'bboxs': [(3, 21, 82, 82), (19, 98, 82, 145)]}, \n",
    "#     'img_1.jpg': {'labels': [('blue', 'ellipse')], \n",
    "#                   'bboxs': [(22, 51, 67, 84)]}, \n",
    "#     'img_2.jpg': {'labels': [('yellow', 'ellipse'), ('yellow', 'ellipse'), ('blue', 'rectangle')], \n",
    "#                   'bboxs': [(75, 33, 128, 120), (4, 66, 59, 95), (30, 35, 75, 62)]}, \n",
    "#     'img_3.jpg': {'labels': [('blue', 'ellipse'), ('red', 'ellipse'), ('yellow', 'ellipse')], \n",
    "#                   'bboxs': [(47, 55, 116, 96), (99, 27, 138, 50), (0, 3, 47, 56)]}\n",
    "# }"
   ]
  },
  {
   "cell_type": "code",
   "execution_count": null,
   "metadata": {},
   "outputs": [],
   "source": [
    "#old ipyannotator annotation format\n",
    "\n",
    "annotations = {\n",
    "    str(Path(tmp_dir.name) / 'img_0.jpg'): ['yellow.jpg'],\n",
    "    str(Path(tmp_dir.name) / 'img_1.jpg'): ['red'],\n",
    "    str(Path(tmp_dir.name) / 'img_2.jpg'): ['red'],\n",
    "    str(Path(tmp_dir.name) / 'img_3.jpg'): ['red'],\n",
    "    str(Path(tmp_dir.name) / 'img_4.jpg'): ['yellow'],\n",
    "    str(Path(tmp_dir.name) / 'img_5.jpg'): ['yellow'],\n",
    "    str(Path(tmp_dir.name) / 'img_6.jpg'): ['yellow'],\n",
    "    str(Path(tmp_dir.name) / 'img_7.jpg'): ['blue'],\n",
    "    str(Path(tmp_dir.name) / 'img_8.jpg'): ['blue'],\n",
    "    str(Path(tmp_dir.name) / 'img_9.jpg'): ['yellow']\n",
    "}"
   ]
  },
  {
   "cell_type": "code",
   "execution_count": null,
   "metadata": {},
   "outputs": [],
   "source": [
    "annot_file = Path(tmp_dir.name)/'annotations.json'\n",
    "with open(annot_file, 'w') as f:\n",
    "        json.dump(annotations, f, indent=2)"
   ]
  },
  {
   "cell_type": "code",
   "execution_count": null,
   "metadata": {},
   "outputs": [],
   "source": [
    "#     with open(Path(tmp_dir.name) / 'annotations.json') as json_file:\n",
    "#         data = json.load(json_file)\n",
    "#         unique_classes = set(flatten([a['labels'] for a in data.values()]))\n",
    "#         print(unique_classes)"
   ]
  },
  {
   "cell_type": "code",
   "execution_count": null,
   "metadata": {},
   "outputs": [],
   "source": [
    "# !cat {annot_file}"
   ]
  },
  {
   "cell_type": "code",
   "execution_count": null,
   "metadata": {},
   "outputs": [],
   "source": [
    "#exporti\n",
    "\n",
    "from PIL import Image, ImageDraw, ImageFont\n",
    "\n",
    "\n",
    "def text_on_img(text=\"Hello\", lbl_w=None, lbl_h=None, font_size=14, filepath=None):\n",
    "    font = ImageFont.truetype(\"lte50712.ttf\", font_size)\n",
    "    \n",
    "    if lbl_w is None:\n",
    "        lbl_w = 150\n",
    "    if lbl_h is None:\n",
    "        lbl_h = 150\n",
    "        \n",
    "    assert(text)\n",
    "    \n",
    "    text = text.upper()\n",
    "    \n",
    "    ascent, descent = font.getmetrics()\n",
    "\n",
    "    text_width = font.getmask(text).getbbox()[2]\n",
    "    text_height = font.getmask(text).getbbox()[3] + descent\n",
    "\n",
    "    m_width, m_heigth = font.getsize(\"M\")\n",
    "    char_num_per_line = lbl_w // m_width\n",
    "    \n",
    "    image = Image.new(mode = \"RGB\", size = (lbl_w, lbl_h), color = \"white\")\n",
    "    draw = ImageDraw.Draw(image)\n",
    "     \n",
    "    words = text.split()\n",
    "    if len(words) <= 2 and all(font.getsize(w)[0] < lbl_w for w in words):\n",
    "        t_wrapper = words\n",
    "    else:\n",
    "        t_wrapper = textwrap.wrap(text, char_num_per_line)\n",
    "    \n",
    "    \n",
    "    offset = (lbl_h - (m_heigth * len(t_wrapper))) // 2\n",
    "\n",
    "    for line in t_wrapper:\n",
    "        line_w, line_h = font.getsize(line)\n",
    "        draw.text(((lbl_w - line_w) // 2, offset), line, font=font, fill=(0,0,0))\n",
    "        offset += line_h\n",
    "\n",
    "    if filepath:\n",
    "        image.save(filepath)\n",
    "        \n",
    "    return image\n",
    "\n",
    "\n",
    "\n",
    "\n",
    "text_on_img(text=\"new labe\")"
   ]
  },
  {
   "cell_type": "code",
   "execution_count": null,
   "metadata": {},
   "outputs": [],
   "source": [
    "#exporti\n",
    "\n",
    "try:\n",
    "    from collections.abc import Iterable\n",
    "except ImportError:\n",
    "    from collections import Iterable\n",
    "    \n",
    "def flatten(lis):\n",
    "    for item in lis:\n",
    "            if isinstance(item, Iterable) and not isinstance(item, str):\n",
    "                for x in flatten(item):\n",
    "                    yield x\n",
    "            else:        \n",
    "                yield item"
   ]
  },
  {
   "cell_type": "code",
   "execution_count": null,
   "metadata": {},
   "outputs": [],
   "source": [
    "list(flatten([1, 2, [3, 4], 5]))"
   ]
  },
  {
   "cell_type": "code",
   "execution_count": null,
   "metadata": {},
   "outputs": [],
   "source": [
    "assert (list(flatten([1,2,[3,4,5, [6,7]], 8, [9, 10]])) == list(range(1, 11)))"
   ]
  },
  {
   "cell_type": "code",
   "execution_count": null,
   "metadata": {},
   "outputs": [],
   "source": [
    "#exporti\n",
    "\n",
    "def reconstruct_class_images(label_dir, annotation_file, lbl_w=None, lbl_h=None):\n",
    "    with open(annotation_file) as json_file:\n",
    "        data = json.load(json_file)\n",
    "        unique_classes = set(flatten(data.values())) # ipyannotator format\n",
    "    \n",
    "    for cl_name in unique_classes:\n",
    "        if cl_name is None:\n",
    "            cl_name = \"None\"\n",
    "            \n",
    "        cl_im_name = f'{cl_name}.jpg' if not re.findall(\"([-\\w]+\\.(?:jpg|png|jpeg))\", cl_name, re.IGNORECASE) else cl_name\n",
    "   \n",
    "        text_on_img(text = os.path.splitext(cl_name)[0], filepath = label_dir/cl_im_name, lbl_w=lbl_w, lbl_h=lbl_h)"
   ]
  },
  {
   "cell_type": "code",
   "execution_count": null,
   "metadata": {},
   "outputs": [],
   "source": [
    "fol = Path(tmp_dir.name)/'autogenerated'\n",
    "fol.mkdir(parents=True, exist_ok=True)\n",
    "reconstruct_class_images(fol, annot_file)"
   ]
  },
  {
   "cell_type": "code",
   "execution_count": null,
   "metadata": {},
   "outputs": [],
   "source": [
    "clas_path = Path(tmp_dir.name)/'autogenerated'\n",
    "print(clas_path)\n",
    "!ls {clas_path}"
   ]
  },
  {
   "cell_type": "code",
   "execution_count": null,
   "metadata": {},
   "outputs": [],
   "source": [
    "#exporti\n",
    "\n",
    "class Im2ImAnnotatorLogic(HasTraits):\n",
    "    debug_output = Output(layout={'border': '1px solid black'})\n",
    "    index = Int(0) # state index\n",
    "    image_path = Unicode() # current image path\n",
    "    current_im_num = Int()\n",
    "    disp_number = Int() # number of labels on screen\n",
    "    label_state = Dict()\n",
    "    question_value = Unicode()\n",
    "\n",
    "    \n",
    "    def __init__(self, project_path, file_name=None, question=None, \n",
    "                 image_dir='pics', step_down=False,\n",
    "                 label_dir=None, results_dir=None, lbl_w=None, lbl_h=None, n_cols=None, n_rows=None):\n",
    "        \n",
    "        self.project_path = Path(project_path)\n",
    "        self.step_down = step_down\n",
    "        self.image_dir, self.annotation_file_path = setup_project_paths(self.project_path,\n",
    "                                                                        file_name=file_name,\n",
    "                                                                        image_dir=image_dir,\n",
    "                                                                        results_dir=results_dir)\n",
    "                      \n",
    "        # artificialy generate labels if no class images given\n",
    "        if label_dir is None:\n",
    "            self.label_dir = Path(self.project_path, 'class_autogenerated_' + ''.join(random.sample(str(uuid.uuid4()), 5)))\n",
    "            self.label_dir.mkdir(parents=True, exist_ok=True)\n",
    "            \n",
    "            question = 'Autogenerated classes'\n",
    "            \n",
    "            if self.annotation_file_path.exists():\n",
    "                reconstruct_class_images(self.label_dir, self.annotation_file_path, lbl_w=lbl_w, lbl_h=lbl_h)\n",
    "            else:\n",
    "                text_on_img(text = 'None', filepath = self.label_dir /'None.jpg', lbl_w=lbl_w, lbl_h=lbl_h)       \n",
    "        else:\n",
    "            self.label_dir = Path(self.project_path, label_dir)\n",
    "            \n",
    "            \n",
    "        # select images and labels only given annotatin file\n",
    "        if self.annotation_file_path.is_file():\n",
    "            with self.annotation_file_path.open() as json_file:\n",
    "                data = json.load(json_file)\n",
    "                im_names = data.keys()\n",
    "                unique_labels = set(flatten(data.values()))\n",
    "            self.image_paths = sorted(im for im in get_image_list_from_folder(self.image_dir) if str(im) in im_names)\n",
    "            self.labels_files = sorted(im for im in get_image_list_from_folder(self.label_dir, strip_path=True) if str(im) in unique_labels)\n",
    "        else:\n",
    "            self.image_paths = sorted(get_image_list_from_folder(self.image_dir))\n",
    "            self.labels_files = sorted(get_image_list_from_folder(self.label_dir, strip_path=True))\n",
    "            \n",
    "        if not self.image_paths:\n",
    "            raise Exception (\"!! No Images to dipslay !!\")\n",
    "        if not self.labels_files:\n",
    "            print(\"!! No labels to display !!\")\n",
    "            \n",
    "        self.current_im_num = len(self.image_paths)\n",
    "        labels_num = len(self.labels_files)\n",
    "        \n",
    "        if n_cols is None:\n",
    "            if n_rows is None:  # automatic arrange\n",
    "                self.label_cols = 3\n",
    "                self.label_rows = ceil(labels_num / self.label_cols)\n",
    "            else:  # calc cols to show all labels\n",
    "                self.label_rows = n_rows\n",
    "                self.label_cols = ceil(labels_num / self.label_rows)\n",
    "                \n",
    "        else: \n",
    "            if n_rows is None:  # calc rows to show all labels\n",
    "                self.label_cols = n_cols\n",
    "                self.label_rows = ceil(labels_num / self.label_cols) \n",
    "            else:  # user defined\n",
    "                self.label_cols = n_cols\n",
    "                self.label_rows = n_rows\n",
    "        \n",
    "        if (self.label_cols * self.label_rows < labels_num):\n",
    "            print(\"!! Not all labels shown. Check n_cols, n_rows args !!\")\n",
    "        \n",
    "        self.annotations = AnnotationStorage(self.image_paths, dir_in_label=step_down)\n",
    "        \n",
    "        if self.annotation_file_path.exists():\n",
    "            self.annotations.load(self.annotation_file_path)\n",
    "        else:\n",
    "            self.annotations.save(self.annotation_file_path)\n",
    "        \n",
    "        if question:\n",
    "            self.question_value = f'<center><p style=\"font-size:20px;\">{question}</p></center>'\n",
    "        \n",
    "        \n",
    "    def _update_im(self):\n",
    "        self.image_path = str(self.image_paths[self.index])\n",
    "        \n",
    "        \n",
    "    def _update_state(self, change=None): # from annotations \n",
    "        if not self.image_path:\n",
    "            return\n",
    "        \n",
    "        if self.image_path in self.annotations:\n",
    "            current_annotation = self.annotations[self.image_path]\n",
    "            self.label_state = _storage_format_to_label_state(storage_format=current_annotation or [],\n",
    "                                                              label_names=self.labels_files,\n",
    "                                                              label_dir=self.label_dir)\n",
    "\n",
    "\n",
    "    def _update_annotations(self, index): # from screen\n",
    "        if self.image_path:\n",
    "            self.annotations[self.image_path] = _label_state_to_storage_format(self.label_state)\n",
    "        \n",
    "    def _save_annotations(self, *args, **kwargs): # to disk\n",
    "        index = kwargs.pop('old_index', self.index)\n",
    "        self._update_annotations(index)          \n",
    "        self.annotations.save(self.annotation_file_path)\n",
    "        \n",
    "        \n",
    "    @observe('index')\n",
    "    def _idx_changed(self, change):\n",
    "        ''' On index change save old state \n",
    "            and update current state for visualisation\n",
    "        '''\n",
    "        self._save_annotations(old_index = change['old'])\n",
    "        # update new screen\n",
    "        self._update_im()\n",
    "        self._update_state()\n",
    "\n",
    "        \n",
    "    @debug_output.capture(clear_output=False)\n",
    "    def _handle_grid_click(self, event, name=None):\n",
    "        label_changed = Path(self.label_dir,  name)\n",
    "        \n",
    "        if label_changed.is_dir():\n",
    "            # button without image - invalid\n",
    "            return\n",
    "        \n",
    "        label_changed = str(label_changed)\n",
    "        current_label_state = self.label_state.copy()\n",
    "        \n",
    "        # inverse state\n",
    "        current_label_state[label_changed] = {'answer': not self.label_state[label_changed].get('answer', False)}\n",
    "        \n",
    "        # change traitlets.Dict entirely to have change events issued\n",
    "        self.label_state = current_label_state\n",
    "        \n",
    "\n",
    "    def _handle_client_ready(self):\n",
    "        self._update_im()\n",
    "        self._update_state()"
   ]
  },
  {
   "cell_type": "code",
   "execution_count": null,
   "metadata": {},
   "outputs": [],
   "source": [
    "i_ = Im2ImAnnotatorLogic(project_path='../data/projects/im2im1/', label_dir='class_images')\n",
    "# cal.disp_number = 9 # should be synced from gui \n",
    "i_.image_dir, i_.annotation_file_path, i_.label_dir, i_.current_im_num, "
   ]
  },
  {
   "cell_type": "markdown",
   "metadata": {},
   "source": [
    "##### (Next-> button emulation) \n",
    "Increment index to initiate annotation save and switch state for a new screen"
   ]
  },
  {
   "cell_type": "code",
   "execution_count": null,
   "metadata": {},
   "outputs": [],
   "source": [
    "i_.index=2\n",
    "display(i_.label_state)"
   ]
  },
  {
   "cell_type": "code",
   "execution_count": null,
   "metadata": {},
   "outputs": [],
   "source": [
    "#export\n",
    "\n",
    "class Im2ImAnnotator(Im2ImAnnotatorGUI):\n",
    "    \n",
    "    def __init__(self, project_path, file_name=None, image_dir=None, step_down=False, label_dir=None, results_dir=None, \n",
    "                 im_width=100, im_height=100, label_width=150, label_height=150, \n",
    "                 n_rows=None, n_cols=None, label_autosize=False, question=None):\n",
    "        \n",
    "        self._model = Im2ImAnnotatorLogic(project_path=project_path, file_name=file_name, question=question, \n",
    "                                           image_dir=image_dir, step_down=step_down,\n",
    "                                           label_dir=label_dir, results_dir=results_dir,\n",
    "                                           lbl_w=label_width, lbl_h=label_height,\n",
    "                                           n_rows=n_rows, n_cols=n_cols)\n",
    "        \n",
    "        \n",
    "        super().__init__(im_width, im_height, \n",
    "                         label_width, label_height, \n",
    "                         n_rows = self._model.label_rows, n_cols = self._model.label_cols, \n",
    "                         label_autosize = label_autosize)\n",
    "        \n",
    "        self._save_btn.on_click(self._model._save_annotations)        \n",
    "\n",
    "        self._grid_box.on_click(self._model._handle_grid_click)\n",
    "            \n",
    "        # set correct slider max value based on image number\n",
    "        dlink((self._model, 'current_im_num'), (self._navi.model, 'max_im_number'))\n",
    "        \n",
    "        # link current image index from controls to annotator model \n",
    "        link((self._navi.model, 'index'), (self._model, 'index'))\n",
    "        \n",
    "        # link annotation question \n",
    "        link((self._model, 'question_value'), (self._grid_label, 'value'))\n",
    "        \n",
    "        #link image vizualizer\n",
    "        dlink((self._model, 'image_path'), (self._image, 'image_path'))\n",
    "        \n",
    "        # draw current image and bbox only when client is ready\n",
    "        self.on_client_ready(self._model._handle_client_ready)\n",
    "        \n",
    "        # link state of model and grid box visualizer\n",
    "        link((self._model, 'label_state'), (self._grid_box, 'current_state'))\n",
    "        \n",
    "            \n",
    "    def to_dict(self, only_annotated=True):\n",
    "        return self._model.annotations.to_dict(only_annotated)"
   ]
  },
  {
   "cell_type": "code",
   "execution_count": null,
   "metadata": {},
   "outputs": [],
   "source": [
    "im2im = Im2ImAnnotator(project_path='../data/projects/im2im1', image_dir='pics',\n",
    "#                         label_dir='class_images',\n",
    "                        label_dir=None,\n",
    "                        results_dir=None,\n",
    "                        im_width=300, im_height=300, \n",
    "                        label_width=150, label_height=50,\n",
    "                        n_cols=2, \n",
    "#                         n_rows=3,\n",
    "#                         label_autosize=True, \n",
    "                        question=\"HelloWorld\")\n",
    "\n",
    "im2im"
   ]
  },
  {
   "cell_type": "code",
   "execution_count": null,
   "metadata": {},
   "outputs": [],
   "source": [
    "im2im.to_dict()"
   ]
  },
  {
   "cell_type": "code",
   "execution_count": null,
   "metadata": {},
   "outputs": [],
   "source": [
    "im2im._model.debug_output"
   ]
  },
  {
   "cell_type": "code",
   "execution_count": null,
   "metadata": {},
   "outputs": [],
   "source": [
    "#hide\n",
    "from nbdev.export import notebook2script\n",
    "notebook2script()"
   ]
  },
  {
   "cell_type": "code",
   "execution_count": null,
   "metadata": {},
   "outputs": [],
   "source": []
  }
 ],
 "metadata": {
  "kernelspec": {
   "display_name": "Python 3",
   "language": "python",
   "name": "python3"
  }
 },
 "nbformat": 4,
 "nbformat_minor": 4
}
