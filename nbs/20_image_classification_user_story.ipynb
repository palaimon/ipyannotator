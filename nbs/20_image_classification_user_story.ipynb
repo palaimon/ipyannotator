{
 "cells": [
  {
   "cell_type": "code",
   "execution_count": null,
   "id": "b4fb4020-7a04-47eb-9629-b59535366db3",
   "metadata": {},
   "outputs": [],
   "source": [
    "#all_slow"
   ]
  },
  {
   "cell_type": "markdown",
   "id": "f82b9d31",
   "metadata": {},
   "source": [
    "# Image classification - Real project example with CIFAR-10 dataset\n",
    "\n",
    "This notebook will exemplify how to do image classification in Ipyannotator using one of the most commonly used datasets in deep learning: [CIFAR-10](https://www.cs.toronto.edu/~kriz/cifar.html). The dataset contains 60000 32x32 images in 10 classes."
   ]
  },
  {
   "cell_type": "markdown",
   "id": "b464e38d-ba40-40b1-b45d-2f1140750cfa",
   "metadata": {},
   "source": [
    "## Setup data for a fictive greenfield project\n",
    "\n",
    "The first step is to download the dataset. The next cell will use the [pooch](https://github.com/fatiando/pooch) library to easily fetch the data files from s3."
   ]
  },
  {
   "cell_type": "code",
   "execution_count": null,
   "id": "1c27e27b-a51c-456a-b977-77d7eb0545ca",
   "metadata": {},
   "outputs": [],
   "source": [
    "from pathlib import Path\n",
    "import pooch"
   ]
  },
  {
   "cell_type": "code",
   "execution_count": null,
   "id": "8570f8ad-2d2a-4efe-b82b-e4ccde94d769",
   "metadata": {},
   "outputs": [],
   "source": [
    "file_path = pooch.retrieve(\n",
    "    # URL to one of Pooch's test files\n",
    "    url=\"https://s3.amazonaws.com/fast-ai-imageclas/cifar10.tgz\",\n",
    "    known_hash=\"sha256:637c5814e11aefcb6ee76d5f59c67ddc8de7f5b5077502a195b0833d1e3e4441\",\n",
    ")"
   ]
  },
  {
   "cell_type": "markdown",
   "id": "f48accc5",
   "metadata": {},
   "source": [
    "Pooch retrieves the data to your local machine. The next cell will display the exact path where the files were downloaded."
   ]
  },
  {
   "cell_type": "code",
   "execution_count": null,
   "id": "c0cb45bb-b5a0-4b0d-a1a1-2a402f1b8bab",
   "metadata": {},
   "outputs": [],
   "source": [
    "file_path"
   ]
  },
  {
   "cell_type": "markdown",
   "id": "62775b51",
   "metadata": {},
   "source": [
    "Since the CITAR-10 dataset is downloaded as a compressed `tar` file, the next cells will extract the files. \n",
    "\n",
    "Ipyannotator has some internal tools to manipulate data, which is the case of the `_extract_tar` function used below to extract the files and move them to a new folder `tmp`."
   ]
  },
  {
   "cell_type": "code",
   "execution_count": null,
   "id": "ac3fe417-05e6-4e91-9d0b-3c1db2d318f6",
   "metadata": {},
   "outputs": [],
   "source": [
    "from ipyannotator.datasets.download import _extract_tar"
   ]
  },
  {
   "cell_type": "code",
   "execution_count": null,
   "id": "dd2d9bb8-5d08-4584-a4fd-c21b43a562bf",
   "metadata": {},
   "outputs": [],
   "source": [
    "_extract_tar(file_path, Path('/tmp'))"
   ]
  },
  {
   "cell_type": "markdown",
   "id": "e3c7d484",
   "metadata": {},
   "source": [
    "Ipyannotator uses the following path setup:\n",
    "\n",
    "```\n",
    "project_root\n",
    "│\n",
    "│─── images\n",
    "│\n",
    "└─── results\n",
    "```\n",
    "\n",
    "The `project root` is the folder that contains folders for the image raw data and the annotation results. `Images` is the folder that contains all images that can displayed by the navigator and are used to create the dataset by the annotator. The `results` folder stores the dataset. The folder names can be chosen by the user. By default Ipyannotator uses `images` and `results`.\n",
    "\n",
    "The next cell defines a project root called `user_project` and creates a new folder called `images` inside of it."
   ]
  },
  {
   "cell_type": "code",
   "execution_count": null,
   "id": "93b5b0cc-4660-4dd5-918c-926c3249a90c",
   "metadata": {},
   "outputs": [],
   "source": [
    "project_root = Path('user_project')\n",
    "(project_root / 'images').mkdir(parents=True, exist_ok=True)"
   ]
  },
  {
   "cell_type": "markdown",
   "id": "4549175b",
   "metadata": {},
   "source": [
    "Once the folder structure is created, the files are downloaded and extracted, they will be moved to the `images` folder. \n",
    "\n",
    "The next cell copies the 200 random images from the CIFAR-10 dataset to the Ipyannotator path structure."
   ]
  },
  {
   "cell_type": "code",
   "execution_count": null,
   "id": "3f4a6f36-45e6-4f53-af8e-35a9a16c38a3",
   "metadata": {},
   "outputs": [],
   "source": [
    "import shutil\n",
    "import random\n",
    "\n",
    "classes = \"airplane  automobile  bird  cat  deer  dog  frog  horse  ship  truck\".split()\n",
    "for i in range(1, 200):\n",
    "    rand_class = random.randint(0, 9)\n",
    "    shutil.copy(\n",
    "        Path('/tmp') / \"cifar10/train\" / classes[rand_class] / f\"{i:04}.png\",\n",
    "        project_root / 'images')"
   ]
  },
  {
   "cell_type": "markdown",
   "id": "0e5cca56-a7b8-4562-8bec-eb1cfea08b3a",
   "metadata": {},
   "source": [
    "## Story"
   ]
  },
  {
   "cell_type": "markdown",
   "id": "d972ee2f-4c15-422a-8526-38fa228e2c13",
   "metadata": {},
   "source": [
    "In the current step we have 200 images from random classes and we need to classify them. The first step is to have a look at the images before checking which classes need to be set in the classification.\n",
    "\n",
    "Ipyannotator uses an API to ensure easy access to the annotators. The next cell will import the `Annotator` factory, that provides a simple function `InputImage` to explore images."
   ]
  },
  {
   "cell_type": "code",
   "execution_count": null,
   "id": "eeaa6080-1111-4a28-a34c-7da3033d9f43",
   "metadata": {},
   "outputs": [],
   "source": [
    "from ipyannotator.mltypes import InputImage\n",
    "from ipyannotator.annotator import Annotator"
   ]
  },
  {
   "cell_type": "markdown",
   "id": "e786e563",
   "metadata": {},
   "source": [
    "CIFAR-10 uses 32x32 px color images. The small size of the images makes the visualization difficult. Therefore, the `fit_canvas` property will be used in the next cell to improve the visual appearance, displaying the image at the same size of the `InputImage`."
   ]
  },
  {
   "cell_type": "code",
   "execution_count": null,
   "id": "6cf0de9c-0a16-4a4f-a21d-9c036d4d3727",
   "metadata": {},
   "outputs": [],
   "source": [
    "input_ = InputImage(image_width=100, image_height=100, image_dir='images', fit_canvas=True)"
   ]
  },
  {
   "cell_type": "markdown",
   "id": "a66d118c",
   "metadata": {},
   "source": [
    "To use the `Annotator` factory, a simple pair of `Input/Output` is used. Omitting the output, Ipyannotator will use `NoOutput` as default. In this case, the user can only navigate across the input images and labels/classes are not displayed in the explore function. "
   ]
  },
  {
   "cell_type": "code",
   "execution_count": null,
   "id": "58021121-989d-437e-8f02-61519e2a1f83",
   "metadata": {},
   "outputs": [],
   "source": [
    "Annotator(input_).explore()"
   ]
  },
  {
   "cell_type": "markdown",
   "id": "ebcdb3cf",
   "metadata": {},
   "source": [
    "As mentioned before, the Ipyannotator path setup provides some default names for the folders. These names can be changed using the `Settings` property. The next cells demonstrates how to use the settings property to customize the folder structure."
   ]
  },
  {
   "cell_type": "code",
   "execution_count": null,
   "id": "4962f95b",
   "metadata": {},
   "outputs": [],
   "source": [
    "from ipyannotator.base import Settings"
   ]
  },
  {
   "cell_type": "code",
   "execution_count": null,
   "id": "d7671934",
   "metadata": {},
   "outputs": [],
   "source": [
    "settings = Settings(\n",
    "    project_path=Path('user_project'),\n",
    "    image_dir='images',\n",
    "    result_dir='results'\n",
    ")"
   ]
  },
  {
   "cell_type": "code",
   "execution_count": null,
   "id": "41c42447-228b-47c1-929e-a94a88747cc8",
   "metadata": {},
   "outputs": [],
   "source": [
    "anni = Annotator(input_, settings=settings)"
   ]
  },
  {
   "cell_type": "code",
   "execution_count": null,
   "id": "2854fad6",
   "metadata": {},
   "outputs": [],
   "source": [
    "anni.explore()"
   ]
  },
  {
   "cell_type": "markdown",
   "id": "7de0b05a",
   "metadata": {},
   "source": [
    "Once the user has gained an overview on the input image dataset, the user can define classes to label the images. Using `OutputLabel` you can define the classes that will be used to label the images. \n",
    "\n",
    "The `class_labels` property at `OutputLabel` allows an array of classes to be used in the classification. Since CIFAR-10 uses 10 classes, these are going to be used in the next cells."
   ]
  },
  {
   "cell_type": "code",
   "execution_count": null,
   "id": "df10ea9c-7584-4a7b-8a95-0d228d5013b6",
   "metadata": {},
   "outputs": [],
   "source": [
    "from ipyannotator.mltypes import OutputLabel\n",
    "output_ = OutputLabel(class_labels=classes)"
   ]
  },
  {
   "cell_type": "code",
   "execution_count": null,
   "id": "aa04cf5e-b545-4412-a434-faa6470aedec",
   "metadata": {},
   "outputs": [],
   "source": [
    "anni = Annotator(input_, output_, settings)"
   ]
  },
  {
   "cell_type": "code",
   "execution_count": null,
   "id": "2a7461b5-9364-4965-8e89-e24e6df549b3",
   "metadata": {},
   "outputs": [],
   "source": [
    "anni.explore()"
   ]
  },
  {
   "cell_type": "markdown",
   "id": "229594cd",
   "metadata": {},
   "source": [
    "To create your own dataset you just have to call the `create` step at the `Annotator` factory. This step will allow users to associate the classes to a image."
   ]
  },
  {
   "cell_type": "code",
   "execution_count": null,
   "id": "31eb7b67-7e50-44c4-9c30-df901cf3a647",
   "metadata": {},
   "outputs": [],
   "source": [
    "anni.create()"
   ]
  },
  {
   "cell_type": "code",
   "execution_count": null,
   "id": "48a6c31b",
   "metadata": {},
   "outputs": [],
   "source": []
  }
 ],
 "metadata": {
  "kernelspec": {
   "display_name": "Python 3",
   "language": "python",
   "name": "python3"
  }
 },
 "nbformat": 4,
 "nbformat_minor": 5
}
