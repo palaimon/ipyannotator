{
 "cells": [
  {
   "cell_type": "code",
   "execution_count": null,
   "metadata": {},
   "outputs": [],
   "source": [
    "# default_exp datasets.generators_legacy"
   ]
  },
  {
   "cell_type": "code",
   "execution_count": null,
   "metadata": {},
   "outputs": [],
   "source": [
    "%load_ext autoreload\n",
    "%autoreload 2"
   ]
  },
  {
   "cell_type": "code",
   "execution_count": null,
   "metadata": {},
   "outputs": [],
   "source": [
    "from nbdev import *\n",
    "from typing import List, Tuple"
   ]
  },
  {
   "cell_type": "code",
   "execution_count": null,
   "metadata": {},
   "outputs": [],
   "source": [
    "# exporti\n",
    "import numpy as np\n",
    "import json"
   ]
  },
  {
   "cell_type": "code",
   "execution_count": null,
   "metadata": {},
   "outputs": [],
   "source": [
    "#exporti\n",
    "from PIL import Image, ImageDraw"
   ]
  },
  {
   "cell_type": "markdown",
   "metadata": {},
   "source": [
    "# Helpers for Dataset Generation"
   ]
  },
  {
   "cell_type": "markdown",
   "metadata": {},
   "source": [
    "## Use tmp dir"
   ]
  },
  {
   "cell_type": "code",
   "execution_count": null,
   "metadata": {},
   "outputs": [],
   "source": [
    "import tempfile\n",
    "tmp_dir = tempfile.TemporaryDirectory()\n",
    "tmp_dir.name"
   ]
  },
  {
   "cell_type": "code",
   "execution_count": null,
   "metadata": {},
   "outputs": [],
   "source": [
    "from pathlib import Path\n",
    "\n",
    "f_path = Path(tmp_dir.name) / 'test.csv'\n",
    "f_path"
   ]
  },
  {
   "cell_type": "code",
   "execution_count": null,
   "metadata": {},
   "outputs": [],
   "source": [
    "import pandas as pd\n",
    "from pandas import DataFrame\n",
    "\n",
    "DataFrame({'a': [4], 'b': 5}).to_csv(f_path, index=False)\n",
    "pd.read_csv(f_path)"
   ]
  },
  {
   "cell_type": "markdown",
   "metadata": {},
   "source": [
    "## Create images"
   ]
  },
  {
   "cell_type": "code",
   "execution_count": null,
   "metadata": {},
   "outputs": [],
   "source": [
    "im = Image.new('RGB', (500, 300), (128, 128, 128))\n",
    "draw = ImageDraw.Draw(im)\n",
    "\n",
    "draw.ellipse((100, 100, 150, 200), fill=(255, 0, 0), outline=(0, 0, 0))\n",
    "draw.rectangle((200, 100, 300, 200), fill=(0, 192, 192), outline=(255, 255, 255))\n",
    "draw.line((350, 200, 450, 100), fill=(255, 255, 0), width=10)\n",
    "im"
   ]
  },
  {
   "cell_type": "code",
   "execution_count": null,
   "metadata": {},
   "outputs": [],
   "source": [
    "def draw_grid(im=None, size=(100, 100), n_hlines=10, n_vlines=10, black=True):\n",
    "    \"\"\"\n",
    "    size: (width, hight)\n",
    "    black: bool\n",
    "         draw grid and numbers in black or white\n",
    "    \"\"\"\n",
    "    color = (0, 0, 0)\n",
    "    if not black:\n",
    "        color = (255, 255, 255)\n",
    "    if im is None:\n",
    "        im = Image.new('RGB', size, color=(211, 211, 211))\n",
    "    width, hight = im.size\n",
    "    draw = ImageDraw.Draw(im)\n",
    "    ln_width = int((max(size) * 0.03) / max(n_hlines, n_vlines))\n",
    "\n",
    "    for h in range(n_hlines):\n",
    "        y = hight * h * (1 / n_hlines)\n",
    "        draw.line((0, y, width, y), fill=color, width=ln_width)\n",
    "        draw.text((width * 0.05, y), text=str((int(y))) + 'y',\n",
    "                  fill=color)\n",
    "        draw.text((width * 0.9, y), text=str((int(y))) + 'y', fill=color)\n",
    "\n",
    "    for h in range(n_vlines):\n",
    "        x = width * h * (1 / n_vlines)\n",
    "        draw.line((x, 0, x, hight), fill=color, width=ln_width)\n",
    "        draw.text((x, hight * 0.05), text=str((int(x))) + 'x', fill=color)\n",
    "        draw.text((x, hight * 0.9), text=str((int(x))) + 'x', fill=color)\n",
    "    return im\n",
    "\n",
    "\n",
    "draw_grid(size=(200, 200), n_hlines=4, n_vlines=4)"
   ]
  },
  {
   "cell_type": "code",
   "execution_count": null,
   "metadata": {},
   "outputs": [],
   "source": [
    "#exporti\n",
    "\n",
    "def draw_bbox(rect, im=None, values=True, black=True, width=1):\n",
    "    \"\"\"\n",
    "    rect: [x, y, x, y]\n",
    "        two points (x, y), (x, y)\n",
    "    values: bool\n",
    "        draw values\n",
    "    black: bool\n",
    "         draw grid and numbers in black or white\n",
    "    \"\"\"\n",
    "    color = (0, 0, 0)\n",
    "    if not black:\n",
    "        color = (255, 255, 255)\n",
    "    if im is None:\n",
    "        im = Image.new('RGB', (100, 100), color='grey')\n",
    "\n",
    "    draw = ImageDraw.Draw(im)\n",
    "    draw.rectangle(rect, outline=color, width=width)\n",
    "\n",
    "    if values:\n",
    "        draw.text((rect[0], rect[1]), text=f\"({rect[0]}x, {rect[1]}y)\", fill=color)\n",
    "        draw.text((rect[0], rect[3]), text=f\"({rect[0]}x, {rect[3]}y)\", fill=color)\n",
    "        draw.text((rect[2], rect[1]), text=f\"({rect[2]}x, {rect[1]}y)\", fill=color)\n",
    "        draw.text((rect[2], rect[3]), text=f\"({rect[2]}x, {rect[3]}y)\", fill=color)\n",
    "        draw.text(((rect[0] + rect[2]) / 2, (rect[1] + rect[3]) / 2), text=f\"{rect}\", fill=color)\n",
    "    return im"
   ]
  },
  {
   "cell_type": "code",
   "execution_count": null,
   "metadata": {},
   "outputs": [],
   "source": [
    "img = Image.new('RGB', (300, 300), color='grey')\n",
    "# draw_bbox((35, 50, 200, 250), im=img, black=False)\n",
    "draw_bbox((200, 250, 35, 50), im=img, black=False, width=4)\n",
    "\n",
    "draw_grid(img, n_hlines=5, n_vlines=5)"
   ]
  },
  {
   "cell_type": "code",
   "execution_count": null,
   "metadata": {},
   "outputs": [],
   "source": [
    "#exporti\n",
    "\n",
    "def xywh_to_xyxy(boxes):\n",
    "    boxes = np.array(boxes)\n",
    "    \"\"\"Convert [x y w h] box format to [x1 y1 x2 y2] format.\"\"\"\n",
    "    return np.hstack((boxes[0:2], boxes[0:2] + boxes[2:4])).tolist()\n",
    "\n",
    "\n",
    "def xyxy_to_xywh(boxes):\n",
    "    boxes = np.array(boxes)\n",
    "    \"\"\"Convert [x1 y1 x2 y2] box format to [x y w h] format.\"\"\"\n",
    "    return np.hstack((boxes[0:2], boxes[2:4] - boxes[0:2])).tolist()"
   ]
  },
  {
   "cell_type": "code",
   "execution_count": null,
   "metadata": {},
   "outputs": [],
   "source": [
    "xyxy_to_xywh([50, 50, 150, 150])"
   ]
  },
  {
   "cell_type": "code",
   "execution_count": null,
   "metadata": {},
   "outputs": [],
   "source": [
    "xywh_to_xyxy([50, 50, 100, 100])"
   ]
  },
  {
   "cell_type": "markdown",
   "metadata": {},
   "source": [
    "## Overlap & Intersection over Union (IOU)"
   ]
  },
  {
   "cell_type": "code",
   "execution_count": null,
   "metadata": {},
   "outputs": [],
   "source": [
    "#exporti\n",
    "def bbox_intersection(b1, b2):\n",
    "    # determine the (x, y)-coordinates of the intersection rectangle\n",
    "    xA = max(b1[0], b2[0])\n",
    "    yA = max(b1[1], b2[1])\n",
    "    xB = min(b1[2], b2[2])\n",
    "    yB = min(b1[3], b2[3])\n",
    "\n",
    "    # compute the area of intersection rectangle\n",
    "    interArea = max(0, xB - xA) * max(0, yB - yA)\n",
    "\n",
    "    # compute the area of both the prediction and ground-truth\n",
    "    # rectangles\n",
    "\n",
    "    b1Area = (b1[2] - b1[0]) * (b1[3] - b1[1])\n",
    "    b2Area = (b2[2] - b2[0]) * (b2[3] - b2[1])\n",
    "    return interArea, b1Area, b2Area, (xA, yA, xB, yB)"
   ]
  },
  {
   "cell_type": "code",
   "execution_count": null,
   "metadata": {},
   "outputs": [],
   "source": [
    "#exporti\n",
    "def overlap(boxA, boxB, verbose=False):\n",
    "    \"\"\"\n",
    "    Returns the max relative overlap between two bboxs.\n",
    "    \"\"\"\n",
    "\n",
    "    interArea, boxAArea, boxBArea, _ = bbox_intersection(boxA, boxB)\n",
    "    return max(interArea / float(boxAArea), interArea / float(boxBArea))"
   ]
  },
  {
   "cell_type": "code",
   "execution_count": null,
   "metadata": {},
   "outputs": [],
   "source": [
    "r1 = (10, 10, 110, 110)\n",
    "r2 = (50, 50, 90, 90)\n",
    "assert overlap(r1, r2) == 1\n",
    "assert overlap(r2, r1) == 1"
   ]
  },
  {
   "cell_type": "code",
   "execution_count": null,
   "metadata": {},
   "outputs": [],
   "source": [
    "r1 = (0, 0, 100, 100)\n",
    "r2 = (50, 50, 150, 150)\n",
    "assert overlap(r1, r2) == 0.25\n",
    "assert overlap(r2, r1) == 0.25"
   ]
  },
  {
   "cell_type": "code",
   "execution_count": null,
   "metadata": {},
   "outputs": [],
   "source": [
    "# export\n",
    "\n",
    "def bb_intersection_over_union(boxA, boxB, verbose=False):\n",
    "\n",
    "    interArea, boxAArea, boxBArea, _ = bbox_intersection(boxA, boxB)\n",
    "\n",
    "    iou = interArea / float(boxAArea + boxBArea - interArea)\n",
    "    if verbose:\n",
    "        print(f\"iou: {iou: .2f}, interArea: {interArea: .2f}\"\n",
    "              f\", boxAArea {boxAArea: .2f}, box1Area {boxBArea: .2f}\")\n",
    "    return iou"
   ]
  },
  {
   "cell_type": "code",
   "execution_count": null,
   "metadata": {},
   "outputs": [],
   "source": [
    "r1 = (10, 10, 110, 110)\n",
    "r2 = (80, 80, 180, 180)\n",
    "img = Image.new('RGB', (300, 200), color='grey')\n",
    "draw_bbox(r1, im=img, black=False, values=True)\n",
    "draw_bbox(r2, im=img, black=False, values=True)\n",
    "\n",
    "\n",
    "iou = bb_intersection_over_union(r1, r2, verbose=True)\n",
    "# iou = bb_intersection_over_union(r1, r2, verbose=True)\n",
    "_, _, _, union = bbox_intersection(r1, r2)\n",
    "draw = ImageDraw.Draw(img)\n",
    "draw.rectangle(union, fill='blue')\n",
    "img"
   ]
  },
  {
   "cell_type": "code",
   "execution_count": null,
   "metadata": {},
   "outputs": [],
   "source": [
    "r1 = (10, 10, 110, 110)\n",
    "r2 = (20, 20, 120, 120)\n",
    "img = Image.new('RGB', (200, 150), color='grey')\n",
    "draw_bbox(r1, im=img, black=False, values=True)\n",
    "draw_bbox(r2, im=img, black=False, values=True)\n",
    "\n",
    "iou = bb_intersection_over_union(r1, r2, verbose=True)\n",
    "_, _, _, union = bbox_intersection(r1, r2)\n",
    "draw = ImageDraw.Draw(img)\n",
    "draw.rectangle(union, fill='blue')\n",
    "img"
   ]
  },
  {
   "cell_type": "code",
   "execution_count": null,
   "metadata": {},
   "outputs": [],
   "source": [
    "r1 = (10, 10, 110, 110)\n",
    "img = Image.new('RGB', (200, 150), color='grey')\n",
    "draw_bbox(r1, im=img, black=False, values=True)\n",
    "draw_bbox(r1, im=img, black=False, values=True)\n",
    "\n",
    "iou = bb_intersection_over_union(r1, r1, verbose=True)\n",
    "_, _, _, union = bbox_intersection(r1, r2)\n",
    "draw = ImageDraw.Draw(img)\n",
    "draw.rectangle(union, fill='blue')\n",
    "img"
   ]
  },
  {
   "cell_type": "code",
   "execution_count": null,
   "metadata": {},
   "outputs": [],
   "source": [
    "r1 = (10, 10, 110, 110)\n",
    "r2 = (20, 20, 90, 90)\n",
    "img = Image.new('RGB', (200, 150), color='grey')\n",
    "draw_bbox(r1, im=img, black=False, values=True)\n",
    "draw_bbox(r2, im=img, black=False, values=True)\n",
    "\n",
    "iou = bb_intersection_over_union(r1, r2, verbose=True)\n",
    "_, _, _, union = bbox_intersection(r1, r2)\n",
    "draw = ImageDraw.Draw(img)\n",
    "draw.rectangle(union, fill='blue')\n",
    "img"
   ]
  },
  {
   "cell_type": "markdown",
   "metadata": {},
   "source": [
    "## Sample Random bbox"
   ]
  },
  {
   "cell_type": "code",
   "execution_count": null,
   "metadata": {},
   "outputs": [],
   "source": [
    "#exporti\n",
    "def sample_bbox(bboxs=(), canvas_size=(100, 100), diag=(0.3, 0.3), ratio=(1, 1),\n",
    "                max_iou=0.0, max_overlap=0.0,\n",
    "                max_tries=1000, random_seed=None):\n",
    "    \"\"\"\n",
    "    bboxs: [(x, y, x, y), ..., (x, y, x, y)]\n",
    "            List of existing bboxs.\n",
    "    canvas_size: (int, int)\n",
    "           Size of the canvas (width, height) on which to position the new bbox.\n",
    "    max_iou: float [0, 1]\n",
    "            Maximum acceptable intersection over union between any two bboxs.\n",
    "    max_overlap: float [0, 1]\n",
    "            Maximum overlap between any two bboxs.\n",
    "    diag: (float, float) or float\n",
    "            Range of acceptable diagonal lenght relative to canvas diagonal.\n",
    "    ratio: (float, float) or float\n",
    "            Range of acceptable width / height ratios of the new bbox.\n",
    "    max_tries: int\n",
    "            Number of random tries to create a valid bbox\n",
    "    \"\"\"\n",
    "#     for v in [diag, ratio]: assert min(v) >= 0 and max(v) <= 1, f\"{v} is outside of (0, 1)\"\n",
    "\n",
    "    width, height = canvas_size\n",
    "    canvas_diag = np.sqrt(width ** 2 + height**2)\n",
    "\n",
    "    for i in range(max_tries):\n",
    "        s_diag = np.random.uniform(*diag) * canvas_diag\n",
    "        s_ratio = np.random.uniform(*ratio)\n",
    "\n",
    "        # sample position fully inside canvas\n",
    "        s_height = np.sqrt(s_diag ** 2 / (1. + s_ratio ** 2))\n",
    "        s_width = s_ratio * s_height\n",
    "\n",
    "        cx = np.random.randint(s_width / 2, width - s_width / 2)\n",
    "        cy = np.random.randint(s_height / 2, height - s_height / 2)\n",
    "\n",
    "        bbox = (cx - s_width / 2, cy - s_height / 2, cx + s_width / 2, cy + s_height / 2)\n",
    "        bbox = tuple(int(v) for v in bbox)\n",
    "\n",
    "        # check if valid iou then return\n",
    "        if len(bboxs) == 0:\n",
    "            return bbox\n",
    "        violation = False\n",
    "        for b in bboxs:\n",
    "            iou = bb_intersection_over_union(b, bbox)\n",
    "            b_overlap = overlap(b, bbox)\n",
    "            if iou > max_iou or b_overlap > max_overlap:\n",
    "                violation = True\n",
    "        if not violation:\n",
    "            return bbox\n",
    "\n",
    "    return None"
   ]
  },
  {
   "cell_type": "code",
   "execution_count": null,
   "metadata": {},
   "outputs": [],
   "source": [
    "canvas_size = (300, 300)\n",
    "img = Image.new('RGB', canvas_size, color='grey')\n",
    "\n",
    "bboxs: List[Tuple[int, int, int, int]] = []\n",
    "for i in range(10):\n",
    "    bbox = sample_bbox(bboxs=bboxs, canvas_size=canvas_size, diag=(0.1, 0.3),\n",
    "                       max_iou=0.3, max_overlap=0.5)\n",
    "    bboxs.append(bbox)\n",
    "    draw_bbox(bbox, im=img, black=False, values=False, width=3)\n",
    "img"
   ]
  },
  {
   "cell_type": "markdown",
   "metadata": {},
   "source": [
    "## Draw Objects inside bbox"
   ]
  },
  {
   "cell_type": "code",
   "execution_count": null,
   "metadata": {},
   "outputs": [],
   "source": [
    "#exporti\n",
    "def draw_rectangle(im, bbox, color):\n",
    "    draw = ImageDraw.Draw(im)\n",
    "    draw.rectangle(bbox, fill=color)"
   ]
  },
  {
   "cell_type": "code",
   "execution_count": null,
   "metadata": {},
   "outputs": [],
   "source": [
    "#exporti\n",
    "def draw_ellipse(im, bbox, color):\n",
    "    draw = ImageDraw.Draw(im)\n",
    "    draw.ellipse(bbox, fill=color)"
   ]
  },
  {
   "cell_type": "code",
   "execution_count": null,
   "metadata": {},
   "outputs": [],
   "source": [
    "img = Image.new('RGB', (200, 100), color='grey')\n",
    "bbox1 = (25, 25, 90, 75)\n",
    "bbox2 = (125, 25, 190, 75)\n",
    "draw_ellipse(img, bbox1, \"blue\")\n",
    "draw_rectangle(img, bbox2, \"red\")\n",
    "draw_bbox(bbox1, im=img, black=False, values=False)\n",
    "draw_bbox(bbox2, im=img, black=False, values=False)\n",
    "img"
   ]
  },
  {
   "cell_type": "markdown",
   "metadata": {},
   "source": [
    "# Create Object Detection Dataset"
   ]
  },
  {
   "cell_type": "markdown",
   "metadata": {},
   "source": [
    "## Generic Dataset"
   ]
  },
  {
   "cell_type": "code",
   "execution_count": null,
   "metadata": {},
   "outputs": [],
   "source": [
    "# exporti\n",
    "def create_simple_object_detection_dataset(path, n_samples=100, n_shapes=2, n_colors=3,\n",
    "                                           n_objects=(1, 3), size=(150, 150), label_noise=0):\n",
    "\n",
    "    (path / 'images').mkdir(parents=True, exist_ok=True)\n",
    "    red = (255, 0, 0)\n",
    "    blue = (0, 192, 192)\n",
    "    yellow = (255, 255, 0)\n",
    "    color = [red, blue, yellow]\n",
    "    cname = ['red', 'blue', 'yellow']\n",
    "    draw_shape = [draw_ellipse, draw_rectangle]\n",
    "    shape = ['ellipse', 'rectangle']\n",
    "    bg_color = (211, 211, 211)  # light grey\n",
    "    assert n_shapes > 0 and n_shapes <= 2, (f\"n_shapes:{n_shapes} but only max 2\"\n",
    "                                            f\"shapes are supported.\")\n",
    "    assert n_colors > 0 and n_colors <= 3, (f\"n_shapes:{n_colors} but only max 3\"\n",
    "                                            f\"colors are supported.\")\n",
    "\n",
    "    # create class labels\n",
    "    (path / 'class_images').mkdir(parents=True, exist_ok=True)\n",
    "    for clr, name in zip(color, cname):\n",
    "        img_name = f'{name}.jpg'\n",
    "        img = Image.new('RGB', (50, 50), color=bg_color)\n",
    "        draw_rectangle(img, bbox=(0, 0, 50, 50), color=clr)\n",
    "        img.save(path / 'class_images' / img_name)\n",
    "\n",
    "    # create images + annotations\n",
    "    bbox_sample_failed = 0\n",
    "    annotations = {}\n",
    "    with open(path / 'annotations.json', 'w') as f:\n",
    "        for i in range(n_samples):\n",
    "\n",
    "            img_name = f'img_{i}.jpg'\n",
    "            img = Image.new('RGB', size, color=bg_color)\n",
    "\n",
    "            bboxs, labels = [], []\n",
    "            for o in range(np.random.randint(n_objects[0], n_objects[1] + 1)):\n",
    "\n",
    "                # sample bbox\n",
    "                bbox = sample_bbox(bboxs=bboxs, canvas_size=size, diag=(0.2, 0.5), ratio=(0.5, 2.),\n",
    "                                   max_iou=0.0, max_overlap=0.0, max_tries=1000, random_seed=None)\n",
    "\n",
    "                if bbox is None:\n",
    "                    bbox_sample_failed += 1\n",
    "                    continue\n",
    "                bboxs.append(bbox)\n",
    "\n",
    "                # sample color\n",
    "                c = np.random.randint(0, n_colors)\n",
    "\n",
    "                # sample shape\n",
    "                s = np.random.randint(0, n_shapes)\n",
    "                draw_shape[s](img, bbox, cname[c])\n",
    "\n",
    "                labels.append((cname[c], shape[s]))\n",
    "\n",
    "            img.save(path / 'images' / img_name)\n",
    "\n",
    "            annotations[img_name] = {'labels': labels, 'bboxs': bboxs}\n",
    "        json.dump(annotations, f)\n",
    "    if bbox_sample_failed > 0:\n",
    "        import warnings\n",
    "        warnings.warn(f\"{bbox_sample_failed} bbox have been failed to create.\"\n",
    "                      \" You can increase max_tries or reduce the number and size\"\n",
    "                      \" of objects per image.\")"
   ]
  },
  {
   "cell_type": "code",
   "execution_count": null,
   "metadata": {},
   "outputs": [],
   "source": [
    "import tempfile\n",
    "tmp_dir = tempfile.TemporaryDirectory()\n",
    "path = Path(tmp_dir.name)\n",
    "create_simple_object_detection_dataset(path=path, n_samples=5)\n",
    "print(pd.read_json(path / 'annotations.json').T)\n",
    "\n",
    "Image.open(list(path.glob('**/images/*'))[2])"
   ]
  },
  {
   "cell_type": "markdown",
   "metadata": {},
   "source": [
    "## Specific Tasks"
   ]
  },
  {
   "cell_type": "code",
   "execution_count": null,
   "metadata": {},
   "outputs": [],
   "source": [
    "#export\n",
    "def create_color_classification(path, n_samples=10, n_colors=3, size=(150, 150)):\n",
    "    create_simple_object_detection_dataset(path=path, n_objects=(1, 1), n_samples=n_samples,\n",
    "                                           n_colors=n_colors, size=size)\n",
    "    with open(path / 'annotations.json', 'r') as f:\n",
    "        annotations = json.load(f)\n",
    "    # simplify by dropping mutli-label and bbox\n",
    "    annotations = {k: {'labels': v['labels'][0][0]} for k, v in annotations.items()}\n",
    "    with open(path / 'annotations.json', 'w') as f:\n",
    "        json.dump(annotations, f)"
   ]
  },
  {
   "cell_type": "code",
   "execution_count": null,
   "metadata": {},
   "outputs": [],
   "source": [
    "import tempfile\n",
    "tmp_dir = tempfile.TemporaryDirectory()\n",
    "path = Path(tmp_dir.name)\n",
    "create_color_classification(path, size=(100, 100))\n",
    "print(pd.read_json(path / 'annotations.json').T)\n",
    "Image.open(list(path.glob('**/images/*'))[2])"
   ]
  },
  {
   "cell_type": "code",
   "execution_count": null,
   "metadata": {},
   "outputs": [],
   "source": [
    "#export\n",
    "def create_shape_color_classification(path, n_samples=10, n_colors=3, size=(150, 150)):\n",
    "    create_simple_object_detection_dataset(path=path, n_objects=(1, 1), n_samples=n_samples,\n",
    "                                           n_colors=n_colors, size=size)\n",
    "    with open(path / 'annotations.json', 'r') as f:\n",
    "        annotations = json.load(f)\n",
    "    # simplify by dropping mutli-label and bbox\n",
    "    annotations = {k: {'labels': v['labels'][0]} for k, v in annotations.items()}\n",
    "    with open(path / 'annotations.json', 'w') as f:\n",
    "        json.dump(annotations, f)"
   ]
  },
  {
   "cell_type": "code",
   "execution_count": null,
   "metadata": {},
   "outputs": [],
   "source": [
    "import tempfile\n",
    "tmp_dir = tempfile.TemporaryDirectory()\n",
    "path = Path(tmp_dir.name)\n",
    "create_shape_color_classification(path, size=(100, 100))\n",
    "print(pd.read_json(path / 'annotations.json').T)\n",
    "Image.open(list(path.glob('**/images/*'))[2])"
   ]
  },
  {
   "cell_type": "code",
   "execution_count": null,
   "metadata": {},
   "outputs": [],
   "source": [
    "#export\n",
    "def create_object_detection(path, n_samples=10, n_objects=(1, 1), n_colors=3,\n",
    "                            size=(150, 150), multilabel=False):\n",
    "    create_simple_object_detection_dataset(path=path, n_objects=n_objects, n_samples=n_samples,\n",
    "                                           n_colors=n_colors, size=size)\n",
    "    with open(path / 'annotations.json', 'r') as f:\n",
    "        annotations = json.load(f)\n",
    "\n",
    "    # simplify by dropping mutli-label and bbox\n",
    "    if max(n_objects) == 1:\n",
    "        annotations = {k: {\n",
    "            'labels': v['labels'][0], 'bbox': v['bboxs'][0]} for k, v in annotations.items()}\n",
    "        if not multilabel:\n",
    "            for k, v in annotations.items():\n",
    "                v['labels'] = v['labels'][0]\n",
    "    else:\n",
    "        if not multilabel:\n",
    "            for k, v in annotations.items():\n",
    "                v['labels'] = v['labels'] = [label[0] for label in v['labels']]\n",
    "    with open(path / 'annotations.json', 'w') as f:\n",
    "        json.dump(annotations, f)"
   ]
  },
  {
   "cell_type": "code",
   "execution_count": null,
   "metadata": {},
   "outputs": [],
   "source": [
    "import tempfile\n",
    "tmp_dir = tempfile.TemporaryDirectory()\n",
    "path = Path(tmp_dir.name)\n",
    "create_object_detection(path, size=(100, 100), n_objects=(1, 5), multilabel=True)\n",
    "print(pd.read_json(path / 'annotations.json').T)\n",
    "Image.open(list(path.glob('**/images/*'))[2])"
   ]
  },
  {
   "cell_type": "code",
   "execution_count": null,
   "metadata": {},
   "outputs": [],
   "source": [
    "#hide\n",
    "from nbdev.export import notebook2script\n",
    "notebook2script()"
   ]
  },
  {
   "cell_type": "code",
   "execution_count": null,
   "metadata": {},
   "outputs": [],
   "source": []
  }
 ],
 "metadata": {
  "kernelspec": {
   "display_name": "Python 3",
   "language": "python",
   "name": "python3"
  }
 },
 "nbformat": 4,
 "nbformat_minor": 4
}
