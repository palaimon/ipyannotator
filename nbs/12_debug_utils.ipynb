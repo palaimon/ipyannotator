{
 "cells": [
  {
   "cell_type": "code",
   "execution_count": null,
   "id": "de4865f1",
   "metadata": {},
   "outputs": [],
   "source": [
    "# default_exp debug_utils"
   ]
  },
  {
   "cell_type": "code",
   "execution_count": null,
   "id": "dfc0aac0",
   "metadata": {},
   "outputs": [],
   "source": [
    "# hide\n",
    "%load_ext autoreload\n",
    "%autoreload 2"
   ]
  },
  {
   "cell_type": "code",
   "execution_count": null,
   "id": "919888ab",
   "metadata": {},
   "outputs": [],
   "source": [
    "#exporti\n",
    "import logging\n",
    "from typing import List, Any\n",
    "\n",
    "from IPython.core.display import display\n",
    "from ipywidgets import Output\n",
    "from pubsub import pub"
   ]
  },
  {
   "cell_type": "markdown",
   "id": "ca3908a8",
   "metadata": {},
   "source": [
    "# Debug tools"
   ]
  },
  {
   "cell_type": "markdown",
   "id": "09eb16d5",
   "metadata": {},
   "source": [
    "## Output"
   ]
  },
  {
   "cell_type": "markdown",
   "id": "f69f880c",
   "metadata": {},
   "source": [
    "It's necessary to have a output to where show the `log`. To use the default `logging` lib with `ipywidgets`, one could use the `OutputWidgetHandler` class."
   ]
  },
  {
   "cell_type": "code",
   "execution_count": null,
   "id": "8654715d",
   "metadata": {},
   "outputs": [],
   "source": [
    "#exporti\n",
    "class OutputWidgetHandler(logging.Handler):\n",
    "    \"\"\" Custom logging handler sending logs to an output widget \"\"\"\n",
    "\n",
    "    def __init__(self, *args, **kwargs):\n",
    "        super(OutputWidgetHandler, self).__init__(*args, **kwargs)\n",
    "        layout = {\n",
    "            'border': '1px solid black'\n",
    "        }\n",
    "        self.out = Output(layout=layout)\n",
    "\n",
    "    def emit(self, record):\n",
    "        \"\"\" Overload of logging.Handler method \"\"\"\n",
    "        formatted_record = self.format(record)\n",
    "        new_output = {\n",
    "            'name': 'stdout',\n",
    "            'output_type': 'stream',\n",
    "            'text': formatted_record + '\\n'\n",
    "        }\n",
    "        self.out.outputs = (new_output, ) + self.out.outputs\n",
    "\n",
    "    def show_logs(self):\n",
    "        \"\"\" Show the logs \"\"\"\n",
    "        display(self.out)\n",
    "\n",
    "    def clear_logs(self):\n",
    "        \"\"\" Clear the current logs \"\"\"\n",
    "        self.out.clear_output()"
   ]
  },
  {
   "cell_type": "code",
   "execution_count": null,
   "id": "c9606bc2",
   "metadata": {},
   "outputs": [],
   "source": [
    "# example of logger configuration\n",
    "example_logger = logging.getLogger(__name__)\n",
    "example_handler = OutputWidgetHandler()\n",
    "example_handler.setFormatter(logging.Formatter('%(asctime)s  - [%(levelname)s] %(message)s'))\n",
    "example_logger.addHandler(example_handler)\n",
    "example_logger.setLevel(logging.INFO)"
   ]
  },
  {
   "cell_type": "markdown",
   "id": "4f6fedc0",
   "metadata": {},
   "source": [
    "## Debug tools"
   ]
  },
  {
   "cell_type": "code",
   "execution_count": null,
   "id": "85489b89",
   "metadata": {},
   "outputs": [],
   "source": [
    "#export\n",
    "\n",
    "class IpyLogger:\n",
    "    \"\"\"\n",
    "    Redirects logging and pubsub messages (if subscribed) to output widget.\n",
    "\n",
    "    Use `@subscribe` class decorator or `subscribe_to_states` method to listen pubsub events.\n",
    "    \"\"\"\n",
    "\n",
    "    def __init__(self, class_name: str, log_level=logging.INFO):\n",
    "        self._class_name = class_name\n",
    "\n",
    "        # config the logger/output\n",
    "        logger = logging.getLogger(__name__)\n",
    "        handler = OutputWidgetHandler()\n",
    "        handler.setFormatter(logging.Formatter('%(asctime)s - %(message)s'))\n",
    "        logger.addHandler(handler)\n",
    "        logger.setLevel(log_level)\n",
    "        self._logger = logger\n",
    "        self._handler = handler\n",
    "\n",
    "    def debug(self, msg, *args, **kwargs):\n",
    "        self._logger.debug(msg, *args, **kwargs)\n",
    "\n",
    "    def info(self, msg, *args, **kwargs):\n",
    "        self._logger.info(msg, *args, **kwargs)\n",
    "\n",
    "    def warning(self, msg, *args, **kwargs):\n",
    "        self._logger.warning(msg, *args, **kwargs)\n",
    "\n",
    "    def error(self, msg, *args, **kwargs):\n",
    "        self._logger.error(msg, *args, **kwargs)\n",
    "\n",
    "    def critical(self, msg, *args, **kwargs):\n",
    "        self._logger.critical(msg, *args, **kwargs)\n",
    "\n",
    "    def subscribe(self, states):\n",
    "        def wrapper(cls):\n",
    "            def inside_wrapper(*args, **kwargs):\n",
    "                self.subscribe_to_states(states=states)\n",
    "                return cls(*args, **kwargs)\n",
    "            return inside_wrapper\n",
    "        return wrapper\n",
    "\n",
    "    def show_logs(self):\n",
    "        return self._handler.show_logs()\n",
    "\n",
    "    def clear_logs(self):\n",
    "        return self._handler.clear_logs()\n",
    "\n",
    "    def subscribe_to_states(self, states: List[Any]):\n",
    "        states = self._validate_states(states)\n",
    "        for state in states:\n",
    "            pub.subscribe(self._pub_handler, state)\n",
    "\n",
    "    def _pub_handler(self, topic_obj=pub.AUTO_TOPIC, *args, **kwargs):\n",
    "        self._logger.info(f\"[{self._class_name} - {topic_obj.getName()}] : {kwargs}\")\n",
    "\n",
    "    @staticmethod\n",
    "    def _validate_states(states):\n",
    "        \"\"\"Avoids errors where string is handled as list\"\"\"\n",
    "        if isinstance(states, str):\n",
    "            states = [states]\n",
    "        return states"
   ]
  },
  {
   "cell_type": "code",
   "execution_count": null,
   "id": "88016d06",
   "metadata": {},
   "outputs": [],
   "source": [
    "logger = IpyLogger(\"mylogger\", log_level=logging.DEBUG)"
   ]
  },
  {
   "cell_type": "code",
   "execution_count": null,
   "id": "6e54a106",
   "metadata": {},
   "outputs": [],
   "source": [
    "logger.show_logs()"
   ]
  },
  {
   "cell_type": "code",
   "execution_count": null,
   "id": "261ec426",
   "metadata": {},
   "outputs": [],
   "source": [
    "from pubsub import pub\n",
    "\n",
    "\n",
    "def test_listener(a1, a2=None):\n",
    "    print('listener:')\n",
    "    print('a1 =', a1)\n",
    "    print('a2 =', a2)\n",
    "\n",
    "\n",
    "pub.subscribe(test_listener, 'rootTopic')\n",
    "\n",
    "logger.subscribe_to_states(['rootTopic'])"
   ]
  },
  {
   "cell_type": "code",
   "execution_count": null,
   "id": "12a9d219",
   "metadata": {},
   "outputs": [],
   "source": [
    "pub.sendMessage('rootTopic', a1=123, a2=dict(a=456, b='abc'))"
   ]
  },
  {
   "cell_type": "code",
   "execution_count": null,
   "id": "badb4652",
   "metadata": {},
   "outputs": [],
   "source": [
    "pub.sendMessage('rootTopic', a1=122, a2=334)"
   ]
  },
  {
   "cell_type": "code",
   "execution_count": null,
   "id": "eb38cf52",
   "metadata": {},
   "outputs": [],
   "source": [
    "# l.info(\"Hey info\", stack_info=True)\n",
    "logger.debug(\"Hey debug\")"
   ]
  },
  {
   "cell_type": "code",
   "execution_count": null,
   "id": "a1e7df3e",
   "metadata": {},
   "outputs": [],
   "source": [
    "#hide\n",
    "from nbdev.export import notebook2script\n",
    "notebook2script()"
   ]
  },
  {
   "cell_type": "code",
   "execution_count": null,
   "id": "7ab72a02",
   "metadata": {},
   "outputs": [],
   "source": []
  }
 ],
 "metadata": {
  "kernelspec": {
   "display_name": "Python 3 (ipykernel)",
   "language": "python",
   "name": "python3"
  }
 },
 "nbformat": 4,
 "nbformat_minor": 5
}
