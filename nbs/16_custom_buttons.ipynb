{
 "cells": [
  {
   "cell_type": "code",
   "execution_count": null,
   "id": "59da9551",
   "metadata": {},
   "outputs": [],
   "source": [
    "# hide\n",
    "%load_ext autoreload\n",
    "%autoreload 2"
   ]
  },
  {
   "cell_type": "code",
   "execution_count": null,
   "id": "2ce110b6",
   "metadata": {},
   "outputs": [],
   "source": [
    "# default_exp custom_input.buttons"
   ]
  },
  {
   "cell_type": "code",
   "execution_count": null,
   "id": "300b9cae",
   "metadata": {},
   "outputs": [],
   "source": [
    "# hide\n",
    "from nbdev import *"
   ]
  },
  {
   "cell_type": "code",
   "execution_count": null,
   "id": "dd4e0210",
   "metadata": {},
   "outputs": [],
   "source": [
    "#exporti\n",
    "\n",
    "from ipywidgets import Button"
   ]
  },
  {
   "cell_type": "markdown",
   "id": "66e35533",
   "metadata": {},
   "source": [
    "# Custom Buttons"
   ]
  },
  {
   "cell_type": "code",
   "execution_count": null,
   "id": "b3b8ad9f",
   "metadata": {},
   "outputs": [],
   "source": [
    "#exporti\n",
    "\n",
    "class ActionButton(Button):\n",
    "    def __init__(self, value=None, **kwargs):\n",
    "        super().__init__(**kwargs)\n",
    "        self.value = value\n",
    "\n",
    "    def reset_callbacks(self):\n",
    "        self.on_click(None, remove=True)\n",
    "\n",
    "    def update(self, other):\n",
    "        self.value = other.value\n",
    "        self.layout = other.layout"
   ]
  },
  {
   "cell_type": "code",
   "execution_count": null,
   "id": "6081634e",
   "metadata": {},
   "outputs": [],
   "source": [
    "action_btn = ActionButton()\n",
    "action_btn"
   ]
  },
  {
   "cell_type": "code",
   "execution_count": null,
   "id": "edc3160d",
   "metadata": {},
   "outputs": [],
   "source": [
    "# it can retrieve button value on callback\n",
    "\n",
    "value = 2\n",
    "action_btn.value = value\n",
    "\n",
    "new_value = None\n",
    "\n",
    "\n",
    "def on_btn_click(event: ActionButton):\n",
    "    global new_value\n",
    "    new_value = event.value\n",
    "\n",
    "\n",
    "action_btn.on_click(on_btn_click)\n",
    "action_btn.click()\n",
    "\n",
    "assert new_value == value"
   ]
  },
  {
   "cell_type": "code",
   "execution_count": null,
   "id": "8c3167c4",
   "metadata": {},
   "outputs": [],
   "source": [
    "# it can accept default value\n",
    "\n",
    "action_btn = ActionButton(value=value)\n",
    "assert action_btn.value == value"
   ]
  },
  {
   "cell_type": "code",
   "execution_count": null,
   "id": "23ce10ad",
   "metadata": {},
   "outputs": [],
   "source": [
    "#hide\n",
    "from nbdev.export import notebook2script\n",
    "notebook2script()"
   ]
  }
 ],
 "metadata": {
  "kernelspec": {
   "display_name": "Python 3",
   "language": "python",
   "name": "python3"
  }
 },
 "nbformat": 4,
 "nbformat_minor": 5
}
