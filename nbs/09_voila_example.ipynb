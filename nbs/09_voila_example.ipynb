{
 "cells": [
  {
   "cell_type": "code",
   "execution_count": null,
   "metadata": {},
   "outputs": [],
   "source": [
    "# hide\n",
    "%load_ext autoreload\n",
    "%autoreload 2\n",
    "! rm -rf ../data/projects/bbox/voila_results"
   ]
  },
  {
   "cell_type": "markdown",
   "metadata": {},
   "source": [
    "# Voila - Using Ipyannotator as a standalone web application\n",
    "\n",
    "[Voila](https://github.com/voila-dashboards/voila) is a library that turns jupyter notebooks into standalone web applications.\n",
    "\n",
    "Voila can be used alongside with Ipyannotator. This allows professional annotators to create annotations without even running a jupyter notebook.\n",
    "\n",
    "This notebook displays a bounding box annotator to exemplify how an organization can use Voila to allow external professional annotators to create datasets. \n",
    "\n",
    "To run this example use `voila nbs/09_voila_example.ipynb --enable_nbextensions=True`"
   ]
  },
  {
   "cell_type": "code",
   "execution_count": null,
   "metadata": {},
   "outputs": [],
   "source": [
    "from pathlib import Path\n",
    "from ipyannotator.storage import construct_annotation_path\n",
    "from ipyannotator.mltypes import InputImage, OutputImageBbox\n",
    "from ipyannotator.bbox_annotator import BBoxAnnotator"
   ]
  },
  {
   "cell_type": "code",
   "execution_count": null,
   "metadata": {},
   "outputs": [],
   "source": [
    "input_item = InputImage(image_dir='pics', image_width=640, image_height=400)\n",
    "output_item = OutputImageBbox(classes=['Label 01', 'Label 02'])\n",
    "project_path = Path('../data/projects/bbox')\n",
    "annotation_file_path = construct_annotation_path(project_path, results_dir='voila_results')"
   ]
  },
  {
   "cell_type": "code",
   "execution_count": null,
   "metadata": {},
   "outputs": [],
   "source": [
    "BBoxAnnotator(\n",
    "    project_path=project_path,\n",
    "    input_item=input_item,\n",
    "    output_item=output_item,\n",
    "    annotation_file_path=annotation_file_path\n",
    ")"
   ]
  }
 ],
 "metadata": {
  "kernelspec": {
   "display_name": "Python 3",
   "language": "python",
   "name": "python3"
  }
 },
 "nbformat": 4,
 "nbformat_minor": 4
}
