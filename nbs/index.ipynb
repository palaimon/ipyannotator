{
 "cells": [
  {
   "cell_type": "markdown",
   "metadata": {},
   "source": [
    "# ipyannotator - the infinitely hackable annotation framework\n",
    "\n",
    "![CI-Badge](https://github.com/palaimon/ipyannotator/workflows/CI/badge.svg)\n",
    "\n",
    "\n",
    "![jupytercon 2020](https://jupytercon.com/_nuxt/img/5035c8d.svg)\n",
    "\n"
   ]
  },
  {
   "cell_type": "markdown",
   "metadata": {},
   "source": [
    "Even though much less glamorous than developing new machine learning models, the annotation process and the required tooling is often one of the most critical aspects of real world Machine Learning projects.\n"
   ]
  },
  {
   "cell_type": "markdown",
   "metadata": {},
   "source": [
    "Aiming to make the annotation process easier, ipyannotator provides the necessary tools to handle this process on the jupyter notebook environment."
   ]
  },
  {
   "cell_type": "markdown",
   "metadata": {},
   "source": [
    "This is an pre-release version accompanying our [jupytercon 2020 talk](https://cfp.jupytercon.com/2020/schedule/presentation/237/ipyannotator-the-infinitely-hackable-annotation-framework/).\n",
    "We hope this repository helps you to explore how annotation UI's can be quickly build\n",
    "using only python code and leveraging many awesome libraries ([ipywidgets](https://github.com/jupyter-widgets/ipywidgets), [voila](https://github.com/voila-dashboards/voila), [ipycanvas](https://github.com/martinRenou/ipycanvas), etc.) from the [jupyter Eco-system](https://jupyter.org/)."
   ]
  },
  {
   "cell_type": "markdown",
   "metadata": {},
   "source": [
    "At https://palaimon.io we have used the concepts underlying ipyannotator internally for various projects and\n",
    "this is our attempt to contribute back to the OSS community some of the benefits we have had using OOS software."
   ]
  },
  {
   "cell_type": "markdown",
   "metadata": {},
   "source": [
    "## Install\n",
    "\n",
    "\n",
    "`pip install ipyannotator`\n",
    "\n",
    "\n",
    "**dependencies (should be handled by pip)**\n",
    "\n",
    "```\n",
    "python = \"^3.7\"\n",
    "traitlets = '=4.3.3'\n",
    "ipycanvas = \"^0.5.1\"\n",
    "ipyevents = \"^0.8.0\"\n",
    "ipywidgets = \"^7.5.1\"\n",
    "```\n"
   ]
  },
  {
   "cell_type": "markdown",
   "metadata": {},
   "source": [
    "## Run ipyannotator as stand-alone web app using voila\n",
    "\n",
    "Dependency resolution fails if `nbdev` and `voila` libraries are both listed in the same `pyproject.toml`. This should be fixed in the next major release of `nbdev` lib. \n",
    "\n",
    "The easiest workaround atm:\n",
    " - install `ipyannotator` without dev dependencies \n",
    " - manually install `voila` into the same dev environment\n",
    "\n",
    "Using `poetry`:\n",
    "\n",
    "install:\n",
    "```shell\n",
    "cd {project_root}\n",
    "poetry install --no-dev\n",
    "poetry run pip install voila\n",
    "```\n",
    "and run simple ipyannotator standalone example:\n",
    "```shell \n",
    "poetry run voila nbs/09_viola_example.ipynb --enable_nbextensions=True\n",
    "```\n",
    "\n",
    "  \n",
    "Same with `pip`:\n",
    "\n",
    "```shell\n",
    "   cd {project_root}\n",
    "   \n",
    "   pip install . \n",
    "   pip install voila\n",
    "   \n",
    "   voila nbs/09_viola_example.ipynb --enable_nbextensions=True\n",
    "```"
   ]
  },
  {
   "cell_type": "markdown",
   "metadata": {},
   "source": [
    "# Documentation\n",
    "\n",
    "This library has been written in the [literate programming style](https://en.wikipedia.org/wiki/Literate_programming) popularized for\n",
    "jupyter notebooks by [nbdev](https://www.fast.ai/2019/12/02/nbdev/). Please explore the jupyter notebooks in `nbs/` to learn more about\n",
    "the inner working of ipyannotator.\n",
    "\n",
    "\n",
    "Also check out the following notebook for a more high level overview.\n",
    "\n",
    "- Tutorial demonstrating how ipyannotator can be seamlessly integrated in your\n",
    "    data science workflow. `nbs/08_tutorial_road_damage.ipynb`\n",
    "- Slides + recoding of jupytercon 2020 talk explaining the high level concepts / vision\n",
    "    of ipyannotator. TODO add public link"
   ]
  },
  {
   "cell_type": "markdown",
   "metadata": {},
   "source": [
    "\n",
    "## Jupyter lab trouble shooting\n",
    "\n",
    "For clean (re)install make sure to have all the lab extencions active:\n",
    "\n",
    "`jupyter lab clean` to remove the staging and static directories from the lab \n",
    "\n",
    " _ipywidgets_:\n",
    " \n",
    " `jupyter labextension install @jupyter-widgets/jupyterlab-manager`\n",
    " \n",
    " _ipycanvas_:\n",
    " \n",
    " `jupyter labextension install @jupyter-widgets/jupyterlab-manager ipycanvas`\n",
    " \n",
    " _ipyevents_:\n",
    " \n",
    " `jupyter labextension install @jupyter-widgets/jupyterlab-manager ipyevents`\n",
    " \n",
    " _nbdime_:\n",
    " \n",
    " `nbdime extensions --enable [--sys-prefix/--user/--system]`\n",
    " \n",
    " _viola_:\n",
    " \n",
    " `jupyter labextension install @jupyter-voila/jupyterlab-preview`"
   ]
  },
  {
   "cell_type": "markdown",
   "metadata": {},
   "source": [
    "# How to contribute\n",
    "\n",
    "\n",
    "Check out `CONTRIBUTING.md` and since ipyannotator is build using nbdev reading\n",
    "the [nbdev tutorial](https://nbdev.fast.ai/tutorial.html) and related docs will be very helpful."
   ]
  },
  {
   "cell_type": "markdown",
   "metadata": {},
   "source": [
    "## Copyright\n",
    "\n",
    "\n",
    "Copyright 2020 onwards, Palaimon GmbH. Licensed under the Apache License, Version 2.0 (the \"License\"); you may not use this project's files except in compliance with the License. A copy of the License is provided in the LICENSE file in this repository."
   ]
  }
 ],
 "metadata": {
  "kernelspec": {
   "display_name": "Python 3 (ipykernel)",
   "language": "python",
   "name": "python3"
  }
 },
 "nbformat": 4,
 "nbformat_minor": 2
}
