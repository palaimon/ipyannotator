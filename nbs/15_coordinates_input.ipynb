{
 "cells": [
  {
   "cell_type": "code",
   "execution_count": null,
   "id": "f9216a79",
   "metadata": {},
   "outputs": [],
   "source": [
    "# default_exp custom_input.coordinates"
   ]
  },
  {
   "cell_type": "code",
   "execution_count": null,
   "id": "2622c4c6",
   "metadata": {},
   "outputs": [],
   "source": [
    "# hide\n",
    "%load_ext autoreload\n",
    "%autoreload 2"
   ]
  },
  {
   "cell_type": "code",
   "execution_count": null,
   "id": "16b58c49",
   "metadata": {},
   "outputs": [],
   "source": [
    "# hide\n",
    "from nbdev import *"
   ]
  },
  {
   "cell_type": "code",
   "execution_count": null,
   "id": "ae833077",
   "metadata": {},
   "outputs": [],
   "source": [
    "# hide\n",
    "import pytest\n",
    "import ipytest\n",
    "ipytest.autoconfig(raise_on_error=True)"
   ]
  },
  {
   "cell_type": "code",
   "execution_count": null,
   "id": "75017ca6",
   "metadata": {},
   "outputs": [],
   "source": [
    "#exporti\n",
    "import warnings\n",
    "from attr import asdict\n",
    "from ipyannotator.mltypes import BboxCoordinate\n",
    "from ipywidgets import HBox, BoundedIntText, Layout\n",
    "from typing import Callable, Optional"
   ]
  },
  {
   "cell_type": "markdown",
   "id": "57dbda92",
   "metadata": {},
   "source": [
    "# Coordinates Input"
   ]
  },
  {
   "cell_type": "code",
   "execution_count": null,
   "id": "efcddad4",
   "metadata": {},
   "outputs": [],
   "source": [
    "#exporti\n",
    "\n",
    "class CoordinateInput(HBox):\n",
    "    def __init__(\n",
    "        self,\n",
    "        uuid: int = None,\n",
    "        bbox_coord: BboxCoordinate = None,\n",
    "        input_max: BboxCoordinate = None,\n",
    "        coord_changed: Optional[Callable] = None,\n",
    "        disabled: bool = False\n",
    "    ):\n",
    "        super().__init__()\n",
    "        self.disabled = disabled\n",
    "        self.uuid = uuid\n",
    "        self._input_max = input_max\n",
    "        self.coord_changed = coord_changed\n",
    "        self.coord_labels = ['x', 'y', 'width', 'height']\n",
    "        self.children = self.inputs\n",
    "        self.layout = Layout(width=\"auto\", overflow=\"initial\")\n",
    "\n",
    "        if bbox_coord:\n",
    "            self.bbox_coord = bbox_coord  # type: ignore\n",
    "\n",
    "    def __getitem__(self, key: str) -> int:\n",
    "        return self.children[self.coord_labels.index(key)].value\n",
    "\n",
    "    def __setitem__(self, key: str, value: int):\n",
    "        self.children[self.coord_labels.index(key)].value = value\n",
    "\n",
    "    @property\n",
    "    def inputs(self) -> list:\n",
    "        widget_inputs = []\n",
    "        for in_p in self.coord_labels:\n",
    "            widget_input = BoundedIntText(\n",
    "                min=0,\n",
    "                max=None if self._input_max is None else getattr(self._input_max, in_p),\n",
    "                layout=Layout(width=\"55px\"),\n",
    "                continuous_update=False,\n",
    "                disabled=self.disabled\n",
    "            )\n",
    "            widget_inputs.append(widget_input)\n",
    "            widget_input.observe(self._on_coord_change, names=\"value\")\n",
    "\n",
    "        return widget_inputs\n",
    "\n",
    "    @property\n",
    "    def bbox_coord(self) -> BboxCoordinate:\n",
    "        values = [c.value for c in self.children]\n",
    "        return BboxCoordinate(\n",
    "            **dict(zip(self.coord_labels, values))\n",
    "        )\n",
    "\n",
    "    @bbox_coord.setter\n",
    "    def bbox_coord(self, bbox_coord: BboxCoordinate):\n",
    "        for i, v in enumerate(asdict(bbox_coord).values()):\n",
    "            self.children[i].value = v\n",
    "\n",
    "    @property\n",
    "    def input_max(self) -> Optional[BboxCoordinate]:\n",
    "        return self._input_max\n",
    "\n",
    "    @input_max.setter\n",
    "    def input_max(self, input_max: dict):\n",
    "        for i, label in enumerate(self.coord_labels):\n",
    "            self.children[i].max = input_max[label]\n",
    "\n",
    "    def _on_coord_change(self, change: dict):\n",
    "        if self.coord_changed:\n",
    "            try:\n",
    "                idx = list(self.children).index(change[\"owner\"])\n",
    "                self.coord_changed(self.uuid, self.coord_labels[idx], change[\"new\"])\n",
    "            except ValueError:\n",
    "                warnings.warn(\"Invalid coordinate change\")"
   ]
  },
  {
   "cell_type": "code",
   "execution_count": null,
   "id": "2196e27a",
   "metadata": {},
   "outputs": [],
   "source": [
    "#hide\n",
    "inp_coord = CoordinateInput(\n",
    "    input_max=BboxCoordinate(*[2, 2, 100, 100]),\n",
    "    bbox_coord=BboxCoordinate(*[1, 1, 3, 88])\n",
    ")\n",
    "inp_coord"
   ]
  },
  {
   "cell_type": "code",
   "execution_count": null,
   "id": "6688aeba",
   "metadata": {},
   "outputs": [],
   "source": [
    "@pytest.fixture\n",
    "def coordinate_input_fixture() -> CoordinateInput:\n",
    "    return CoordinateInput(input_max=BboxCoordinate(*[2, 2, 2, 100]))"
   ]
  },
  {
   "cell_type": "code",
   "execution_count": null,
   "id": "542cbc88",
   "metadata": {},
   "outputs": [],
   "source": [
    "%%ipytest\n",
    "def test_it_can_set_value_using_list(coordinate_input_fixture):\n",
    "    coordinate_input_fixture.bbox_coord = BboxCoordinate(*[1,1,1,1])\n",
    "    all_values_are_one = all([c.value == 1 for c in coordinate_input_fixture.children])\n",
    "    assert all_values_are_one == True"
   ]
  },
  {
   "cell_type": "code",
   "execution_count": null,
   "id": "e2d16018",
   "metadata": {},
   "outputs": [],
   "source": [
    "%%ipytest\n",
    "def test_it_calls_callback_when_ipywidget_value_changes(coordinate_input_fixture):\n",
    "    label, value = None, None\n",
    "\n",
    "    def cb(c, l, v):\n",
    "        nonlocal label, value\n",
    "        label = l\n",
    "        value = v\n",
    "\n",
    "    coordinate_input_fixture.coord_changed = cb\n",
    "    coordinate_input_fixture.children[0].value = 2\n",
    "    coordinate_input_fixture.children[1].value = 2\n",
    "\n",
    "    assert label == 'y'\n",
    "    assert value == 2"
   ]
  },
  {
   "cell_type": "code",
   "execution_count": null,
   "id": "2cad0388",
   "metadata": {},
   "outputs": [],
   "source": [
    "%%ipytest\n",
    "def test_it_disabled_all_input_if_coordinate_input_is_disabled():\n",
    "    inp_coord = CoordinateInput(\n",
    "        input_max=BboxCoordinate(*[2, 2, 100, 100]),\n",
    "        bbox_coord=BboxCoordinate(*[1, 1, 3, 88]),\n",
    "        disabled=True\n",
    "    )\n",
    "    \n",
    "    for inp in inp_coord.inputs:\n",
    "        assert inp.disabled is True"
   ]
  },
  {
   "cell_type": "code",
   "execution_count": null,
   "id": "ecb02fc1",
   "metadata": {},
   "outputs": [],
   "source": [
    "#hide\n",
    "from nbdev.export import notebook2script\n",
    "notebook2script()"
   ]
  }
 ],
 "metadata": {
  "kernelspec": {
   "display_name": "Python 3",
   "language": "python",
   "name": "python3"
  }
 },
 "nbformat": 4,
 "nbformat_minor": 5
}
