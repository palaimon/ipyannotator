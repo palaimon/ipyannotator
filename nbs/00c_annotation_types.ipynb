{
 "cells": [
  {
   "cell_type": "code",
   "execution_count": null,
   "id": "dc763abf",
   "metadata": {},
   "outputs": [],
   "source": [
    "# default_exp ipytyping.annotations"
   ]
  },
  {
   "cell_type": "code",
   "execution_count": null,
   "id": "06fa07ff",
   "metadata": {},
   "outputs": [],
   "source": [
    "# hide\n",
    "%load_ext autoreload\n",
    "%autoreload 2"
   ]
  },
  {
   "cell_type": "code",
   "execution_count": null,
   "id": "3f14dc56",
   "metadata": {},
   "outputs": [],
   "source": [
    "#exporti\n",
    "from pathlib import Path\n",
    "from collections.abc import MutableMapping\n",
    "from typing import Dict, Optional, Iterable, Any, Union\n",
    "from ipywidgets import Layout\n",
    "from ipyannotator.mltypes import OutputImageLabel, OutputLabel\n",
    "from ipyannotator.custom_input.buttons import ImageButton, ImageButtonSetting, ActionButton"
   ]
  },
  {
   "cell_type": "code",
   "execution_count": null,
   "id": "be5e23da",
   "metadata": {},
   "outputs": [],
   "source": [
    "# hide\n",
    "import ipytest\n",
    "import pytest\n",
    "ipytest.autoconfig(raise_on_error=True)"
   ]
  },
  {
   "cell_type": "markdown",
   "id": "491d358f",
   "metadata": {},
   "source": [
    "## Annotation Types\n",
    "\n",
    "The current notebook store the annotation data typing. Every annotator stores its data in a particular way, this notebook designs the store and it's casting types."
   ]
  },
  {
   "cell_type": "code",
   "execution_count": null,
   "id": "196e5fde",
   "metadata": {},
   "outputs": [],
   "source": [
    "#exporti\n",
    "class AnnotationStore(MutableMapping):\n",
    "    def __init__(self, annotations: Optional[Dict] = None):\n",
    "        self._annotations = annotations or {}\n",
    "\n",
    "    def __getitem__(self, key: str):\n",
    "        return self._annotations[key]\n",
    "\n",
    "    def __delitem__(self, key: str):\n",
    "        if key in self:\n",
    "            del self._annotations[key]\n",
    "\n",
    "    def __setitem__(self, key: str, value: Any):\n",
    "        self._annotations[key] = value\n",
    "\n",
    "    def __iter__(self):\n",
    "        return iter(self._annotations)\n",
    "\n",
    "    def __len__(self):\n",
    "        return len(self._annotations)\n",
    "\n",
    "    def __repr__(self):\n",
    "        return \"{}({!r})\".format(self.__class__.__name__, self._annotations)"
   ]
  },
  {
   "cell_type": "markdown",
   "id": "698063e8",
   "metadata": {},
   "source": [
    "### LabelStore Data Type\n",
    "\n",
    "The `LabelStore` stores a path as a key it's answer in the format: `{'<path>': {'answer': <bool>}`."
   ]
  },
  {
   "cell_type": "code",
   "execution_count": null,
   "id": "16418a55",
   "metadata": {},
   "outputs": [],
   "source": [
    "#exporti\n",
    "class LabelStore(AnnotationStore):\n",
    "    def __getitem__(self, key: str):\n",
    "        assert isinstance(key, str)\n",
    "        return self._annotations[key]\n",
    "\n",
    "    def __delitem__(self, key: str):\n",
    "        assert isinstance(key, str)\n",
    "        if key in self:\n",
    "            del self._annotations[key]\n",
    "\n",
    "    def __setitem__(self, key: str, value: Optional[Dict[str, bool]]):\n",
    "        assert isinstance(key, str)\n",
    "        if value:\n",
    "            assert isinstance(value, dict)\n",
    "        self._annotations[key] = value"
   ]
  },
  {
   "cell_type": "markdown",
   "id": "7971dff5",
   "metadata": {},
   "source": [
    "The following cell will define a cast from the annotation to a custom widget called `ImageButton`."
   ]
  },
  {
   "cell_type": "code",
   "execution_count": null,
   "id": "ff3545e4",
   "metadata": {},
   "outputs": [],
   "source": [
    "#exporti\n",
    "def _label_store_to_image_button(\n",
    "    annotation: LabelStore,\n",
    "    width: int = 150,\n",
    "    height: int = 150,\n",
    "    disabled: bool = False\n",
    ") -> Iterable[ImageButton]:\n",
    "    button_setting = ImageButtonSetting(\n",
    "        display_label=False,\n",
    "        image_width=f'{width}px',\n",
    "        image_height=f'{height}px'\n",
    "    )\n",
    "\n",
    "    buttons = []\n",
    "\n",
    "    for path, value in annotation.items():\n",
    "        image_button = ImageButton(button_setting)\n",
    "        image_button.image_path = str(path)\n",
    "        image_button.label_value = Path(path).stem\n",
    "        image_button.active = value.get('answer', False)\n",
    "        image_button.disabled = disabled\n",
    "        buttons.append(image_button)\n",
    "\n",
    "    return buttons"
   ]
  },
  {
   "cell_type": "code",
   "execution_count": null,
   "id": "351f50fb",
   "metadata": {},
   "outputs": [],
   "source": [
    "#exporti\n",
    "def _label_store_to_button(\n",
    "    annotation: LabelStore,\n",
    "    disabled: bool\n",
    ") -> Iterable[ActionButton]:\n",
    "    layout = {\n",
    "        'width': 'auto',\n",
    "        'height': 'auto'\n",
    "    }\n",
    "    buttons = []\n",
    "\n",
    "    for label, value in annotation.items():\n",
    "        button = ActionButton(layout=Layout(**layout))\n",
    "        button.description = label\n",
    "        button.value = label\n",
    "        button.tooltip = label\n",
    "        button.disabled = disabled\n",
    "        if value.get('answer', True):\n",
    "            button.layout.border = 'solid 2px #1B8CF3'\n",
    "        buttons.append(button)\n",
    "\n",
    "    return buttons"
   ]
  },
  {
   "cell_type": "code",
   "execution_count": null,
   "id": "b67c7dcf",
   "metadata": {},
   "outputs": [],
   "source": [
    "#exporti\n",
    "class LabelStoreCaster:  # pylint: disable=too-few-public-methods\n",
    "    \"\"\"Factory that casts the correctly widget\n",
    "    accordingly with the input\"\"\"\n",
    "\n",
    "    def __init__(\n",
    "        self,\n",
    "        output: Union[OutputImageLabel, OutputLabel],\n",
    "        width: int = 150,\n",
    "        height: int = 150,\n",
    "        widgets_disabled: bool = False\n",
    "    ):\n",
    "        self.width = width\n",
    "        self.height = height\n",
    "        self.output = output\n",
    "        self.widgets_disabled = widgets_disabled\n",
    "\n",
    "    def __call__(self, annotation: LabelStore) -> Iterable:\n",
    "        if isinstance(self.output, OutputImageLabel):\n",
    "            return _label_store_to_image_button(\n",
    "                annotation,\n",
    "                self.width,\n",
    "                self.height,\n",
    "                self.widgets_disabled\n",
    "            )\n",
    "\n",
    "        if isinstance(self.output, OutputLabel):\n",
    "            return _label_store_to_button(\n",
    "                annotation,\n",
    "                disabled=self.widgets_disabled\n",
    "            )\n",
    "\n",
    "        raise ValueError(\n",
    "            f\"output should have type OutputImageLabel or OutputLabel. {type(self.output)} given\"\n",
    "        )"
   ]
  },
  {
   "cell_type": "code",
   "execution_count": null,
   "id": "55895901",
   "metadata": {},
   "outputs": [],
   "source": [
    "@pytest.fixture\n",
    "def str_label_fixture():\n",
    "    return {\n",
    "        'A': {'answer': False},\n",
    "        'B': {'answer': True}\n",
    "    }"
   ]
  },
  {
   "cell_type": "code",
   "execution_count": null,
   "id": "b848452c",
   "metadata": {},
   "outputs": [],
   "source": [
    "@pytest.fixture\n",
    "def img_label_fixture():\n",
    "    return {\n",
    "        '../data/projects/capture1/pics/pink25x25.png': {'answer': False},\n",
    "    }"
   ]
  },
  {
   "cell_type": "code",
   "execution_count": null,
   "id": "6dbe324d",
   "metadata": {},
   "outputs": [],
   "source": [
    "%%ipytest\n",
    "def test_it_cast_label_store_to_image_button(img_label_fixture):\n",
    "    label_store = LabelStore()\n",
    "    label_store.update(img_label_fixture)\n",
    "    \n",
    "    output = OutputImageLabel()\n",
    "    caster = LabelStoreCaster(output)\n",
    "    image_buttons = caster(label_store)\n",
    "\n",
    "    for image_button in image_buttons:\n",
    "        assert isinstance(image_button, ImageButton)\n",
    "    assert len(image_buttons) == 1"
   ]
  },
  {
   "cell_type": "code",
   "execution_count": null,
   "id": "24c1d615",
   "metadata": {},
   "outputs": [],
   "source": [
    "%%ipytest\n",
    "def test_it_cast_label_store_to_button(str_label_fixture):    \n",
    "    label_store = LabelStore()\n",
    "    label_store.update(str_label_fixture)\n",
    "    \n",
    "    output = OutputLabel(class_labels=list(str_label_fixture.keys()))\n",
    "    caster = LabelStoreCaster(output)\n",
    "    buttons = caster(label_store)\n",
    "\n",
    "    assert len(buttons) == 2\n",
    "    for button in buttons:\n",
    "        assert isinstance(button, ActionButton)\n",
    "    assert buttons[0].description == 'A'\n",
    "    assert buttons[1].description == 'B'\n",
    "    assert buttons[0].value == 'A'\n",
    "    assert buttons[1].value == 'B'"
   ]
  },
  {
   "cell_type": "code",
   "execution_count": null,
   "id": "5be283a2",
   "metadata": {},
   "outputs": [],
   "source": [
    "%%ipytest\n",
    "def test_it_can_disable_widgets(str_label_fixture):\n",
    "    label_store = LabelStore()\n",
    "    label_store.update(str_label_fixture)\n",
    "    \n",
    "    output = OutputLabel(class_labels=list(str_label_fixture.keys()))\n",
    "    caster = LabelStoreCaster(output, widgets_disabled=True)\n",
    "    buttons = caster(label_store)\n",
    "    for button in buttons:\n",
    "        assert button.disabled is True"
   ]
  },
  {
   "cell_type": "code",
   "execution_count": null,
   "id": "4ab48220",
   "metadata": {},
   "outputs": [],
   "source": [
    "#hide\n",
    "from nbdev.export import notebook2script\n",
    "notebook2script()"
   ]
  },
  {
   "cell_type": "code",
   "execution_count": null,
   "id": "8fc4bbc5",
   "metadata": {},
   "outputs": [],
   "source": []
  }
 ],
 "metadata": {
  "kernelspec": {
   "display_name": "Python 3",
   "language": "python",
   "name": "python3"
  }
 },
 "nbformat": 4,
 "nbformat_minor": 5
}
