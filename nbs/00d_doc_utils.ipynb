{
 "cells": [
  {
   "cell_type": "code",
   "execution_count": null,
   "id": "e15c1e2d",
   "metadata": {},
   "outputs": [],
   "source": [
    "# default_exp doc_utils"
   ]
  },
  {
   "cell_type": "code",
   "execution_count": null,
   "id": "73b3212f",
   "metadata": {},
   "outputs": [],
   "source": [
    "# hide\n",
    "%load_ext autoreload\n",
    "%autoreload 2"
   ]
  },
  {
   "cell_type": "code",
   "execution_count": null,
   "id": "2cd1d0c4",
   "metadata": {},
   "outputs": [],
   "source": [
    "# hide\n",
    "from nbdev import *"
   ]
  },
  {
   "cell_type": "code",
   "execution_count": null,
   "id": "ffcac7ef",
   "metadata": {},
   "outputs": [],
   "source": [
    "#exporti\n",
    "import os"
   ]
  },
  {
   "cell_type": "markdown",
   "id": "449065ec",
   "metadata": {},
   "source": [
    "# Doc Utils\n",
    "\n",
    "This notebook develops helper modules to build Ipyannotator's static documentation."
   ]
  },
  {
   "cell_type": "markdown",
   "id": "77fc616b",
   "metadata": {},
   "source": [
    "The next cell design a helper function that check if the documentation it's been built. This is specially helpful to mock some behaviors that doesn't work well on static docs."
   ]
  },
  {
   "cell_type": "code",
   "execution_count": null,
   "id": "f340d2fb",
   "metadata": {},
   "outputs": [],
   "source": [
    "#exporti\n",
    "def is_building_docs() -> bool:\n",
    "    return 'DOCUTILSCONFIG' in os.environ"
   ]
  },
  {
   "cell_type": "markdown",
   "id": "b9608c7c",
   "metadata": {},
   "source": [
    "## Docs metadata\n",
    "\n",
    "The following cells was extracted from [jb-nbdev](https://github.com/fastai/jb-nbdev) and will perform some changes on our metadata to integrate nbdev and mynb-st."
   ]
  },
  {
   "cell_type": "code",
   "execution_count": null,
   "id": "08024850",
   "metadata": {},
   "outputs": [],
   "source": [
    "#exporti\n",
    "import glob\n",
    "from fastcore.all import L, compose, Path\n",
    "from nbdev.export2html import _mk_flag_re, _re_cell_to_collapse_output, check_re\n",
    "from nbdev.export import check_re_multi\n",
    "import nbformat as nbf"
   ]
  },
  {
   "cell_type": "code",
   "execution_count": null,
   "id": "a9e6bca1",
   "metadata": {},
   "outputs": [],
   "source": [
    "#export\n",
    "def nbglob(fname='.', recursive=False, extension='.ipynb') -> L:\n",
    "    \"\"\"Find all files in a directory matching an extension.\n",
    "    Ignores hidden directories and filenames starting with `_`\"\"\"\n",
    "    fname = Path(fname)\n",
    "    if fname.is_dir():\n",
    "        abs_name = fname.absolute()\n",
    "        rec_path = f'{abs_name}/**/*{extension}'\n",
    "        non_rec_path = f'{abs_name}/*{extension}'\n",
    "        fname = rec_path if recursive else non_rec_path\n",
    "    fls = L(\n",
    "        glob.glob(str(fname), recursive=recursive)\n",
    "    ).filter(\n",
    "        lambda x: '/.' not in x\n",
    "    ).map(Path)\n",
    "    return fls.filter(lambda x: not x.name.startswith('_') and x.name.endswith(extension))"
   ]
  },
  {
   "cell_type": "code",
   "execution_count": null,
   "id": "de3f485d",
   "metadata": {},
   "outputs": [],
   "source": [
    "#exporti\n",
    "def upd_metadata(cell, tag):\n",
    "    cell_tags = list(set(cell.get('metadata', {}).get('tags', [])))\n",
    "    if tag not in cell_tags:\n",
    "        cell_tags.append(tag)\n",
    "    cell['metadata']['tags'] = cell_tags"
   ]
  },
  {
   "cell_type": "code",
   "execution_count": null,
   "id": "06737dbe",
   "metadata": {},
   "outputs": [],
   "source": [
    "#export\n",
    "def hide(cell):\n",
    "    \"\"\"Hide inputs of `cell` that need to be hidden\n",
    "    if check_re_multi(cell, [_re_show_doc, *_re_hide_input]): upd_metadata(cell, 'remove-input')\n",
    "    elif check_re(cell, _re_hide_output): upd_metadata(cell, 'remove-output')\n",
    "    \"\"\"\n",
    "    regexes = ['#(.+|)hide', '%%ipytest']\n",
    "    if check_re_multi(cell, regexes):\n",
    "        upd_metadata(cell, 'remove-cell')\n",
    "\n",
    "    return cell\n",
    "\n",
    "\n",
    "_re_cell_to_collapse_input = _mk_flag_re(\n",
    "    '(collapse_input|collapse-input)', 0, \"Cell with #collapse_input\")\n",
    "\n",
    "\n",
    "def collapse_cells(cell):\n",
    "    \"Add a collapse button to inputs or outputs of `cell` in either the open or closed position\"\n",
    "    if check_re(cell, _re_cell_to_collapse_input):\n",
    "        upd_metadata(cell, 'hide-input')\n",
    "    elif check_re(cell, _re_cell_to_collapse_output):\n",
    "        upd_metadata(cell, 'hide-output')\n",
    "    return cell"
   ]
  },
  {
   "cell_type": "code",
   "execution_count": null,
   "id": "b1844edf",
   "metadata": {},
   "outputs": [],
   "source": [
    "#exporti\n",
    "if __name__ == '__main__':\n",
    "\n",
    "    _func = compose(hide, collapse_cells)\n",
    "    files = nbglob('nbs/')\n",
    "\n",
    "    for file in files:\n",
    "        nb = nbf.read(file, nbf.NO_CONVERT)\n",
    "        for c in nb.cells:\n",
    "            _func(c)\n",
    "        nbf.write(nb, file)"
   ]
  },
  {
   "cell_type": "code",
   "execution_count": null,
   "id": "cf24e1bf",
   "metadata": {},
   "outputs": [],
   "source": [
    "#hide\n",
    "from nbdev.export import notebook2script\n",
    "notebook2script()"
   ]
  }
 ],
 "metadata": {
  "kernelspec": {
   "display_name": "Python 3",
   "language": "python",
   "name": "python3"
  }
 },
 "nbformat": 4,
 "nbformat_minor": 5
}
