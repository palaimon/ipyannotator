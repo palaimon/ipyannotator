{
 "cells": [
  {
   "cell_type": "code",
   "execution_count": null,
   "metadata": {},
   "outputs": [],
   "source": [
    "# default_exp image_button"
   ]
  },
  {
   "cell_type": "code",
   "execution_count": null,
   "metadata": {},
   "outputs": [],
   "source": [
    "%load_ext autoreload\n",
    "%autoreload 2"
   ]
  },
  {
   "cell_type": "code",
   "execution_count": null,
   "metadata": {},
   "outputs": [],
   "source": [
    "from nbdev import *\n"
   ]
  },
  {
   "cell_type": "code",
   "execution_count": null,
   "metadata": {},
   "outputs": [],
   "source": [
    "#exporti\n",
    "from functools import partial\n",
    "\n",
    "import base64\n",
    "from pathlib import Path\n",
    "\n",
    "from ipyevents import Event\n",
    "from ipywidgets import Image, VBox, Layout, Output, HTML, Label\n",
    "from traitlets import Bool, Unicode, HasTraits, Bytes, link, dlink, observe"
   ]
  },
  {
   "cell_type": "code",
   "execution_count": null,
   "metadata": {},
   "outputs": [],
   "source": [
    "#export\n",
    "\n",
    "class ImageButton(VBox, HasTraits):\n",
    "    \"\"\"\n",
    "    Represents simple image with lable and toggle button functionality.\n",
    "    \n",
    "    \"\"\"\n",
    "    debug_output = Output(layout={'border': '1px solid black'})\n",
    "    active = Bool()\n",
    "    image_path = Unicode()\n",
    "    label_value = Unicode()\n",
    "    \n",
    "    def __init__(self, im_path=None, label=None,\n",
    "                 im_name=None, im_index=None,\n",
    "                 display_label=True, image_width='50px', image_height=None):\n",
    "        \n",
    "        self.display_label = display_label\n",
    "        self.label = 'None'\n",
    "        self.image = Image(\n",
    "            layout=Layout(display='flex',\n",
    "                          justify_content='center',\n",
    "                          align_items='center',\n",
    "                          align_content='center',\n",
    "                          width=image_width,\n",
    "                          height=image_height),\n",
    "        )\n",
    "        \n",
    "        if self.display_label:  # both image and label\n",
    "            self.label = HTML(\n",
    "                value='?',\n",
    "                layout=Layout(display='flex',\n",
    "                              justify_content='center',\n",
    "                              align_items='center',\n",
    "                              align_content='center'),\n",
    "            )\n",
    "        else:  # no label (capture image case)\n",
    "            self.im_name = im_name\n",
    "            self.im_index = im_index\n",
    "            self.image.layout.border = 'solid 1px gray'\n",
    "            self.image.layout.object_fit = 'contain'\n",
    "\n",
    "        super().__init__(layout=Layout(align_items='center',\n",
    "                                       margin='3px',\n",
    "                                       padding='2px'))\n",
    "        if not im_path:\n",
    "            self.clear()\n",
    "            \n",
    "        self.d = Event(source=self, watched_events=['click'])\n",
    "        \n",
    "    @observe('image_path')\n",
    "    def _read_image(self, change=None):\n",
    "        if change:\n",
    "            new_path = change[\"new\"]\n",
    "        else:\n",
    "            new_path = self.image_path\n",
    "\n",
    "        if new_path:\n",
    "            self.image.value = open(new_path, \"rb\").read()\n",
    "            if not self.children:\n",
    "                self.children = (self.image,)\n",
    "                if self.display_label:\n",
    "                    self.children += (self.label,)\n",
    "        else:\n",
    "            #do not display image widget\n",
    "            self.children = [] \n",
    "        \n",
    "        \n",
    "    @observe('label_value')\n",
    "    def _read_label(self, change=None):\n",
    "        new_label = change['new']\n",
    "        \n",
    "        if isinstance(self.label, HTML):\n",
    "            self.label.value = new_label\n",
    "        else:\n",
    "            self.label = new_label\n",
    "            \n",
    "    def clear(self):\n",
    "        if isinstance(self.label, HTML):\n",
    "            self.label.value = ''\n",
    "        else:\n",
    "            self.label = ''\n",
    "        self.image_path = ''\n",
    "        self.active = False\n",
    "        \n",
    "    @observe('active')\n",
    "    def mark(self, ev):\n",
    "        # pad to compensate self size with border\n",
    "        if self.active:\n",
    "            if self.display_label:\n",
    "                self.layout.border = 'solid 2px #1B8CF3'\n",
    "                self.layout.padding = '0px'\n",
    "            else:\n",
    "                self.image.layout.border = 'solid 3px #1B8CF3'\n",
    "                self.image.layout.padding = '0px'\n",
    "        else:\n",
    "            if self.display_label:\n",
    "                self.layout.border = 'none'\n",
    "                self.layout.padding = '2px'\n",
    "            else:\n",
    "                self.image.layout.border = 'solid 1px gray'\n",
    "                \n",
    "    @property\n",
    "    def name(self):\n",
    "        return Path(self.image_path).name\n",
    "    \n",
    "    @debug_output.capture(clear_output=False)\n",
    "    def on_click(self, cb):\n",
    "        self.d.on_dom_event(cb)\n",
    "    \n",
    "    def reset_callbacks(self):\n",
    "        self.d.reset_callbacks()\n",
    "        "
   ]
  },
  {
   "cell_type": "code",
   "execution_count": null,
   "metadata": {},
   "outputs": [],
   "source": [
    "im = Image()\n",
    "im.value = open('../data/mock/pics/test200x200.png', \"rb\").read()\n",
    "im"
   ]
  },
  {
   "cell_type": "code",
   "execution_count": null,
   "metadata": {},
   "outputs": [],
   "source": [
    "imb = ImageButton()\n",
    "display(imb), display(imb.debug_output)"
   ]
  },
  {
   "cell_type": "code",
   "execution_count": null,
   "metadata": {},
   "outputs": [],
   "source": [
    "assert not imb.active\n",
    "imb.name"
   ]
  },
  {
   "cell_type": "code",
   "execution_count": null,
   "metadata": {},
   "outputs": [],
   "source": [
    "h = HTML('Event info')                         \n",
    "display(h)"
   ]
  },
  {
   "cell_type": "code",
   "execution_count": null,
   "metadata": {},
   "outputs": [],
   "source": [
    "from functools import partial\n",
    "\n",
    "def handle_event(event, name=None):\n",
    "    event.update({'bname': name})\n",
    "    lines = ['{}: {}'.format(k, v) for k, v in event.items() if k in ['bname', 'type']]\n",
    "    content = '<br>'.join(lines)\n",
    "    h.value = content\n",
    "\n",
    "\n",
    "imb.on_click(partial(handle_event, name='imb'))\n",
    "imb.d._dom_handlers.callbacks"
   ]
  },
  {
   "cell_type": "code",
   "execution_count": null,
   "metadata": {},
   "outputs": [],
   "source": [
    "imb.reset_callbacks()\n",
    "imb.d._dom_handlers.callbacks"
   ]
  },
  {
   "cell_type": "code",
   "execution_count": null,
   "metadata": {},
   "outputs": [],
   "source": [
    "imb.image_path = '../data/mock/pics/test200x200.png'\n",
    "imb.label_value = 'new_label'\n",
    "imb.active = True\n",
    "assert imb.name == 'test200x200.png'"
   ]
  },
  {
   "cell_type": "code",
   "execution_count": null,
   "metadata": {},
   "outputs": [],
   "source": [
    "imb.clear()"
   ]
  },
  {
   "cell_type": "code",
   "execution_count": null,
   "metadata": {},
   "outputs": [],
   "source": [
    "im_button = ImageButton(im_path = '../data/mock/pics/test200x200.png', label='hm', display_label=False)\n",
    "\n",
    "def handle_event(event, name=None):\n",
    "    if name == im_button.name:\n",
    "        im_button.active = not im_button.active\n",
    "\n",
    "\n",
    "im_button.on_click(partial(handle_event, name='test200x200.png'))\n",
    "\n",
    "display(im_button)"
   ]
  },
  {
   "cell_type": "code",
   "execution_count": null,
   "metadata": {},
   "outputs": [],
   "source": [
    "#hide\n",
    "from nbdev.export import notebook2script\n",
    "notebook2script()"
   ]
  },
  {
   "cell_type": "code",
   "execution_count": null,
   "metadata": {},
   "outputs": [],
   "source": []
  },
  {
   "cell_type": "code",
   "execution_count": null,
   "metadata": {},
   "outputs": [],
   "source": []
  },
  {
   "cell_type": "code",
   "execution_count": null,
   "metadata": {},
   "outputs": [],
   "source": []
  }
 ],
 "metadata": {
  "kernelspec": {
   "display_name": "Python 3",
   "language": "python",
   "name": "python3"
  }
 },
 "nbformat": 4,
 "nbformat_minor": 4
}
