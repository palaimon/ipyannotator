{
 "cells": [
  {
   "cell_type": "code",
   "execution_count": null,
   "metadata": {},
   "outputs": [],
   "source": [
    "# default_exp custom_input.buttons"
   ]
  },
  {
   "cell_type": "code",
   "execution_count": null,
   "metadata": {},
   "outputs": [],
   "source": [
    "# hide\n",
    "%load_ext autoreload\n",
    "%autoreload 2"
   ]
  },
  {
   "cell_type": "code",
   "execution_count": null,
   "metadata": {},
   "outputs": [],
   "source": [
    "# hide\n",
    "from nbdev import *"
   ]
  },
  {
   "cell_type": "code",
   "execution_count": null,
   "metadata": {},
   "outputs": [],
   "source": [
    "#exporti\n",
    "from pathlib import Path\n",
    "\n",
    "import attr\n",
    "from ipyevents import Event\n",
    "from ipywidgets import Image, VBox, Layout, Output, HTML\n",
    "from traitlets import Bool, Unicode, HasTraits, observe\n",
    "from typing import Optional, Union, Any"
   ]
  },
  {
   "cell_type": "code",
   "execution_count": null,
   "metadata": {},
   "outputs": [],
   "source": [
    "# hide\n",
    "\n",
    "from IPython.display import display"
   ]
  },
  {
   "cell_type": "markdown",
   "metadata": {},
   "source": [
    "# Image button"
   ]
  },
  {
   "cell_type": "code",
   "execution_count": null,
   "metadata": {},
   "outputs": [],
   "source": [
    "#exporti\n",
    "@attr.define(slots=False)\n",
    "class ImageButtonSetting:\n",
    "    im_path: Optional[str] = None\n",
    "    label: Optional[Union[HTML, str]] = None\n",
    "    im_name: Optional[str] = None\n",
    "    im_index: Optional[Any] = None\n",
    "    display_label: bool = True\n",
    "    image_width: str = '50px'\n",
    "    image_height: Optional[str] = None"
   ]
  },
  {
   "cell_type": "code",
   "execution_count": null,
   "metadata": {},
   "outputs": [],
   "source": [
    "#export\n",
    "\n",
    "class ImageButton(VBox, HasTraits):\n",
    "    \"\"\"\n",
    "    Represents simple image with label and toggle button functionality.\n",
    "\n",
    "    # Class methods\n",
    "\n",
    "    - clear(): Clear image infos\n",
    "\n",
    "    - on_click(p_function): Handle click events\n",
    "\n",
    "    # Class methods\n",
    "\n",
    "    - clear(): Clear image infos\n",
    "\n",
    "    - on_click(p_function): Handle click events\n",
    "\n",
    "    - reset_callbacks(): Reset event callbacks\n",
    "    \"\"\"\n",
    "    debug_output = Output(layout={'border': '1px solid black'})\n",
    "    active = Bool()\n",
    "    image_path = Unicode()\n",
    "    label_value = Unicode()\n",
    "\n",
    "    def __init__(self, setting: ImageButtonSetting):\n",
    "\n",
    "        self.setting = setting\n",
    "        self.image = Image(\n",
    "            layout=Layout(display='flex',\n",
    "                          justify_content='center',\n",
    "                          align_items='center',\n",
    "                          align_content='center',\n",
    "                          width=setting.image_width,\n",
    "                          margin='0 0 0 0',\n",
    "                          height=setting.image_height),\n",
    "        )\n",
    "\n",
    "        if self.setting.display_label:  # both image and label\n",
    "            self.setting.label = HTML(\n",
    "                value='?',\n",
    "                layout=Layout(display='flex',\n",
    "                              justify_content='center',\n",
    "                              align_items='center',\n",
    "                              align_content='center'),\n",
    "            )\n",
    "        else:  # no label (capture image case)\n",
    "            self.im_name = self.setting.im_name\n",
    "            self.im_index = self.setting.im_index\n",
    "            self.image.layout.border = 'solid 1px gray'\n",
    "            self.image.layout.object_fit = 'contain'\n",
    "            self.image.margin = '0 0 0 0'\n",
    "            self.image.layout.overflow = 'hidden'\n",
    "\n",
    "        super().__init__(layout=Layout(align_items='center',\n",
    "                                       margin='3px',\n",
    "                                       overflow='hidden',\n",
    "                                       padding='2px'))\n",
    "        if not setting.im_path:\n",
    "            self.clear()\n",
    "\n",
    "        self.d = Event(source=self, watched_events=['click'])\n",
    "\n",
    "    @observe('image_path')\n",
    "    def _read_image(self, change=None):\n",
    "        new_path = change['new']\n",
    "        if new_path:\n",
    "            self.image.value = open(new_path, \"rb\").read()\n",
    "            if not self.children:\n",
    "                self.children = (self.image,)\n",
    "                if self.setting.display_label:\n",
    "                    self.children += (self.setting.label,)\n",
    "        else:\n",
    "            #do not display image widget\n",
    "            self.children = tuple()\n",
    "\n",
    "    @observe('label_value')\n",
    "    def _read_label(self, change=None):\n",
    "        new_label = change['new']\n",
    "\n",
    "        if isinstance(self.setting.label, HTML):\n",
    "            self.setting.label.value = new_label\n",
    "        else:\n",
    "            self.setting.label = new_label\n",
    "\n",
    "    def clear(self):\n",
    "        if isinstance(self.setting.label, HTML):\n",
    "            self.setting.label.value = ''\n",
    "        else:\n",
    "            self.setting.label = ''\n",
    "        self.image_path = ''\n",
    "        self.active = False\n",
    "\n",
    "    @observe('active')\n",
    "    def mark(self, ev):\n",
    "        # pad to compensate self size with border\n",
    "        if self.active:\n",
    "            if self.setting.display_label:\n",
    "                self.layout.border = 'solid 2px #1B8CF3'\n",
    "                self.layout.padding = '0px'\n",
    "            else:\n",
    "                self.image.layout.border = 'solid 3px #1B8CF3'\n",
    "                self.image.layout.padding = '0px'\n",
    "        else:\n",
    "            if self.setting.display_label:\n",
    "                self.layout.border = 'none'\n",
    "                self.layout.padding = '2px'\n",
    "            else:\n",
    "                self.image.layout.border = 'solid 1px gray'\n",
    "\n",
    "    def __eq__(self, other):\n",
    "        equals = [\n",
    "            other.image_path == self.image_path,\n",
    "            other.label_value == self.label_value,\n",
    "            other.active == self.active,\n",
    "        ]\n",
    "\n",
    "        return all(equals)\n",
    "\n",
    "    def update(self, other):\n",
    "        if self != other:\n",
    "            self.image_path = other.image_path\n",
    "            self.label_value = other.label_value\n",
    "            self.active = other.active\n",
    "\n",
    "    @property\n",
    "    def value(self):\n",
    "        return Path(self.image_path).name\n",
    "\n",
    "    @debug_output.capture(clear_output=False)\n",
    "    def on_click(self, cb):\n",
    "        self.d.on_dom_event(cb)\n",
    "\n",
    "    def reset_callbacks(self):\n",
    "        self.d.reset_callbacks()"
   ]
  },
  {
   "cell_type": "code",
   "execution_count": null,
   "metadata": {},
   "outputs": [],
   "source": [
    "# hide\n",
    "im = Image()\n",
    "im.value = open('../data/mock/pics/test200x200.png', \"rb\").read()\n",
    "im"
   ]
  },
  {
   "cell_type": "code",
   "execution_count": null,
   "metadata": {},
   "outputs": [],
   "source": [
    "# hide\n",
    "setting = ImageButtonSetting()\n",
    "imb = ImageButton(setting)\n",
    "display(imb), display(imb.debug_output)"
   ]
  },
  {
   "cell_type": "code",
   "execution_count": null,
   "metadata": {},
   "outputs": [],
   "source": [
    "# hide\n",
    "assert not imb.active\n",
    "imb.value"
   ]
  },
  {
   "cell_type": "code",
   "execution_count": null,
   "metadata": {},
   "outputs": [],
   "source": [
    "# hide\n",
    "h = HTML('Event info')\n",
    "display(h)"
   ]
  },
  {
   "cell_type": "code",
   "execution_count": null,
   "metadata": {},
   "outputs": [],
   "source": [
    "# hide\n",
    "from functools import partial\n",
    "\n",
    "\n",
    "def handle_event(event, name=None):\n",
    "    event.update({'bname': name})\n",
    "    lines = ['{}: {}'.format(k, v) for k, v in event.items() if k in ['bname', 'type']]\n",
    "    content = '<br>'.join(lines)\n",
    "    h.value = content\n",
    "\n",
    "\n",
    "imb.on_click(partial(handle_event, name='imb'))\n",
    "imb.d._dom_handlers.callbacks"
   ]
  },
  {
   "cell_type": "code",
   "execution_count": null,
   "metadata": {},
   "outputs": [],
   "source": [
    "# hide\n",
    "imb.reset_callbacks()\n",
    "imb.d._dom_handlers.callbacks"
   ]
  },
  {
   "cell_type": "code",
   "execution_count": null,
   "metadata": {},
   "outputs": [],
   "source": [
    "# hide\n",
    "imb.image_path = '../data/mock/pics/test200x200.png'\n",
    "imb.label_value = 'new_label'\n",
    "imb.active = True\n",
    "assert imb.value == 'test200x200.png'"
   ]
  },
  {
   "cell_type": "code",
   "execution_count": null,
   "metadata": {},
   "outputs": [],
   "source": [
    "# hide\n",
    "imb.clear()"
   ]
  },
  {
   "cell_type": "code",
   "execution_count": null,
   "metadata": {},
   "outputs": [],
   "source": [
    "# hide\n",
    "button_setting = ImageButtonSetting(\n",
    "    im_path='../data/mock/pics/test200x200.png',\n",
    "    label='hm',\n",
    "    display_label=False\n",
    ")\n",
    "im_button = ImageButton(button_setting)\n",
    "\n",
    "\n",
    "def handle_event_(event, name=None):\n",
    "    if name == im_button.name:\n",
    "        im_button.active = not im_button.active\n",
    "\n",
    "\n",
    "im_button.on_click(partial(handle_event_, name='test200x200.png'))\n",
    "\n",
    "display(im_button)"
   ]
  },
  {
   "cell_type": "code",
   "execution_count": null,
   "metadata": {},
   "outputs": [],
   "source": [
    "#hide\n",
    "from nbdev.export import notebook2script\n",
    "notebook2script()"
   ]
  },
  {
   "cell_type": "code",
   "execution_count": null,
   "metadata": {},
   "outputs": [],
   "source": []
  }
 ],
 "metadata": {
  "kernelspec": {
   "display_name": "Python 3",
   "language": "python",
   "name": "python3"
  }
 },
 "nbformat": 4,
 "nbformat_minor": 4
}
