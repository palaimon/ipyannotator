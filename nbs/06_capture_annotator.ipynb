{
 "cells": [
  {
   "cell_type": "code",
   "execution_count": null,
   "metadata": {},
   "outputs": [],
   "source": [
    "# default_exp capture_annotator"
   ]
  },
  {
   "cell_type": "code",
   "execution_count": null,
   "metadata": {},
   "outputs": [],
   "source": [
    "%load_ext autoreload\n",
    "%autoreload 2"
   ]
  },
  {
   "cell_type": "code",
   "execution_count": null,
   "metadata": {},
   "outputs": [],
   "source": [
    "from nbdev import *"
   ]
  },
  {
   "cell_type": "code",
   "execution_count": null,
   "metadata": {},
   "outputs": [],
   "source": [
    "#exporti\n",
    "\n",
    "from functools import partial\n",
    "import math\n",
    "\n",
    "from ipywidgets import (AppLayout, VBox, HBox, Button, GridBox, Layout, Checkbox, HTML, IntText, Valid, Output)\n",
    "from ipyevents import Event\n",
    "\n",
    "from pathlib import Path\n",
    "\n",
    "from ipyannotator.navi_widget import Navi\n",
    "from ipyannotator.storage import setup_project_paths, get_image_list_from_folder, AnnotationStorage\n",
    "\n",
    "from traitlets import Dict, Int, HasTraits, observe, dlink, link, List, Unicode, Bool\n",
    "\n",
    "from ipyannotator.image_button import ImageButton"
   ]
  },
  {
   "cell_type": "code",
   "execution_count": null,
   "metadata": {},
   "outputs": [],
   "source": [
    "#export\n",
    "\n",
    "class CaptureGrid(GridBox, HasTraits):\n",
    "    \"\"\"\n",
    "    Represents grid of `ImageButtons` with state. \n",
    "    \n",
    "    \"\"\"\n",
    "    debug_output = Output(layout={'border': '1px solid black'})\n",
    "    current_state = Dict()\n",
    "    autogenerate_idx = Int()\n",
    "    \n",
    "    def __init__(self, grid_item=ImageButton, image_width=150, image_height=150, \n",
    "                 n_rows=3, n_cols=3, display_label=False):\n",
    "        \n",
    "        \n",
    "        self.image_width = image_width\n",
    "        self.image_height = image_height\n",
    "        self.n_rows = n_rows\n",
    "        self.n_cols = n_cols\n",
    "        self._screen_im_number = IntText(value=n_rows * n_cols, \n",
    "                                         description='screen_image_number', \n",
    "                                         disabled=False)\n",
    "            \n",
    "        self._labels = [grid_item(display_label=display_label,\n",
    "                                  image_width='%dpx' % self.image_width,\n",
    "                                  image_height='%dpx' % self.image_height) for _ in range(self._screen_im_number.value)]\n",
    "        \n",
    "        self.callback = None\n",
    "        \n",
    "        self.observe(self.on_state_change, 'current_state')\n",
    "            \n",
    "        \n",
    "        gap = 40 if display_label else 15\n",
    "        \n",
    "        centered_settings = {\n",
    "            'grid_template_columns': \" \".join([\"%dpx\" % (self.image_width + gap) for i\n",
    "                                               in range(self.n_cols)]),\n",
    "            'grid_template_rows': \" \".join([\"%dpx\" % (self.image_height + gap) for i\n",
    "                                            in range(self.n_rows)]),\n",
    "            'justify_content': 'center',\n",
    "            'align_content': 'space-around'\n",
    "        }\n",
    "        \n",
    "         \n",
    "        super().__init__(children=self._labels, layout=Layout(**centered_settings))\n",
    "        \n",
    "    @observe('autogenerate_idx')\n",
    "    def _autogenerate_idx_changed(self, change):\n",
    "        for i in self._labels:\n",
    "            i._read_image()\n",
    "        \n",
    "    @debug_output.capture(clear_output=True)\n",
    "    def on_state_change(self, change=None):\n",
    "        print('on_state_change', change['new'])\n",
    "        new_state = change['new']\n",
    "        updated = 0\n",
    "        iter_state = iter(new_state)\n",
    "        \n",
    "        for label in self._labels:\n",
    "            p = next(iter_state, None)\n",
    "            if p:\n",
    "                label.image_path = str(p)\n",
    "                label.label_value = Path(p).stem\n",
    "                label.active = new_state[p].get('answer', False)\n",
    "            else:\n",
    "                label.clear()\n",
    "            \n",
    "        if self.callback:\n",
    "            self.register_on_click()\n",
    "            \n",
    "            \n",
    "    def on_click(self, cb):\n",
    "        self.callback = cb\n",
    "        self.register_on_click()\n",
    "\n",
    "    @debug_output.capture(clear_output=True)\n",
    "    def register_on_click(self):\n",
    "        print('register_on_click')\n",
    "        for l in self._labels:\n",
    "            l.reset_callbacks()\n",
    "            l.on_click(partial(self.callback, name=l.name))        "
   ]
  },
  {
   "cell_type": "code",
   "execution_count": null,
   "metadata": {},
   "outputs": [],
   "source": [
    "ibg = CaptureGrid(grid_item=ImageButton, image_width=50, image_height=75)\n",
    "ibg"
   ]
  },
  {
   "cell_type": "markdown",
   "metadata": {},
   "source": [
    "You should not see anythong at this step, until you set a correct visual state (see next step below)"
   ]
  },
  {
   "cell_type": "code",
   "execution_count": null,
   "metadata": {},
   "outputs": [],
   "source": [
    "ibg.debug_output"
   ]
  },
  {
   "cell_type": "markdown",
   "metadata": {},
   "source": [
    "Actually `CaptureGrid` does not have own `on_click` event listener, but grid elements itself should implement `on_click(ev)` and `reset_callbacks()` methods to register/reset onclick callback function respectively. Also grid element shoudl have a field `name` in order user can destinguish between grid children.\n",
    "\n",
    "In current implementation `ImageButton` is default grid element.\n",
    "\n",
    "While ipyevents implementation lacks `sender` or `source` in callback args, `functools.partial` used to back element `name` into return value. You can see example of on_click event handler `test_handler` below. \n",
    "`name` of the button is printed out on click."
   ]
  },
  {
   "cell_type": "code",
   "execution_count": null,
   "metadata": {},
   "outputs": [],
   "source": [
    "ibg.current_state = {'../data/projects/capture1/pics/pink25x25.png': {'answer': True},\n",
    "                     '../data/mock/pics/test200x200.png': {'answer': True}, '': {'answer': False}}"
   ]
  },
  {
   "cell_type": "code",
   "execution_count": null,
   "metadata": {},
   "outputs": [],
   "source": [
    "h = HTML('Event info')                         \n",
    "display(h)\n",
    "\n",
    "        \n",
    "def test_handler(event, name=None):\n",
    "    event.update({'label_name': name})\n",
    "    lines = ['{}: {}'.format(k, v) for k, v in event.items()]\n",
    "    content = '<br>'.join(lines)\n",
    "    h.value = event['label_name']\n",
    "\n",
    "ibg.on_click(test_handler)"
   ]
  },
  {
   "cell_type": "code",
   "execution_count": null,
   "metadata": {},
   "outputs": [],
   "source": [
    "ibg.debug_output"
   ]
  },
  {
   "cell_type": "code",
   "execution_count": null,
   "metadata": {},
   "outputs": [],
   "source": [
    "ibg._screen_im_number.value"
   ]
  },
  {
   "cell_type": "code",
   "execution_count": null,
   "metadata": {},
   "outputs": [],
   "source": [
    "#exporti\n",
    "\n",
    "class CaptureAnnotatorGUI(AppLayout):\n",
    "    def __init__(self, image_width=150, image_height=150, \n",
    "                 n_rows=3, n_cols=3):\n",
    "        \n",
    "        self._screen_im_number = IntText(value=n_rows * n_cols, \n",
    "                                    description='screen_image_number', \n",
    "                                    disabled=False)\n",
    "        \n",
    "        self.image_width = image_width\n",
    "        self.image_height = image_height\n",
    "        self.n_rows = n_rows\n",
    "        self.n_cols = n_cols\n",
    "        \n",
    "        self._navi = Navi()\n",
    "        \n",
    "        self._save_btn = Button(description=\"Save\",\n",
    "                                layout=Layout(width='auto'))\n",
    "        \n",
    "        self._none_checkbox = Checkbox(description=\"Select none\",\n",
    "                                       indent=False,\n",
    "                                       layout=Layout(width='100px'))\n",
    "\n",
    "        self._controls_box = HBox([self._navi, self._save_btn, self._none_checkbox],\n",
    "                                 layout=Layout(display='flex', justify_content='center', flex_flow='wrap', align_items='center'))\n",
    "        \n",
    "         \n",
    "        self._grid_box = CaptureGrid(image_width=image_width, image_height=image_height,  n_rows=n_rows, n_cols=n_cols, display_label=False)\n",
    "\n",
    "\n",
    "        self._grid_label = HTML()\n",
    "        self._labels_box = VBox(children = [self._grid_label, self._grid_box],\n",
    "                                layout=Layout(display='flex', justify_content='center', flex_wrap='wrap', align_items='center'))\n",
    "\n",
    "        \n",
    "        super().__init__(header=None,\n",
    "                 left_sidebar=None,\n",
    "                 center=self._labels_box,\n",
    "                 right_sidebar=None,\n",
    "                 footer=self._controls_box,\n",
    "                 pane_widths=(2, 8, 0),\n",
    "                 pane_heights=(1, 4, 1))\n",
    "        "
   ]
  },
  {
   "cell_type": "code",
   "execution_count": null,
   "metadata": {},
   "outputs": [],
   "source": [
    "c = CaptureAnnotatorGUI(image_width=50, image_height=50, n_rows=5, n_cols=5)\n",
    "c._grid_label.value = 'Select smth'\n",
    "c"
   ]
  },
  {
   "cell_type": "code",
   "execution_count": null,
   "metadata": {},
   "outputs": [],
   "source": [
    "c._grid_box.current_state = {'../data/projects/capture1/pics/pink25x25.png': {'answer': True}}"
   ]
  },
  {
   "cell_type": "code",
   "execution_count": null,
   "metadata": {},
   "outputs": [],
   "source": [
    "#exporti\n",
    "\n",
    "class CaptureAnnotatorLogic(HasTraits):\n",
    "    debug_output = Output(layout={'border': '1px solid black'})\n",
    "    index = Int(0) # state index\n",
    "    disp_number = Int() # number of images on screen\n",
    "    num_screens = Int() # number of screens\n",
    "    current_state = Dict()\n",
    "    question_value = Unicode()\n",
    "    all_none = Bool()\n",
    "\n",
    "    \n",
    "    def __init__(self, project_path, question=None, image_dir='pics', filter_files=None, results_dir=None):\n",
    "        self.project_path = Path(project_path)\n",
    "        self.image_dir, self.annotation_file_path = setup_project_paths(self.project_path, image_dir=image_dir, results_dir=results_dir)\n",
    "        \n",
    "        self.image_paths = sorted(get_image_list_from_folder(self.image_dir)) #todo: use sorted in storage?\n",
    "\n",
    "        if filter_files:\n",
    "            self.image_paths = [p for p in self.image_paths if str(p) in filter_files]\n",
    "        if not self.image_paths:\n",
    "            raise UserWarning(\"No image files to display! Check image_dir of filter.\")\n",
    "        self.current_im_num = len(self.image_paths)\n",
    "        self.annotations = AnnotationStorage(self.image_paths)\n",
    "        if question:\n",
    "            self.question_value = f'<center><p style=\"font-size:20px;\">{question}</p></center>'\n",
    "        self._update_state()\n",
    "        \n",
    "        \n",
    "    @observe('disp_number')\n",
    "    def _update_state(self, change=None): # from annotations\n",
    "        state_images = self._get_state_names(self.index)\n",
    "        current_state = {}\n",
    "        for im_path in state_images:\n",
    "            current_state[str(im_path)] = self.annotations.get(str(im_path)) or {}\n",
    "        self.all_none = all(value == {'answer': False} for value in current_state.values())\n",
    "        self.current_state = current_state\n",
    "\n",
    "        \n",
    "    def _update_annotations(self, index): # from screen  \n",
    "        for p, anno in self.current_state.items():\n",
    "            self.annotations[str(p)] = anno\n",
    "        \n",
    "    def _save_annotations(self, *args, **kwargs): # to disk\n",
    "        index = kwargs.pop('old_index', self.index)\n",
    "        self._update_annotations(index)\n",
    "        self.annotations.save(self.annotation_file_path)\n",
    "        \n",
    "    def _get_state_names(self, index):\n",
    "        start = index * self.disp_number\n",
    "        end = start + self.disp_number\n",
    "        im_names = self.image_paths[start:end]\n",
    "        return im_names\n",
    "        \n",
    "    \n",
    "    @observe('index')\n",
    "    def _idx_changed(self, change):\n",
    "        ''' On index change save old state \n",
    "            and update current state for visualisation\n",
    "        '''\n",
    "        self._save_annotations(old_index = change['old'])\n",
    "        # update new screen\n",
    "        self._update_state()\n",
    "        \n",
    "    @observe('disp_number')\n",
    "    def _calc_screens_num(self, change=None):\n",
    "        self.num_screens = math.ceil(self.current_im_num / self.disp_number)\n",
    "\n",
    "        \n",
    "    @debug_output.capture(clear_output=False)\n",
    "    def _handle_grid_click(self, event, name=None):\n",
    "        p = Path(self.image_dir, name)\n",
    "        current_state = self.current_state.copy()\n",
    "        if not p.is_dir():\n",
    "            current_state[str(p)] = {'answer': not self.current_state[str(p)].get('answer', False)}\n",
    "            if self.all_none:\n",
    "                self.all_none = False\n",
    "        else:\n",
    "            return\n",
    "        self.current_state = current_state\n",
    "    \n",
    "    def _select_none(self, change=None):\n",
    "        self.current_state = {p: {'answer': False} for p in self.current_state}"
   ]
  },
  {
   "cell_type": "code",
   "execution_count": null,
   "metadata": {},
   "outputs": [],
   "source": [
    "cal = CaptureAnnotatorLogic(project_path='../data/projects/capture1')\n",
    "cal.disp_number = 9 # should be synced from gui \n",
    "cal.image_dir, cal.annotation_file_path, cal.current_im_num"
   ]
  },
  {
   "cell_type": "markdown",
   "metadata": {},
   "source": [
    "We have 16 images in `capture1` project on disk, so first screen should load 9 images;\n",
    "7 images (16-9) left for second screen."
   ]
  },
  {
   "cell_type": "code",
   "execution_count": null,
   "metadata": {},
   "outputs": [],
   "source": [
    "assert len(cal._get_state_names(0)) == 9\n",
    "assert len(cal._get_state_names(1)) == 7\n",
    "assert len(cal._get_state_names(5)) == 0"
   ]
  },
  {
   "cell_type": "markdown",
   "metadata": {},
   "source": [
    "List of image names for the 1st screen:"
   ]
  },
  {
   "cell_type": "code",
   "execution_count": null,
   "metadata": {},
   "outputs": [],
   "source": [
    "cal.current_state"
   ]
  },
  {
   "cell_type": "markdown",
   "metadata": {},
   "source": [
    "Suppose state change from gui:"
   ]
  },
  {
   "cell_type": "code",
   "execution_count": null,
   "metadata": {},
   "outputs": [],
   "source": [
    "cal.current_state['../data/projects/capture1/pics/pink25x25.png'] = {'answer': False}"
   ]
  },
  {
   "cell_type": "markdown",
   "metadata": {},
   "source": [
    "##### (Next-> button emulation) \n",
    "Increment index to initiate annotation save and switch state for a new screen"
   ]
  },
  {
   "cell_type": "code",
   "execution_count": null,
   "metadata": {},
   "outputs": [],
   "source": [
    "cal.index=1\n",
    "cal.current_state"
   ]
  },
  {
   "cell_type": "markdown",
   "metadata": {},
   "source": [
    "##### (<-Prev button emulation) \n",
    "Decrement index to initiate annotation save and switch state for previous screen, loading existing annotation"
   ]
  },
  {
   "cell_type": "code",
   "execution_count": null,
   "metadata": {},
   "outputs": [],
   "source": [
    "cal.index = 0\n",
    "cal.current_state"
   ]
  },
  {
   "cell_type": "code",
   "execution_count": null,
   "metadata": {},
   "outputs": [],
   "source": [
    "cal._select_none()\n",
    "cal.current_state"
   ]
  },
  {
   "cell_type": "code",
   "execution_count": null,
   "metadata": {},
   "outputs": [],
   "source": [
    "#export\n",
    "\n",
    "\n",
    "class CaptureAnnotator(CaptureAnnotatorGUI):\n",
    "    \"\"\"\n",
    "    Represents capture annotator. \n",
    "    \n",
    "    Gives an ability to itarate through image dataset, \n",
    "    select images of same class,\n",
    "    export final annotations in json format\n",
    "    \n",
    "    \"\"\"\n",
    "    \n",
    "    def __init__(self, project_path, image_dir='pics', image_width=150, image_height=150, \n",
    "                 n_rows=3, n_cols=3, question=None, filter_files=None, results_dir=None):\n",
    "        \n",
    "        super().__init__(image_width, image_height, n_rows, n_cols)\n",
    "        \n",
    "        self._model = CaptureAnnotatorLogic(project_path, question, image_dir,\n",
    "                                           filter_files=filter_files, results_dir=results_dir)\n",
    "        \n",
    "        self._save_btn.on_click(self._model._save_annotations)        \n",
    "\n",
    "        self._grid_box.on_click(self._model._handle_grid_click)\n",
    "        \n",
    "        link((self._model, 'all_none'), (self._none_checkbox, 'value'))\n",
    "        \n",
    "        self._none_checkbox.observe(self._model._select_none, 'value')\n",
    "            \n",
    "        # get correct screen image number from gui settings\n",
    "        dlink((self._screen_im_number, 'value'), (self._model, 'disp_number'))\n",
    "        \n",
    "        # set correct number of screens slider value based on image number\n",
    "        dlink((self._model, 'num_screens'), (self._navi.model, 'max_im_number'))\n",
    "        \n",
    "        # link current image index from controls to annotator model \n",
    "        link((self._navi.model, 'index'), (self._model, 'index'))\n",
    "        \n",
    "        # link annotation question \n",
    "        link((self._model, 'question_value'), (self._grid_label, 'value'))\n",
    "        \n",
    "        # link state of model and grid box visualizer\n",
    "        link((self._model, 'current_state'), (self._grid_box, 'current_state'))\n",
    "    \n",
    "        \n",
    "            \n",
    "    def to_dict(self, only_annotated=True):\n",
    "        return self._model.annotations.to_dict(only_annotated)\n",
    "             "
   ]
  },
  {
   "cell_type": "code",
   "execution_count": null,
   "metadata": {},
   "outputs": [],
   "source": [
    "ca = CaptureAnnotator('../data/projects/capture1', image_width=75, image_height=75,\n",
    "                      n_rows=4, n_cols=3, question=\"Select pink squares\")\n",
    "\n",
    "ca"
   ]
  },
  {
   "cell_type": "code",
   "execution_count": null,
   "metadata": {},
   "outputs": [],
   "source": [
    "ca._model.debug_output"
   ]
  },
  {
   "cell_type": "code",
   "execution_count": null,
   "metadata": {},
   "outputs": [],
   "source": [
    "assert ca._model.current_state == ca._grid_box.current_state"
   ]
  },
  {
   "cell_type": "code",
   "execution_count": null,
   "metadata": {},
   "outputs": [],
   "source": [
    "#hide\n",
    "from nbdev.export import notebook2script\n",
    "notebook2script()"
   ]
  },
  {
   "cell_type": "code",
   "execution_count": null,
   "metadata": {},
   "outputs": [],
   "source": []
  }
 ],
 "metadata": {
  "kernelspec": {
   "display_name": "Python 3",
   "language": "python",
   "name": "python3"
  }
 },
 "nbformat": 4,
 "nbformat_minor": 4
}
