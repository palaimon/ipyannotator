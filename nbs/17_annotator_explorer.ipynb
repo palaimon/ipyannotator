{
 "cells": [
  {
   "cell_type": "code",
   "execution_count": null,
   "id": "6b401b41",
   "metadata": {},
   "outputs": [],
   "source": [
    "# hide\n",
    "%load_ext autoreload\n",
    "%autoreload 2"
   ]
  },
  {
   "cell_type": "code",
   "execution_count": null,
   "id": "9e40a746",
   "metadata": {},
   "outputs": [],
   "source": [
    "# default_exp explore_annotator"
   ]
  },
  {
   "cell_type": "code",
   "execution_count": null,
   "id": "c1df78df",
   "metadata": {},
   "outputs": [],
   "source": [
    "#exporti\n",
    "from ipyannotator.im2im_annotator import ImCanvas\n",
    "from ipyannotator.base import BaseState, AppWidgetState, Annotator\n",
    "from ipyannotator.navi_widget import Navi\n",
    "from ipyannotator.storage import MapeableStorage, get_image_list_from_folder\n",
    "from ipyannotator.mltypes import InputImage, Output\n",
    "from abc import ABC, abstractmethod\n",
    "from IPython.display import display\n",
    "from pathlib import Path\n",
    "from ipywidgets import AppLayout, HBox, Layout\n",
    "from typing import Any, List, Optional"
   ]
  },
  {
   "cell_type": "markdown",
   "id": "493a4790",
   "metadata": {},
   "source": [
    "# Annotator Explorer"
   ]
  },
  {
   "cell_type": "code",
   "execution_count": null,
   "id": "a35d2793",
   "metadata": {},
   "outputs": [],
   "source": [
    "#export\n",
    "\n",
    "class ExploreAnnotatorState(BaseState):\n",
    "    image_path: Optional[str]"
   ]
  },
  {
   "cell_type": "code",
   "execution_count": null,
   "id": "f846f52d",
   "metadata": {},
   "outputs": [],
   "source": [
    "#exporti\n",
    "\n",
    "class ExploreAnnotatorGUI(AppLayout):\n",
    "\n",
    "    def __init__(\n",
    "        self,\n",
    "        app_state: AppWidgetState,\n",
    "        explorer_state: ExploreAnnotatorState,\n",
    "        fit_canvas: bool = False,\n",
    "        has_border: bool = False\n",
    "    ):\n",
    "        self._app_state = app_state\n",
    "        self._state = explorer_state\n",
    "\n",
    "        self._navi = Navi()\n",
    "\n",
    "        self._controls_box = HBox(\n",
    "            [self._navi],\n",
    "            layout=Layout(\n",
    "                display='flex',\n",
    "                flex_flow='row wrap',\n",
    "                align_items='center'\n",
    "            )\n",
    "        )\n",
    "\n",
    "        self._image = ImCanvas(\n",
    "            width=self._app_state.size[0],\n",
    "            height=self._app_state.size[1],\n",
    "            fit_canvas=fit_canvas,\n",
    "            has_border=has_border\n",
    "        )\n",
    "\n",
    "        # set the values already instantiated on state\n",
    "        if self._state.image_path:\n",
    "            self._image._draw_image(self._state.image_path)\n",
    "\n",
    "        self._listen_max_im_number_changes()\n",
    "        self._navi.on_navi_clicked = self._update_index\n",
    "\n",
    "        self._state.subscribe(self._image._draw_image, 'image_path')\n",
    "\n",
    "        super().__init__(header=None,\n",
    "                         left_sidebar=None,\n",
    "                         center=self._image,\n",
    "                         right_sidebar=None,\n",
    "                         footer=self._controls_box,\n",
    "                         pane_widths=(2, 8, 0),\n",
    "                         pane_heights=(1, 4, 1))\n",
    "\n",
    "    def _listen_max_im_number_changes(self):\n",
    "        self._update_max_navi_slider(self._app_state.max_im_number)\n",
    "        self._app_state.subscribe(self._update_max_navi_slider, 'max_im_number')\n",
    "\n",
    "    def _update_max_navi_slider(self, max_im_number: int):\n",
    "        self._navi.max_im_num = max_im_number\n",
    "\n",
    "    def _update_index(self, index: int):\n",
    "        self._app_state.index = index\n",
    "\n",
    "    def on_client_ready(self, callback):\n",
    "        self._image.observe_client_ready(callback)"
   ]
  },
  {
   "cell_type": "code",
   "execution_count": null,
   "id": "0d17abc6",
   "metadata": {},
   "outputs": [],
   "source": [
    "app_state = AppWidgetState()\n",
    "explorer_state = ExploreAnnotatorState()\n",
    "\n",
    "e_ = ExploreAnnotatorGUI(\n",
    "    app_state=app_state,\n",
    "    explorer_state=explorer_state\n",
    ")\n",
    "\n",
    "e_._state.image_path = '../data/projects/im2im1/pics/Grass1.png'\n",
    "e_"
   ]
  },
  {
   "cell_type": "code",
   "execution_count": null,
   "id": "c0d520b1",
   "metadata": {},
   "outputs": [],
   "source": [
    "#exporti\n",
    "class Storage(ABC):\n",
    "    @abstractmethod\n",
    "    def bulk_annotation(self, index: int, annotation: List):\n",
    "        pass\n",
    "\n",
    "    @abstractmethod\n",
    "    def find(self, index: int):\n",
    "        pass"
   ]
  },
  {
   "cell_type": "code",
   "execution_count": null,
   "id": "aa9df6b1",
   "metadata": {},
   "outputs": [],
   "source": [
    "#exporti\n",
    "class InMemoryStorage(Storage, MapeableStorage):\n",
    "    def __init__(\n",
    "        self,\n",
    "        image_dir: Path,\n",
    "    ):\n",
    "        super().__init__()\n",
    "        self.images = sorted(get_image_list_from_folder(image_dir))\n",
    "        self.update({str(image): [] for image in self.images})\n",
    "\n",
    "    def get_image(self, index: int) -> str:\n",
    "        return str(self.images[index])\n",
    "\n",
    "    def bulk_annotation(self, index: int, annotations: list):\n",
    "        image_path = self.get_image(index)\n",
    "        self.mapping[image_path] = annotations\n",
    "\n",
    "    def find(self, index: int):\n",
    "        image_path = self.get_image(index)\n",
    "        return self.__getitem__(image_path)"
   ]
  },
  {
   "cell_type": "code",
   "execution_count": null,
   "id": "acebb466",
   "metadata": {},
   "outputs": [],
   "source": [
    "#exporti\n",
    "\n",
    "class ExploreAnnotatorController:\n",
    "    def __init__(\n",
    "        self,\n",
    "        app_state: AppWidgetState,\n",
    "        explorer_state: ExploreAnnotatorState,\n",
    "        storage: Storage\n",
    "    ):\n",
    "        self._last_index = 0\n",
    "        self._app_state = app_state\n",
    "        self._state = explorer_state\n",
    "        self._storage = storage\n",
    "\n",
    "        self._app_state.subscribe(self._update_current_frame, 'index')\n",
    "        self._update_max_im_number()\n",
    "        self._update_current_frame()\n",
    "\n",
    "    def _update_max_im_number(self):\n",
    "        self._app_state.max_im_number = len(self._storage)\n",
    "\n",
    "    def _update_current_frame(self, index: int = 0):\n",
    "        self._save_annotation(self._last_index)\n",
    "        # \"Storage\" has no attribute \"get_image\"\n",
    "        self._state.image_path = self._storage.get_image(index)  # type: ignore\n",
    "        self._last_index = index\n",
    "\n",
    "    def _save_annotation(self, index: int):\n",
    "        annotations: List[Any] = []\n",
    "        self._storage.bulk_annotation(index, annotations)"
   ]
  },
  {
   "cell_type": "code",
   "execution_count": null,
   "id": "9a7b464b",
   "metadata": {},
   "outputs": [],
   "source": [
    "storage = InMemoryStorage(Path('../data/projects/bbox/pics'))"
   ]
  },
  {
   "cell_type": "code",
   "execution_count": null,
   "id": "3247d0ac",
   "metadata": {},
   "outputs": [],
   "source": [
    "app_state = AppWidgetState()"
   ]
  },
  {
   "cell_type": "code",
   "execution_count": null,
   "id": "813aec44",
   "metadata": {},
   "outputs": [],
   "source": [
    "explorer_state = ExploreAnnotatorState()"
   ]
  },
  {
   "cell_type": "code",
   "execution_count": null,
   "id": "0c0aabd6",
   "metadata": {},
   "outputs": [],
   "source": [
    "controller = ExploreAnnotatorController(app_state, explorer_state, storage)"
   ]
  },
  {
   "cell_type": "code",
   "execution_count": null,
   "id": "b61fe200",
   "metadata": {},
   "outputs": [],
   "source": [
    "ExploreAnnotatorGUI(app_state, explorer_state)"
   ]
  },
  {
   "cell_type": "code",
   "execution_count": null,
   "id": "aace27fc",
   "metadata": {},
   "outputs": [],
   "source": [
    "#export\n",
    "\n",
    "class ExploreAnnotator(Annotator):\n",
    "    def __init__(\n",
    "        self,\n",
    "        project_path: Path,\n",
    "        input_item: InputImage,\n",
    "        output_item: Output,\n",
    "        has_border: bool = False,\n",
    "        *args, **kwargs\n",
    "    ):\n",
    "        app_state = AppWidgetState(uuid=str(id(self)), **{\n",
    "            # \"Input\" has no attribute \"width\", \"height\"\n",
    "            'size': (input_item.width, input_item.height)  # type: ignore\n",
    "        })\n",
    "\n",
    "        super().__init__(app_state)\n",
    "\n",
    "        self._state = ExploreAnnotatorState(uuid=str(id(self)))\n",
    "\n",
    "        # \"Input\" has no attribute \"dir\"\n",
    "        self._storage = InMemoryStorage(project_path / input_item.dir)  # type: ignore\n",
    "\n",
    "        self._controller = ExploreAnnotatorController(\n",
    "            self.app_state,\n",
    "            self._state,\n",
    "            self._storage\n",
    "        )\n",
    "\n",
    "        self._view = ExploreAnnotatorGUI(\n",
    "            self.app_state,\n",
    "            self._state,\n",
    "            fit_canvas=input_item.fit_canvas,\n",
    "            has_border=has_border\n",
    "        )\n",
    "\n",
    "    def __repr__(self):\n",
    "        display(self._view)\n",
    "        return \"\""
   ]
  },
  {
   "cell_type": "code",
   "execution_count": null,
   "id": "96901820",
   "metadata": {},
   "outputs": [],
   "source": [
    "from ipyannotator.mltypes import NoOutput\n",
    "\n",
    "exp = ExploreAnnotator(\n",
    "    project_path=Path('../data/projects/bbox/'),\n",
    "    input_item=InputImage(image_dir='pics', image_width=400, image_height=400),\n",
    "    output_item=NoOutput()\n",
    ")"
   ]
  },
  {
   "cell_type": "code",
   "execution_count": null,
   "id": "ced125fb",
   "metadata": {},
   "outputs": [],
   "source": [
    "#hide\n",
    "from nbdev.export import notebook2script\n",
    "notebook2script()"
   ]
  },
  {
   "cell_type": "code",
   "execution_count": null,
   "id": "0b7cc162",
   "metadata": {},
   "outputs": [],
   "source": []
  }
 ],
 "metadata": {
  "kernelspec": {
   "display_name": "Python 3",
   "language": "python",
   "name": "python3"
  }
 },
 "nbformat": 4,
 "nbformat_minor": 5
}
