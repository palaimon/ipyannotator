{
 "cells": [
  {
   "cell_type": "code",
   "execution_count": null,
   "metadata": {},
   "outputs": [],
   "source": [
    "# default_exp mltypes"
   ]
  },
  {
   "cell_type": "markdown",
   "metadata": {},
   "source": [
    "# Mltypes"
   ]
  },
  {
   "cell_type": "code",
   "execution_count": null,
   "metadata": {},
   "outputs": [],
   "source": [
    "# hide\n",
    "%load_ext autoreload\n",
    "%autoreload 2"
   ]
  },
  {
   "cell_type": "code",
   "execution_count": null,
   "metadata": {},
   "outputs": [],
   "source": [
    "#exporti\n",
    "import warnings\n",
    "import random\n",
    "import uuid\n",
    "import attr\n",
    "from typing import List"
   ]
  },
  {
   "cell_type": "code",
   "execution_count": null,
   "metadata": {},
   "outputs": [],
   "source": [
    "# hide\n",
    "import ipytest\n",
    "import pytest\n",
    "ipytest.autoconfig(raise_on_error=True)"
   ]
  },
  {
   "cell_type": "markdown",
   "metadata": {},
   "source": [
    "## Types"
   ]
  },
  {
   "cell_type": "code",
   "execution_count": null,
   "metadata": {},
   "outputs": [],
   "source": [
    "#export\n",
    "@attr.define(slots=False)\n",
    "class Coordinate:\n",
    "    x: int\n",
    "    y: int\n",
    "\n",
    "\n",
    "@attr.define(slots=False)\n",
    "class BboxCoordinate(Coordinate):\n",
    "    width: int\n",
    "    height: int\n",
    "\n",
    "\n",
    "@attr.define(slots=False)\n",
    "class BboxVideoCoordinate(BboxCoordinate):\n",
    "    id: str\n",
    "\n",
    "    def bbox_coord(self) -> BboxCoordinate:\n",
    "        return BboxCoordinate(*list(attr.asdict(self).values())[:4])"
   ]
  },
  {
   "cell_type": "code",
   "execution_count": null,
   "metadata": {},
   "outputs": [],
   "source": [
    "#hide\n",
    "from attr import asdict\n",
    "\n",
    "bbox_coord = BboxCoordinate(*[1, 2, 3, 4])\n",
    "assert asdict(bbox_coord) == {'x': 1, 'y': 2, 'width': 3, 'height': 4}\n",
    "\n",
    "video_coord = BboxVideoCoordinate(1, 1, 1, 1, '1')\n",
    "assert asdict(video_coord) == {'x': 1, 'y': 1, 'width': 1, 'height': 1, 'id': '1'}\n",
    "\n",
    "assert video_coord.bbox_coord() == BboxCoordinate(*[1, 1, 1, 1])"
   ]
  },
  {
   "cell_type": "code",
   "execution_count": null,
   "metadata": {},
   "outputs": [],
   "source": [
    "#export\n",
    "\n",
    "# todo: use pydantic\n",
    "class Input():\n",
    "    \"\"\"\n",
    "    Abstract class to represent input\n",
    "    \"\"\"\n",
    "\n",
    "    def __repr__(self):\n",
    "        return f\"Annotator Input type: {self.__class__.__name__}\"\n",
    "\n",
    "\n",
    "class Output():\n",
    "    \"\"\"\n",
    "    Abstract class to represent input\n",
    "    \"\"\"\n",
    "\n",
    "    def __repr__(self):\n",
    "        return f\"Annotator Output type: {self.__class__.__name__}\""
   ]
  },
  {
   "cell_type": "markdown",
   "metadata": {},
   "source": [
    "# Image classes"
   ]
  },
  {
   "cell_type": "code",
   "execution_count": null,
   "metadata": {},
   "outputs": [],
   "source": [
    "#export\n",
    "class InputImage(Input):\n",
    "    \"\"\"\n",
    "    image_dir: string\n",
    "        Directory of the image\n",
    "\n",
    "    image_width: int\n",
    "        Width of the image\n",
    "\n",
    "    image_height: int\n",
    "        Height of the image\n",
    "    \"\"\"\n",
    "\n",
    "    def __init__(\n",
    "        self,\n",
    "        image_dir: str = 'pics',\n",
    "        image_width: int = 100,\n",
    "        image_height: int = 100,\n",
    "        fit_canvas: bool = False\n",
    "    ):\n",
    "        self.width = image_width\n",
    "        self.height = image_height\n",
    "        self.dir = image_dir\n",
    "        self.fit_canvas = fit_canvas\n",
    "\n",
    "        if fit_canvas:\n",
    "            warnings.warn(\"Image size will be ignored since fit_canvas is activated\")"
   ]
  },
  {
   "cell_type": "code",
   "execution_count": null,
   "metadata": {},
   "outputs": [],
   "source": [
    "%%ipytest\n",
    "def test_it_warn_if_fit_canvas_is_activate_with_size():\n",
    "    with warnings.catch_warnings(record=True) as w:\n",
    "        inp_img = InputImage(image_width = 300, image_height = 300, fit_canvas=True)\n",
    "\n",
    "    assert bool(w) is True"
   ]
  },
  {
   "cell_type": "code",
   "execution_count": null,
   "metadata": {},
   "outputs": [],
   "source": [
    "%%ipytest\n",
    "def test_it_doesnt_warn_if_fit_canvas_is_deactivate_with_size():\n",
    "    with warnings.catch_warnings(record=True) as w:\n",
    "        inp_img = InputImage(image_width = 300, image_height = 300, fit_canvas=False)\n",
    "\n",
    "    assert bool(w) is False"
   ]
  },
  {
   "cell_type": "code",
   "execution_count": null,
   "metadata": {},
   "outputs": [],
   "source": [
    "%%ipytest\n",
    "def test_it_warn_if_fit_canvas_is_activate_with_size_none():\n",
    "    with warnings.catch_warnings(record=True) as w:\n",
    "        inp_img = InputImage(image_width=None, image_height=None, fit_canvas=True)\n",
    "    assert bool(w) is True"
   ]
  },
  {
   "cell_type": "code",
   "execution_count": null,
   "metadata": {},
   "outputs": [],
   "source": [
    "%%ipytest\n",
    "def test_it_doesnt_warn_if_fit_canvas_is_deactivate_with_size_none():\n",
    "    with warnings.catch_warnings(record=True) as w:\n",
    "        inp_img = InputImage(image_width=None, image_height=None, fit_canvas=False)\n",
    "    assert bool(w) is False"
   ]
  },
  {
   "cell_type": "code",
   "execution_count": null,
   "metadata": {},
   "outputs": [],
   "source": [
    "# hide\n",
    "imz = InputImage()\n",
    "imz.dir"
   ]
  },
  {
   "cell_type": "code",
   "execution_count": null,
   "metadata": {},
   "outputs": [],
   "source": [
    "#export\n",
    "class OutputImageLabel(Output):\n",
    "    \"\"\"\n",
    "     Will handle the image output.\n",
    "     If no `label_dir` is specified, it should generate randomized one.\n",
    "\n",
    "    \"\"\"\n",
    "\n",
    "    def __init__(self, label_dir=None, label_width=50, label_height=50):\n",
    "        self.width = label_width\n",
    "        self.height = label_height\n",
    "\n",
    "        if label_dir is None:\n",
    "            self.dir = 'class_autogenerated_' + ''.join(random.sample(str(uuid.uuid4()), 5))\n",
    "        else:\n",
    "            self.dir = label_dir"
   ]
  },
  {
   "cell_type": "code",
   "execution_count": null,
   "metadata": {},
   "outputs": [],
   "source": [
    "#export\n",
    "class OutputLabel(Output):\n",
    "    def __init__(self, class_labels: List[str], label_width=50, label_height=50):\n",
    "        self.width = label_width\n",
    "        self.height = label_height\n",
    "        self.class_labels = class_labels"
   ]
  },
  {
   "cell_type": "code",
   "execution_count": null,
   "metadata": {},
   "outputs": [],
   "source": [
    "# hide\n",
    "\n",
    "# label dir exists\n",
    "lblz = OutputImageLabel(label_dir='class_images')\n",
    "assert lblz.dir == 'class_images'"
   ]
  },
  {
   "cell_type": "code",
   "execution_count": null,
   "metadata": {},
   "outputs": [],
   "source": [
    "# hide\n",
    "\n",
    "# no label dir, should generate randomized name\n",
    "lblz = OutputImageLabel()\n",
    "assert 'class_autogenerated_' in lblz.dir"
   ]
  },
  {
   "cell_type": "code",
   "execution_count": null,
   "metadata": {},
   "outputs": [],
   "source": [
    "#export\n",
    "class OutputImageBbox(Output):\n",
    "    def __init__(self, classes: List[str] = None):\n",
    "        self.classes = classes or []\n",
    "        self.drawing_enabled = True"
   ]
  },
  {
   "cell_type": "code",
   "execution_count": null,
   "metadata": {},
   "outputs": [],
   "source": [
    "#export\n",
    "class OutputVideoBbox(OutputImageBbox):\n",
    "    def __init__(self, *args, **kwargs):\n",
    "        super().__init__(*args, **kwargs)\n",
    "        self.drawing_enabled = True\n",
    "        self.drawing_trajectory_enabled = True"
   ]
  },
  {
   "cell_type": "code",
   "execution_count": null,
   "metadata": {},
   "outputs": [],
   "source": [
    "#export\n",
    "class OutputGridBox(Output):\n",
    "    pass"
   ]
  },
  {
   "cell_type": "code",
   "execution_count": null,
   "metadata": {},
   "outputs": [],
   "source": [
    "#export\n",
    "class NoOutput(Output):\n",
    "    pass"
   ]
  },
  {
   "cell_type": "code",
   "execution_count": null,
   "metadata": {},
   "outputs": [],
   "source": [
    "#hide\n",
    "from nbdev.export import notebook2script\n",
    "notebook2script()"
   ]
  },
  {
   "cell_type": "code",
   "execution_count": null,
   "metadata": {},
   "outputs": [],
   "source": []
  }
 ],
 "metadata": {
  "kernelspec": {
   "display_name": "Python 3",
   "language": "python",
   "name": "python3"
  }
 },
 "nbformat": 4,
 "nbformat_minor": 4
}
