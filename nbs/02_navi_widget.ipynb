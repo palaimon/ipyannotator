{
 "cells": [
  {
   "cell_type": "code",
   "execution_count": null,
   "metadata": {},
   "outputs": [],
   "source": [
    "%load_ext autoreload\n",
    "%autoreload 2"
   ]
  },
  {
   "cell_type": "code",
   "execution_count": null,
   "metadata": {},
   "outputs": [],
   "source": [
    "from nbdev import *\n",
    "# default_exp navi_widget"
   ]
  },
  {
   "cell_type": "markdown",
   "metadata": {},
   "source": [
    "# Navi Widget"
   ]
  },
  {
   "cell_type": "code",
   "execution_count": null,
   "metadata": {},
   "outputs": [],
   "source": [
    "#exporti\n",
    "from ipywidgets import (AppLayout, Button, IntSlider,\n",
    "                        HBox, Output,\n",
    "                        Layout, Label, Dropdown)\n",
    "from IPython.display import display, HTML\n",
    "from traitlets import Int, Bool, observe, link, HasTraits "
   ]
  },
  {
   "cell_type": "code",
   "execution_count": null,
   "metadata": {},
   "outputs": [],
   "source": [
    "#exporti\n",
    "\n",
    "class NaviGUI(HBox):\n",
    "    max_im_number = Int(0)\n",
    "    disable_resize = Bool(True)\n",
    "    \n",
    "    def __init__(self):\n",
    "        self._im_number_slider = IntSlider(min=0, max=self.max_im_number-1,\n",
    "                                           value=0, description='Image Nr.', style={'description_width': 'initial'},\n",
    "                                           layout=Layout(width='250px'))\n",
    "        \n",
    "        self._prev_btn = Button(description='< Previous',\n",
    "                               layout=Layout(width='auto'))\n",
    "        \n",
    "        self._next_btn = Button(description='Next >',\n",
    "                               layout=Layout(width='auto'))\n",
    "        \n",
    "        self._size_dropdown = Dropdown(options=['50', '75', '100', '150', '200'],\n",
    "                                      value='100', description=\"Size\", disabled=self.disable_resize,\n",
    "                                      layout=Layout(width='auto'), style={'description_width': 'initial'})\n",
    "\n",
    "        self._im_number_slider.add_class(\"navi-class\")\n",
    "        self._prev_btn.add_class(\"navi-class\")\n",
    "        self._next_btn.add_class(\"navi-class\")\n",
    "        self._size_dropdown.add_class(\"navi-class\")\n",
    "        \n",
    "        display(HTML(\"<style>.navi-class {margin-left: 5px; margin-right: 5px;}</style>\"))\n",
    "        display(HTML(\"<style>.navi-class .widget-readout {border-style: groove; display: flex; align-items: center; justify-content: center}</style>\"))\n",
    "        \n",
    "        super().__init__(children=[self._prev_btn, self._im_number_slider, self._size_dropdown,\n",
    "                                   self._next_btn], layout=Layout(display='inline-flex',\n",
    "                                                                  flex_flow='row wrap',\n",
    "                                                                  align_items='center',\n",
    "                                                                  justify_content='space-around'))\n",
    "\n",
    "    @observe('max_im_number')\n",
    "    def check_im_num(self, change):\n",
    "        if not hasattr(self, '_im_number_slider'):\n",
    "            return\n",
    "        self._im_number_slider.max = change['new']-1"
   ]
  },
  {
   "cell_type": "code",
   "execution_count": null,
   "metadata": {},
   "outputs": [],
   "source": [
    "#exporti\n",
    "\n",
    "class NaviLogic(HasTraits):\n",
    "    index = Int(0)\n",
    "    max_im_number = Int(0)\n",
    "    disable_resize = Bool(True)\n",
    "    \n",
    "    def __init__(self):\n",
    "        super().__init__()\n",
    "        \n",
    "    def _increment_index(self, change):\n",
    "        self.index = (((self.index + change) % self.max_im_number) + self.max_im_number) % self.max_im_number\n",
    "    "
   ]
  },
  {
   "cell_type": "code",
   "execution_count": null,
   "metadata": {},
   "outputs": [],
   "source": [
    "#export\n",
    "\n",
    "class Navi(NaviGUI):\n",
    "    \"\"\"\n",
    "    Represents simple navigation module with slider.\n",
    "    \n",
    "    \"\"\"\n",
    "    def __init__(self, max_im_number=1, disable_resize=True):\n",
    "        self.max_im_number = max_im_number\n",
    "        self.disable_resize = disable_resize\n",
    "        \n",
    "        super().__init__()\n",
    "        \n",
    "        self.model = NaviLogic()\n",
    "        \n",
    "        self._prev_btn.on_click(lambda c: self.model._increment_index(-1))\n",
    "        self._next_btn.on_click(lambda c: self.model._increment_index(1))\n",
    "        \n",
    "        # link slider value to button increment logic\n",
    "        link((self._im_number_slider, 'value'), (self.model, 'index'))\n",
    "        link((self, 'max_im_number'), (self.model, 'max_im_number'))\n",
    "        link((self, 'disable_resize'), (self.model, 'disable_resize'))"
   ]
  },
  {
   "cell_type": "code",
   "execution_count": null,
   "metadata": {},
   "outputs": [],
   "source": [
    "Navi(6)"
   ]
  },
  {
   "cell_type": "code",
   "execution_count": null,
   "metadata": {},
   "outputs": [],
   "source": [
    "#hide\n",
    "from nbdev.export import notebook2script\n",
    "notebook2script()"
   ]
  },
  {
   "cell_type": "code",
   "execution_count": null,
   "metadata": {},
   "outputs": [],
   "source": []
  }
 ],
 "metadata": {
  "kernelspec": {
   "display_name": "Python 3",
   "language": "python",
   "name": "python3"
  }
 },
 "nbformat": 4,
 "nbformat_minor": 4
}
