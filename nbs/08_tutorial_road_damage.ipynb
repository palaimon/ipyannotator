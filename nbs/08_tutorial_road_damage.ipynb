{
 "cells": [
  {
   "cell_type": "markdown",
   "metadata": {},
   "source": [
    "# Road damage - Iterative annotations on road damage images"
   ]
  },
  {
   "cell_type": "markdown",
   "metadata": {},
   "source": [
    "This tutorial demonstrates how you can build an annotated dataset for road damage classification without ever leaving the\n",
    "jupyter notebook / lab. We do this in three steps:\n",
    "\n",
    "1. Use bounding box annotation to crop the original images.\n",
    "2. Group the road damage types in categories using classification labels.\n",
    "3. Refine the inital class labels in a supervision step.\n",
    "\n",
    "These steps can be applied iteratively for practical applications. By integrating the predictions of imperfect machine learning models, the process can be accelerated significantly.\n",
    "For example we might train an image classification model on the first annotations, which then refines the prediction on new data. Therewith, the training data size is increased, then repeat the process."
   ]
  },
  {
   "cell_type": "markdown",
   "metadata": {},
   "source": [
    "**Install @jupyter-widgets/jupyter-manager. To do this, go to puzzle/jigsaw symbol and install the widget manually.**"
   ]
  },
  {
   "cell_type": "code",
   "execution_count": null,
   "metadata": {},
   "outputs": [],
   "source": [
    "%load_ext autoreload\n",
    "%autoreload 2"
   ]
  },
  {
   "cell_type": "code",
   "execution_count": null,
   "metadata": {},
   "outputs": [],
   "source": [
    "#all_slow"
   ]
  },
  {
   "cell_type": "markdown",
   "metadata": {},
   "source": [
    "## Get Road Damage Images from BigData Cup 2020\n",
    "\n",
    "First we need to retrieve some images from which we can build our dataset. The [Global Road Damage Detection Challenge 2020](https://rdd2020.sekilab.global/data/) provides images that are free to use and can be download. (Please cite [the paper](https://github.com/sekilab/RoadDamageDetector#citation) if you use this for your own work)."
   ]
  },
  {
   "cell_type": "markdown",
   "metadata": {},
   "source": [
    "### Installing via `pooch`\n",
    "\n",
    "For this tutorial, we provide a Github repository with a subset of the Global Road Damage Detection Challenge, containing only the images from Japan."
   ]
  },
  {
   "cell_type": "code",
   "execution_count": null,
   "metadata": {},
   "outputs": [],
   "source": [
    "import pooch\n",
    "import zipfile\n",
    "from pathlib import Path\n",
    "\n",
    "github_repo = pooch.create(\n",
    "    path=pooch.os_cache(\"tutorial_road_damage\"),\n",
    "    base_url=\"https://github.com/palaimon/ipyannotator-data/raw/main/\",\n",
    "    registry={\n",
    "        \"road_damage.zip\": \"sha256:639b3aec3f067a79b02dd12cae4bdd7235c886988c7e733ee3554a8fc74bc069\"\n",
    "    }\n",
    ")\n",
    "\n",
    "road_damage_zip = github_repo.fetch(\"road_damage.zip\")\n",
    "path_zip = Path(road_damage_zip)"
   ]
  },
  {
   "cell_type": "code",
   "execution_count": null,
   "metadata": {},
   "outputs": [],
   "source": [
    "path = path_zip.parent\n",
    "\n",
    "with zipfile.ZipFile(road_damage_zip, 'r') as zip_ref:\n",
    "    zip_ref.extractall(path)\n",
    "\n",
    "path_japan = path / \"road_damage\"\n",
    "path_japan"
   ]
  },
  {
   "cell_type": "markdown",
   "metadata": {},
   "source": [
    "## 1. Use bounding box annotation to crop the orignal imges.\n",
    "\n",
    "We can now use the BBoxAnnotator to quickly inspect the available images."
   ]
  },
  {
   "cell_type": "code",
   "execution_count": null,
   "metadata": {},
   "outputs": [],
   "source": [
    "from ipyannotator.bbox_annotator import BBoxAnnotator\n",
    "from ipyannotator.mltypes import (\n",
    "    InputImage, OutputImageBbox,\n",
    "    OutputImageLabel, OutputGridBox\n",
    ")\n",
    "from ipyannotator.storage import construct_annotation_path"
   ]
  },
  {
   "cell_type": "code",
   "execution_count": null,
   "metadata": {},
   "outputs": [],
   "source": [
    "project_path = Path(path_japan)\n",
    "in_p = InputImage(image_dir='images', image_width=500, image_height=500)\n",
    "out_p = OutputImageBbox()\n",
    "annotation_file_path = construct_annotation_path(\n",
    "    file_name=path_japan / 'results' / 'bbox_annotator' / 'annotation.json'\n",
    ")\n",
    "\n",
    "bb = BBoxAnnotator(\n",
    "    project_path=project_path,\n",
    "    input_item=in_p,\n",
    "    output_item=out_p,\n",
    "    annotation_file_path=annotation_file_path\n",
    ")"
   ]
  },
  {
   "cell_type": "code",
   "execution_count": null,
   "metadata": {},
   "outputs": [],
   "source": [
    "bb"
   ]
  },
  {
   "cell_type": "code",
   "execution_count": null,
   "metadata": {},
   "outputs": [],
   "source": [
    "from ipyannotator.mltypes import BboxCoordinate\n",
    "results = list(bb.to_dict().values())\n",
    "if not results or not results[0]['bbox']:\n",
    "    \"\"\"Annotate if not manually selected a bbox\"\"\"\n",
    "    bb.app_state.index = 6\n",
    "    bb.controller.save_current_annotations([\n",
    "        BboxCoordinate(**{\n",
    "            'x': 298,\n",
    "            'y': 93,\n",
    "            'width': 536,\n",
    "            'height': 430\n",
    "        })\n",
    "    ])"
   ]
  },
  {
   "cell_type": "markdown",
   "metadata": {},
   "source": [
    "Let's now create an inital set of road damage images by using the mouse to draw a reactangle containing\n",
    "the damage on individual images. Below you seed the annotation for a single image."
   ]
  },
  {
   "cell_type": "code",
   "execution_count": null,
   "metadata": {},
   "outputs": [],
   "source": [
    "img_path, bbox = list(bb.to_dict().items())[1]\n",
    "print(img_path)\n",
    "print(bbox)"
   ]
  },
  {
   "cell_type": "markdown",
   "metadata": {},
   "source": [
    "We can now use the bounding box annotations to crop damages from the images and save them in a seperate folder.\n",
    "The following small function helps us to accomplish this."
   ]
  },
  {
   "cell_type": "code",
   "execution_count": null,
   "metadata": {},
   "outputs": [],
   "source": [
    "from PIL import Image\n",
    "from pathlib import Path\n",
    "\n",
    "\n",
    "def crop_bboxs(bbox_annotations, source_dir, target_dir):\n",
    "    Path(target_dir).mkdir(parents=True, exist_ok=True)\n",
    "    for img_file, items in bbox_annotations.items():\n",
    "        img_file = img_file.split('/')[-1]\n",
    "        # box = (left, upper, right, lower)\n",
    "        if 'bbox' in items and items['bbox']:\n",
    "            b = items['bbox'][0]\n",
    "            box_crop = (b['x'], b['y'], b['x'] + b['width'], b['y'] + b['height'])\n",
    "            Image.open(Path(source_dir) / img_file).crop(box_crop).save(\n",
    "                Path(target_dir) / img_file, quality=95)"
   ]
  },
  {
   "cell_type": "code",
   "execution_count": null,
   "metadata": {},
   "outputs": [],
   "source": [
    "to_crop = {k: v for k, v in bb.to_dict().items() if v['bbox']}\n",
    "crop_bboxs(bbox_annotations=to_crop, source_dir=path_japan / 'images',\n",
    "           target_dir=path_japan / 'images_croped')"
   ]
  },
  {
   "cell_type": "markdown",
   "metadata": {},
   "source": [
    "Below you can see the croping result from the bbox annotation above."
   ]
  },
  {
   "cell_type": "code",
   "execution_count": null,
   "metadata": {},
   "outputs": [],
   "source": [
    "Image.open(Path(path_japan / 'images_croped') / img_path.split('/')[-1])"
   ]
  },
  {
   "cell_type": "markdown",
   "metadata": {},
   "source": [
    "We first need to decide on the type of damages we want to classify. If we don't know this upfront we can initially create some\n",
    "dummy labels."
   ]
  },
  {
   "cell_type": "code",
   "execution_count": null,
   "metadata": {},
   "outputs": [],
   "source": [
    "# create dummy label_images\n",
    "crop_bboxs(bbox_annotations={k: v for k, v in list(bb.to_dict().items())[:4]},\n",
    "           source_dir=path_japan / 'images', target_dir=path_japan / 'class_images')"
   ]
  },
  {
   "cell_type": "markdown",
   "metadata": {},
   "source": [
    "## 2. Group the road damage types in categories using classification labels.\n",
    "\n",
    "1. We can now use the `Im2ImAnnotator` to quickly explore the cropped images in order to find some typical damage types we are interested in. \n",
    "  * The competition list the following types {D00: Longitudinal Crack, D10: Transverse Crack, D20: Aligator Crack, D40: Pothole}.\n",
    "  * Hint: Check out https://en.wikipedia.org/wiki/Pavement_cracking to find some typical crack types.\n",
    "2. Select a representative example for each damage type you are interested in and move the file to `road_japan/class_images`.\n",
    "  * remove the existing dummy images first\n",
    "  * give the image a nice name illustrative name such as aligator_crack.jpg. The file name is used to create the class labels.\n",
    "3. Label the images by selecting one or more labels on the right side below \"Damage Types\"."
   ]
  },
  {
   "cell_type": "code",
   "execution_count": null,
   "metadata": {},
   "outputs": [],
   "source": [
    "from ipyannotator.im2im_annotator import Im2ImAnnotator"
   ]
  },
  {
   "cell_type": "code",
   "execution_count": null,
   "metadata": {},
   "outputs": [],
   "source": [
    "in_p = InputImage(image_dir='images', image_width=600, image_height=500)\n",
    "\n",
    "out_p_label = OutputImageLabel(label_dir='images_croped', label_width=100, label_height=100)\n",
    "\n",
    "annotation_file_path = construct_annotation_path(\n",
    "    file_name=path_japan / 'results' / 'im2im_annotator' / 'annotation.json'\n",
    ")\n",
    "\n",
    "im2im = Im2ImAnnotator(\n",
    "    project_path=project_path,\n",
    "    input_item=in_p,\n",
    "    output_item=out_p_label,\n",
    "    n_cols=2,\n",
    "    n_rows=3,\n",
    "    question=\"Damage Types\",\n",
    "    annotation_file_path=annotation_file_path\n",
    ")\n",
    "\n",
    "im2im"
   ]
  },
  {
   "cell_type": "markdown",
   "metadata": {},
   "source": [
    "We can now check the class labels that we have just created and save them to a JSON file."
   ]
  },
  {
   "cell_type": "code",
   "execution_count": null,
   "metadata": {},
   "outputs": [],
   "source": [
    "from IPython import display\n",
    "display.JSON(im2im.to_dict())"
   ]
  },
  {
   "cell_type": "code",
   "execution_count": null,
   "metadata": {},
   "outputs": [],
   "source": [
    "if not im2im.to_dict():\n",
    "    \"\"\"Annotate if not manually selected a label\"\"\"\n",
    "    im2im.controller.idx_changed(6)\n",
    "    im2im.im2im_state.annotations = {\n",
    "        # Dict entry 0 has incompatible type \"Path\": \"Dict[str, bool]\";\n",
    "        # expected \"str\": \"Optional[List[str]]\"\n",
    "        path / 'images_croped' / 'Japan_000060.jpg': {'answer': True}  # type: ignore\n",
    "    }\n",
    "    im2im.controller.save_annotations(6)\n",
    "\n",
    "im2im.to_dict()"
   ]
  },
  {
   "cell_type": "code",
   "execution_count": null,
   "metadata": {},
   "outputs": [],
   "source": [
    "import json\n",
    "with open(path_japan / 'classification_labels.json', 'w') as outfile:\n",
    "    items = im2im.to_dict()\n",
    "\n",
    "    if not items:\n",
    "        items = {path_japan / 'images' / 'Japan_000060.jpg': ['Japan_000060.jpg']}\n",
    "\n",
    "    json.dump(im2im.to_dict(), outfile)\n",
    "im2im.to_dict()"
   ]
  },
  {
   "cell_type": "markdown",
   "metadata": {},
   "source": [
    "## 3. Refine the inital class labels in a supervision step.\n",
    "\n",
    "After initial data labeling, supervision is a great way to further improve the data quality by reviewing annotations generated by hand or a\n",
    "machine learning model."
   ]
  },
  {
   "cell_type": "code",
   "execution_count": null,
   "metadata": {},
   "outputs": [],
   "source": [
    "# text example data\n",
    "# image_annotations = {'Japan_000342.jpg': ['Japan_010778.jpg'],\n",
    "#  'Japan_000541.jpg': ['Japan_011190.jpg'],\n",
    "#  'Japan_001155.jpg': ['Japan_003206.jpg', 'Japan_010778.jpg'],\n",
    "#  'Japan_002337.jpg': ['Japan_001155.jpg'],\n",
    "#  'Japan_003206.jpg': ['Japan_011190.jpg'],\n",
    "#  'Japan_005979.jpg': ['Japan_010778.jpg'],\n",
    "#  'Japan_006775.jpg': ['Japan_003206.jpg'],\n",
    "#  'Japan_007389.jpg': ['Japan_003206.jpg'],\n",
    "#  'Japan_010778.jpg': ['Japan_003206.jpg', 'Japan_010778.jpg'],\n",
    "#  'Japan_011190.jpg': ['Japan_001155.jpg', 'Japan_010778.jpg'],\n",
    "#  'Japan_012213.jpg': ['Japan_011190.jpg']}"
   ]
  },
  {
   "cell_type": "markdown",
   "metadata": {},
   "source": [
    "We can now use the priviously generated class labels to group the images by class."
   ]
  },
  {
   "cell_type": "code",
   "execution_count": null,
   "metadata": {},
   "outputs": [],
   "source": [
    "with open(path_japan / 'classification_labels.json') as infile:\n",
    "    image_annotations = json.load(infile)"
   ]
  },
  {
   "cell_type": "code",
   "execution_count": null,
   "metadata": {},
   "outputs": [],
   "source": [
    "from collections import defaultdict\n",
    "\n",
    "\n",
    "def group_files_by_class(annotations):\n",
    "    grouped = defaultdict(list)\n",
    "    for file, labels in annotations.items():\n",
    "        for class_ in labels:\n",
    "            grouped[class_].append(file)\n",
    "    return grouped"
   ]
  },
  {
   "cell_type": "markdown",
   "metadata": {},
   "source": [
    "We have the following classes."
   ]
  },
  {
   "cell_type": "code",
   "execution_count": null,
   "metadata": {},
   "outputs": [],
   "source": [
    "classes_to_files = group_files_by_class(image_annotations)\n",
    "classes_to_files.keys()"
   ]
  },
  {
   "cell_type": "code",
   "execution_count": null,
   "metadata": {},
   "outputs": [],
   "source": [
    "classes_to_files"
   ]
  },
  {
   "cell_type": "markdown",
   "metadata": {},
   "source": [
    "We can pick any class to start the supervision, we just take the first one here."
   ]
  },
  {
   "cell_type": "code",
   "execution_count": null,
   "metadata": {},
   "outputs": [],
   "source": [
    "selected_class = list(classes_to_files.keys())[0]\n",
    "selected_class"
   ]
  },
  {
   "cell_type": "code",
   "execution_count": null,
   "metadata": {},
   "outputs": [],
   "source": [
    "from ipyannotator.capture_annotator import CaptureAnnotator"
   ]
  },
  {
   "cell_type": "code",
   "execution_count": null,
   "metadata": {},
   "outputs": [],
   "source": [
    "html_question = ('Select images that don\\'t belong to class'\n",
    "                 '<span style=\"color:red;\">{}</span>').format(selected_class)"
   ]
  },
  {
   "cell_type": "markdown",
   "metadata": {},
   "source": [
    "The annotator now shows us a grid of images annotated as belonging to the same class. You can now quickly click through\n",
    "this batches and select the images that belong to a different class."
   ]
  },
  {
   "cell_type": "code",
   "execution_count": null,
   "metadata": {},
   "outputs": [],
   "source": [
    "in_p = InputImage(image_dir='images', image_width=150, image_height=150)\n",
    "\n",
    "out_p_grid = OutputGridBox()\n",
    "\n",
    "annotation_file_path = construct_annotation_path(\n",
    "    file_name=path_japan / 'results' / 'capture_annotator' / 'annotation.json'\n",
    ")\n",
    "\n",
    "ca = CaptureAnnotator(\n",
    "    project_path=project_path,\n",
    "    input_item=in_p,\n",
    "    output_item=out_p_grid,\n",
    "    n_cols=2,\n",
    "    n_rows=2,\n",
    "    question=html_question,\n",
    "    filter_files=classes_to_files[selected_class],\n",
    "    annotation_file_path=annotation_file_path\n",
    ")\n",
    "\n",
    "ca"
   ]
  },
  {
   "cell_type": "markdown",
   "metadata": {},
   "source": [
    "You can repeat this process for each class and then reclassify the images with wrong labels in a later step. The Capture annotator is very useful when you already have a dataset with imperfect image classifications which could stem from a pretrained model. It is also very usefull if the dataset was annotated by many less experienced annotators which needs to be checked/improved by few experts. "
   ]
  },
  {
   "cell_type": "code",
   "execution_count": null,
   "metadata": {},
   "outputs": [],
   "source": [
    "ca.to_dict()"
   ]
  },
  {
   "cell_type": "markdown",
   "metadata": {},
   "source": [
    "## Conclusion"
   ]
  },
  {
   "cell_type": "markdown",
   "metadata": {},
   "source": [
    "This short tutorial has demonstrated how annotation UI's, that are already included in Ipyannotator, can be used to quickly annotate images.\n",
    "Clearly this case is a very simple example and the real power of using the Ipyannotator concept lays in building project specific UI's.\n",
    "Check out the other notebooks to get inspired how this can be done."
   ]
  }
 ],
 "metadata": {
  "kernelspec": {
   "display_name": "Python 3",
   "language": "python",
   "name": "python3"
  }
 },
 "nbformat": 4,
 "nbformat_minor": 4
}
