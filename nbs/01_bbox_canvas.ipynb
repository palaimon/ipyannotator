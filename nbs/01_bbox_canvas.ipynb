{
 "cells": [
  {
   "cell_type": "code",
   "execution_count": null,
   "metadata": {},
   "outputs": [],
   "source": [
    "# default_exp bbox_canvas"
   ]
  },
  {
   "cell_type": "code",
   "execution_count": null,
   "metadata": {},
   "outputs": [],
   "source": [
    "%load_ext autoreload\n",
    "%autoreload 2"
   ]
  },
  {
   "cell_type": "code",
   "execution_count": null,
   "metadata": {},
   "outputs": [],
   "source": [
    "from nbdev import *"
   ]
  },
  {
   "cell_type": "code",
   "execution_count": null,
   "metadata": {},
   "outputs": [],
   "source": [
    "# exporti\n",
    "import numpy as np\n",
    "import traitlets\n",
    "import ipywidgets as widgets\n",
    "from pathlib import Path\n",
    "from math import log\n",
    "from ipycanvas import MultiCanvas, hold_canvas\n",
    "from ipywidgets import Image, Label, Layout, HBox, VBox, Output"
   ]
  },
  {
   "cell_type": "markdown",
   "metadata": {},
   "source": [
    "# Draw Box an Canvas"
   ]
  },
  {
   "cell_type": "code",
   "execution_count": null,
   "metadata": {},
   "outputs": [],
   "source": [
    "from ipycanvas import MultiCanvas\n",
    "\n",
    "# Create a multi-layer canvas with 4 layers\n",
    "multi_canvas = MultiCanvas(4, width=200, height=200)\n",
    "multi_canvas[0] #  Access first layer (background)\n",
    "multi_canvas[3] #  Access last layer\n",
    "multi_canvas"
   ]
  },
  {
   "cell_type": "code",
   "execution_count": null,
   "metadata": {},
   "outputs": [],
   "source": [
    "# dynamic update of canvas size\n",
    "multi_canvas.width = 30\n",
    "multi_canvas.height = 60"
   ]
  },
  {
   "cell_type": "markdown",
   "metadata": {},
   "source": [
    "understand canvas grid\n",
    "\n",
    "![grid illustration](https://ipycanvas.readthedocs.io/en/latest/_images/grid.png)"
   ]
  },
  {
   "cell_type": "code",
   "execution_count": null,
   "metadata": {},
   "outputs": [],
   "source": [
    "#exporti\n",
    "\n",
    "def draw_bg(canvas, color='rgb(236,240,241)'):\n",
    "    with hold_canvas(canvas):\n",
    "        canvas.fill_style = color\n",
    "        canvas.fill_rect(0, 0, canvas.size[0], canvas.size[1])"
   ]
  },
  {
   "cell_type": "code",
   "execution_count": null,
   "metadata": {},
   "outputs": [],
   "source": [
    "from ipycanvas import Canvas\n",
    "canvas = Canvas(width=300, height=20)\n",
    "draw_bg(canvas)\n",
    "canvas"
   ]
  },
  {
   "cell_type": "code",
   "execution_count": null,
   "metadata": {},
   "outputs": [],
   "source": [
    "canvas = Canvas(width=200, height=200)\n",
    "canvas.fill_rect(25, 25, 100, 100)\n",
    "canvas.clear_rect(45, 45, 60, 60)\n",
    "canvas.stroke_rect(50, 50, 50, 50)\n",
    "canvas"
   ]
  },
  {
   "cell_type": "code",
   "execution_count": null,
   "metadata": {},
   "outputs": [],
   "source": [
    "#exporti\n",
    "\n",
    "def draw_bounding_box(canvas, coords, color='white', line_width=None,\n",
    "                      border_ratio=2, clear=False):\n",
    "    with hold_canvas(canvas):\n",
    "        if clear:\n",
    "            canvas.clear()\n",
    "\n",
    "        pos_x, pos_y, rect_x, rect_y = coords\n",
    "        \n",
    "        canvas.line_width = line_width or log(canvas.height)/5\n",
    "        gap = canvas.line_width * border_ratio\n",
    "        \n",
    "        canvas.fill_style = color\n",
    "        \n",
    "        canvas.stroke_rect(pos_x, pos_y, rect_x, rect_y)\n",
    "        canvas.fill_rect(pos_x, pos_y, rect_x, rect_y)\n",
    "        canvas.stroke_rect(pos_x, pos_y, rect_x, rect_y)\n",
    "        canvas.clear_rect(pos_x + gap, pos_y + gap, rect_x - 2 * gap,\n",
    "                          rect_y - 2 * gap)\n",
    "        canvas.stroke_rect(pos_x + gap, pos_y + gap, rect_x - 2 * gap,\n",
    "                           rect_y - 2 * gap)"
   ]
  },
  {
   "cell_type": "code",
   "execution_count": null,
   "metadata": {},
   "outputs": [],
   "source": [
    "canvas = Canvas(width=100, height=100)\n",
    "draw_bg(canvas)\n",
    "draw_bounding_box(canvas, [0, 0, 80, 100])\n",
    "draw_bounding_box(canvas, np.array([10, 40, 80, 100]) / 2, color='red', border_ratio=4, line_width=1.5)\n",
    "canvas"
   ]
  },
  {
   "cell_type": "code",
   "execution_count": null,
   "metadata": {},
   "outputs": [],
   "source": [
    "canvas = MultiCanvas(2, width=200, height=200)\n",
    "draw_bg(canvas[0])\n",
    "draw_bounding_box(canvas[1], [10, 40, 80, 100])\n",
    "draw_bounding_box(canvas[1], np.array([10, 40, 80, 100]) / 2, color='red', border_ratio=4)\n",
    "canvas"
   ]
  },
  {
   "cell_type": "markdown",
   "metadata": {},
   "source": [
    "# Draw Image\n",
    "\n",
    "- draw on canvas\n",
    "- canvas with bg\n",
    "- get image boundaries on canvas\n",
    "- get image scaling to retrieve org coordinates\n",
    "\n",
    "https://ipycanvas.readthedocs.io/en/latest/drawing_images.html"
   ]
  },
  {
   "cell_type": "code",
   "execution_count": null,
   "metadata": {},
   "outputs": [],
   "source": [
    "from ipywidgets import Image\n",
    "\n",
    "from ipycanvas import Canvas\n",
    "from pathlib import Path\n",
    "\n",
    "examples_path = Path(\"../data/projects/bbox/pics\")\n",
    "print(examples_path / \"test200x200.png\")\n",
    "# sprite1 = Image.from_file(examples_path/\"test200x200.png\")\n",
    "\n",
    "sprite1 = Image.from_file(\"../data/projects/bbox/pics/test200x200.png\")\n",
    "sprite2 = Image.from_file(\"../data/projects/bbox/pics/red400x640.png\")\n",
    "\n",
    "canvas = Canvas(width=300, height=300)\n",
    "\n",
    "canvas.fill_style = '#a9cafc'\n",
    "canvas.fill_rect(0, 0, 300, 300)\n",
    "\n",
    "canvas.draw_image(sprite1, 50, 50)\n",
    "canvas.draw_image(sprite2, 100, 100, width=40, height=40)\n",
    "\n",
    "canvas"
   ]
  },
  {
   "cell_type": "markdown",
   "metadata": {},
   "source": [
    "You can draw from another Canvas widget. This is the fastest way of drawing an image on the canvas."
   ]
  },
  {
   "cell_type": "code",
   "execution_count": null,
   "metadata": {},
   "outputs": [],
   "source": [
    "canvas2 = Canvas(width=600, height=300)\n",
    "# Here ``canvas`` is the canvas from the previous example\n",
    "canvas2.draw_image(canvas, 0, 0)\n",
    "canvas2.draw_image(canvas, 300, 0)\n",
    "canvas2"
   ]
  },
  {
   "cell_type": "code",
   "execution_count": null,
   "metadata": {},
   "outputs": [],
   "source": [
    "#exporti\n",
    "from PIL import Image as pilImage\n",
    "\n",
    "# can we do this without reading image?\n",
    "def get_image_size(path):\n",
    "    pil_im = pilImage.open(path)\n",
    "    return pil_im.width, pil_im.height"
   ]
  },
  {
   "cell_type": "code",
   "execution_count": null,
   "metadata": {},
   "outputs": [],
   "source": [
    "get_image_size(\"../data/projects/bbox/pics/red400x640.png\")"
   ]
  },
  {
   "cell_type": "markdown",
   "metadata": {},
   "source": [
    "## Draw resized Image\n",
    "\n",
    "- resize "
   ]
  },
  {
   "cell_type": "code",
   "execution_count": null,
   "metadata": {},
   "outputs": [],
   "source": [
    "#exporti\n",
    "\n",
    "def draw_img(canvas, file, clear=False, canvas_size=None, rescale=1.0):\n",
    "    # draws an image on canvas, a specific size can be passed to scale image\n",
    "    with hold_canvas(canvas):\n",
    "        if clear:\n",
    "            canvas.clear()\n",
    "\n",
    "        sprite1 = Image.from_file(file)\n",
    "\n",
    "        if canvas_size:\n",
    "            width_canvas, height_canvas = canvas_size\n",
    "        # if no specific size is passed, use current canvas size\n",
    "        else:\n",
    "            width_canvas, height_canvas = canvas.width, canvas.height\n",
    "\n",
    "        width_img, height_img = get_image_size(file)\n",
    "\n",
    "        ratio_canvas = float(width_canvas) / height_canvas\n",
    "        ratio_img = float(width_img) / height_img\n",
    "\n",
    "        if ratio_img > ratio_canvas:\n",
    "            # wider then canvas, scale to canvas width\n",
    "            scale = width_canvas / width_img\n",
    "        else:\n",
    "            # taller then canvas, scale to canvas hight\n",
    "            scale = height_canvas / height_img\n",
    "\n",
    "        canvas.draw_image(sprite1, 0, 0, \n",
    "                          width=(width_img * min(1, scale)) * rescale,\n",
    "                          height=(height_img * min(1, scale)) * rescale)\n",
    "        return scale"
   ]
  },
  {
   "cell_type": "code",
   "execution_count": null,
   "metadata": {},
   "outputs": [],
   "source": [
    "file = \"../data/projects/bbox/pics/red400x640.png\"\n",
    "canvas = Canvas(width=300, height=320)\n",
    "draw_bg(canvas)\n",
    "scale = draw_img(canvas, file)\n",
    "print(scale)\n",
    "canvas"
   ]
  },
  {
   "cell_type": "code",
   "execution_count": null,
   "metadata": {},
   "outputs": [],
   "source": [
    "file = \"../data/projects/bbox/pics/green640x400.png\"\n",
    "canvas = Canvas(width=300, height=300)\n",
    "draw_bg(canvas)\n",
    "scale = draw_img(canvas, file)\n",
    "print(scale)\n",
    "canvas"
   ]
  },
  {
   "cell_type": "markdown",
   "metadata": {},
   "source": [
    "## Catch Drawing Events\n",
    "\n",
    "drawing sequence:\n",
    "\n",
    "- mouse press\n",
    "- mouse move\n",
    "- mouse release\n",
    "\n",
    "only watching on canvas area covered by image"
   ]
  },
  {
   "cell_type": "code",
   "execution_count": null,
   "metadata": {},
   "outputs": [],
   "source": [
    "file = \"../data/projects/bbox/pics/green640x400.png\"\n",
    "canvas = Canvas(width=300, height=300)\n",
    "draw_bg(canvas)\n",
    "scale = draw_img(canvas, file)\n",
    "print(scale)"
   ]
  },
  {
   "cell_type": "code",
   "execution_count": null,
   "metadata": {},
   "outputs": [],
   "source": [
    "debug_view = widgets.Output(layout={'border': '1px solid black'})\n",
    "\n",
    "state = {'active': False}\n",
    "\n",
    "@debug_view.capture(clear_output=True)\n",
    "def show_state():\n",
    "    print(state)\n",
    "\n",
    "@debug_view.capture(clear_output=True)\n",
    "def update_start(x, y):\n",
    "    print('start')\n",
    "    state['active'] = True\n",
    "    state['start'] = (x, y)\n",
    "    # reset end\n",
    "    state['end'] = state['start']\n",
    "    show_state()\n",
    "\n",
    "@debug_view.capture(clear_output=True)\n",
    "def update_state(x, y):\n",
    "    if state['active']:\n",
    "        state['end'] = (x, y)\n",
    "        show_state()\n",
    "        \n",
    "@debug_view.capture(clear_output=True)\n",
    "def update_end(x, y):\n",
    "    state['active'] = False\n",
    "    state['end'] = (x, y)\n",
    "    show_state()\n",
    "        \n",
    "canvas.on_mouse_down(update_start)\n",
    "canvas.on_mouse_move(update_state)\n",
    "canvas.on_mouse_up(update_end)"
   ]
  },
  {
   "cell_type": "code",
   "execution_count": null,
   "metadata": {},
   "outputs": [],
   "source": [
    "canvas"
   ]
  },
  {
   "cell_type": "code",
   "execution_count": null,
   "metadata": {},
   "outputs": [],
   "source": [
    "debug_view"
   ]
  },
  {
   "cell_type": "code",
   "execution_count": null,
   "metadata": {},
   "outputs": [],
   "source": [
    "a = Image.from_file(\"../data/projects/bbox/pics/test200x200.png\")"
   ]
  },
  {
   "cell_type": "code",
   "execution_count": null,
   "metadata": {},
   "outputs": [],
   "source": []
  },
  {
   "cell_type": "code",
   "execution_count": null,
   "metadata": {},
   "outputs": [],
   "source": [
    "#exporti\n",
    "\n",
    "def points2bbox_coords(start_x, start_y, end_x, end_y):\n",
    "    min_x, max_x = sorted((start_x, end_x)) \n",
    "    min_y, max_y = sorted((start_y, end_y))\n",
    "    return {'x': min_x, 'y': min_y, 'width': max_x-min_x, 'height': max_y-min_y}\n"
   ]
  },
  {
   "cell_type": "markdown",
   "metadata": {},
   "source": [
    "# Create BBoxCanvas"
   ]
  },
  {
   "cell_type": "markdown",
   "metadata": {},
   "source": [
    "![](http://www.plantuml.com/plantuml/png/bP5DQiCm48NtEiL0DmdK5yWY1DehT2t6qZWnbJL6FtPo-rfIxQIj25JWXVK-FTwyEVc0BiJ125I17NnuSl0oN_f0Gh4DZWsyePtG2o6Is1pBxm46Zfv0ysp5sN4SuTtXtDkpA41pxDnYG5OVWAtCjCpqUlz8o9n3wcyBmpn2nmu8rGL6xXVCmS0J2LXEBSWcbcjeZd2ttrrVuRRFCfe0FYf5tdVHW4AVdfLJInP73MtBLwcOdVOLTisHmcSqCsGy0SS0t85AnD-dMyQr0Xwt1ZQBc3QIfErvRVfubv_KNwZ_PR1QfAzMpOIcrnW8P1bGFlPKx_bvRtdWYTmD_836mCwoRQRUzwsXVK7g5ieGMlWLj4NrkQuG0_tOucaHuc2-0000)"
   ]
  },
  {
   "cell_type": "code",
   "execution_count": null,
   "metadata": {},
   "outputs": [],
   "source": [
    "#export\n",
    "\n",
    "class BBoxCanvas(HBox, traitlets.HasTraits):\n",
    "    \"\"\"\n",
    "    Represents canvas holding image and bbox ontop. \n",
    "    Gives user an ability to draw a bbox with mouse.\n",
    "    \n",
    "    \"\"\"\n",
    "    debug_output = widgets.Output(layout={'border': '1px solid black'})\n",
    "    image_path = traitlets.Unicode()\n",
    "    bbox_coords = traitlets.Dict()\n",
    "    _canvas_bbox_coords = traitlets.Dict()\n",
    "    _image_scale = traitlets.Float()\n",
    "    \n",
    "    def __init__(self, width, height):\n",
    "        super().__init__()       \n",
    "\n",
    "        self.is_drawing = False\n",
    "        self._start_point = ()\n",
    "        self._image_scale = 1.0\n",
    "        \n",
    "        self._bg_layer = 0\n",
    "        self._image_layer = 1\n",
    "        self._box_layer = 2\n",
    "        # do not stick bbox to borders\n",
    "        self.padding = 2\n",
    "\n",
    "        # Define each of the children...\n",
    "        self._image = Image(layout=Layout(display='flex',\n",
    "                                          justify_content='center',\n",
    "                                          align_items='center',\n",
    "                                          align_content='center'))\n",
    "        self._multi_canvas = MultiCanvas(3, width=width, height=height)\n",
    "        self._im_name_box = Label()\n",
    "            \n",
    "        children = [VBox([self._multi_canvas, self._im_name_box])]\n",
    "        self.children = children\n",
    "        draw_bg(self._multi_canvas[self._bg_layer])\n",
    "        \n",
    "        # link drawing events        \n",
    "        self._multi_canvas[self._box_layer].on_mouse_move(self._update_pos)\n",
    "        self._multi_canvas[self._box_layer].on_mouse_down(self._start_drawing)\n",
    "        self._multi_canvas[self._box_layer].on_mouse_up(self._stop_drawing)\n",
    "        \n",
    "    \n",
    "    @debug_output.capture(clear_output=False)\n",
    "    def _update_pos(self, x, y):\n",
    "        if self.is_drawing:\n",
    "            self._canvas_bbox_coords = points2bbox_coords(*self._start_point, x, y)\n",
    "            # bbox should not cross the canvas border:\n",
    "            if self._invalid_coords(x, y):\n",
    "                print(' !! Out of canvas border !!')\n",
    "                self._stop_drawing(x, y)\n",
    "                    \n",
    "    def _invalid_coords(self, x, y):\n",
    "        return (self._canvas_bbox_coords[\"x\"] + self._canvas_bbox_coords[\"width\"] > self._multi_canvas.width - self.padding or\n",
    "                self._canvas_bbox_coords[\"y\"] + self._canvas_bbox_coords[\"height\"] > self._multi_canvas.height - self.padding or\n",
    "                self._canvas_bbox_coords[\"x\"] < self.padding or\n",
    "                self._canvas_bbox_coords[\"y\"] < self.padding)\n",
    "    \n",
    "        \n",
    "    @debug_output.capture(clear_output=True)            \n",
    "    def _start_drawing(self, x, y):\n",
    "#         print(\"-> START DRAWING\")\n",
    "        self._start_point = (x, y)\n",
    "        self.is_drawing = True\n",
    "#         print(\"<- START DRAWING\")\n",
    "\n",
    "    @debug_output.capture(clear_output=False)\n",
    "    def _stop_drawing(self, x, y):\n",
    "#         print(\"-> STOP DRAWING\")\n",
    "        self.is_drawing = False\n",
    "        \n",
    "        # if something is drawn\n",
    "        if self._canvas_bbox_coords:\n",
    "            # if bbox is not human visible, clean:\n",
    "            if (self._canvas_bbox_coords['width'] < 10 or \n",
    "                self._canvas_bbox_coords['height'] < 10):\n",
    "                self._canvas_bbox_coords = {}\n",
    "                print(\" !! too small bbox drawn !!\")\n",
    "            else: # otherwise, save bbox values to backend\n",
    "                self.bbox_coords = dict({ k: v / self._image_scale for k, v in self._canvas_bbox_coords.items() })\n",
    "#         print(\"<- STOP DRAWING\")\n",
    "\n",
    "        \n",
    "    @traitlets.observe('bbox_coords')\n",
    "    def _update_canvas_bbox_coords(self, change):\n",
    "#         print('-> Observe bbox_coords: ', change)\n",
    "        \n",
    "        if change['new'] == self._canvas_bbox_coords: # change event from gui, do nothing\n",
    "            pass\n",
    "#             print('-> GUI')\n",
    "        else: # recalculate canvas coordinates as bbox was set by backend:\n",
    "            self._canvas_bbox_coords = {k: v * self._image_scale for k, v in self.bbox_coords.items()}\n",
    "#             print('-> Backend')\n",
    "#         print('<- Observe bbox_coords')\n",
    "               \n",
    "    \n",
    "    @traitlets.observe('_canvas_bbox_coords')\n",
    "    def _draw_bbox(self, change):\n",
    "#         print('-> Observe canvas_coords: ', change)\n",
    "        if not self._canvas_bbox_coords:\n",
    "            self._clear_bbox()\n",
    "            self.bbox_coords = {}\n",
    "            return\n",
    "        coords = [self._canvas_bbox_coords['x'],\n",
    "                  self._canvas_bbox_coords['y'],\n",
    "                  self._canvas_bbox_coords['width'],\n",
    "                  self._canvas_bbox_coords['height']]\n",
    "        draw_bounding_box(self._multi_canvas[self._box_layer], coords,\n",
    "                          color='white', border_ratio=2, clear=True)\n",
    "#         print('<- Observe canvas_coords')\n",
    "        \n",
    "        \n",
    "    def _clear_bbox(self):\n",
    "        self._multi_canvas[self._box_layer].clear()\n",
    "\n",
    "    @traitlets.observe('image_path')\n",
    "    def _draw_image(self, image):\n",
    "        self._image_scale = draw_img(self._multi_canvas[self._image_layer], self.image_path, clear=True)\n",
    "        self._im_name_box.value = Path(self.image_path).name\n",
    "    \n",
    "    @property\n",
    "    def image_scale(self):\n",
    "        return self._image_scale\n",
    "    \n",
    "    def _clear_image(self):\n",
    "        self._multi_canvas[self._image_layer].clear()\n",
    "    \n",
    "    # needed to support voila\n",
    "    # https://ipycanvas.readthedocs.io/en/latest/advanced.html#ipycanvas-in-voila\n",
    "    def observe_client_ready(self, cb=None):\n",
    "        self._multi_canvas.on_client_ready(cb)"
   ]
  },
  {
   "cell_type": "code",
   "execution_count": null,
   "metadata": {},
   "outputs": [],
   "source": []
  },
  {
   "cell_type": "code",
   "execution_count": null,
   "metadata": {},
   "outputs": [],
   "source": [
    "gui = BBoxCanvas(width=200, height=200)\n",
    "gui"
   ]
  },
  {
   "cell_type": "code",
   "execution_count": null,
   "metadata": {},
   "outputs": [],
   "source": [
    "gui.debug_output"
   ]
  },
  {
   "cell_type": "code",
   "execution_count": null,
   "metadata": {},
   "outputs": [],
   "source": [
    "gui.bbox_coords"
   ]
  },
  {
   "cell_type": "code",
   "execution_count": null,
   "metadata": {},
   "outputs": [],
   "source": [
    "# gui.bbox_coords = {'x':5, 'y': 5, 'width': 5, 'height': 5}\n",
    "gui.bbox_coords = {}"
   ]
  },
  {
   "cell_type": "code",
   "execution_count": null,
   "metadata": {},
   "outputs": [],
   "source": [
    "# gui.image_path = \"../data/projects/bbox/pics/red400x640.png\"\n",
    "gui.image_path = '../data/projects/im2im1/class_images/blocks_1.png'"
   ]
  },
  {
   "cell_type": "code",
   "execution_count": null,
   "metadata": {},
   "outputs": [],
   "source": [
    "gui.image_scale"
   ]
  },
  {
   "cell_type": "code",
   "execution_count": null,
   "metadata": {},
   "outputs": [],
   "source": [
    "# gui._draw_bbox([10, 20, 80, 100])\n",
    "gui.bbox_coords = {'x': 5, 'y': 10, 'width': 20, 'height': 30}"
   ]
  },
  {
   "cell_type": "code",
   "execution_count": null,
   "metadata": {},
   "outputs": [],
   "source": [
    "gui.bbox_coords = {'x': 0, 'y': 10, 'width': 20, 'height': 30}"
   ]
  },
  {
   "cell_type": "code",
   "execution_count": null,
   "metadata": {},
   "outputs": [],
   "source": [
    "gui._clear_bbox()"
   ]
  },
  {
   "cell_type": "code",
   "execution_count": null,
   "metadata": {},
   "outputs": [],
   "source": [
    "#hide\n",
    "from nbdev.export import *\n",
    "notebook2script()"
   ]
  },
  {
   "cell_type": "code",
   "execution_count": null,
   "metadata": {},
   "outputs": [],
   "source": []
  }
 ],
 "metadata": {
  "kernelspec": {
   "display_name": "Python 3",
   "language": "python",
   "name": "python3"
  }
 },
 "nbformat": 4,
 "nbformat_minor": 4
}
