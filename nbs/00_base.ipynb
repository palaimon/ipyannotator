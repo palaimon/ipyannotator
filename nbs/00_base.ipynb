{
 "cells": [
  {
   "cell_type": "code",
   "execution_count": null,
   "metadata": {},
   "outputs": [],
   "source": [
    "# default_exp base"
   ]
  },
  {
   "cell_type": "markdown",
   "metadata": {},
   "source": [
    "# Base"
   ]
  },
  {
   "cell_type": "code",
   "execution_count": null,
   "metadata": {},
   "outputs": [],
   "source": [
    "# hide\n",
    "%load_ext autoreload\n",
    "%autoreload 2"
   ]
  },
  {
   "cell_type": "code",
   "execution_count": null,
   "metadata": {},
   "outputs": [],
   "source": [
    "#exporti\n",
    "import json\n",
    "import random\n",
    "from pubsub import pub\n",
    "from pathlib import Path\n",
    "from enum import Enum, auto\n",
    "from typing import NamedTuple, Optional, Tuple, Any, Callable\n",
    "from abc import ABC\n",
    "from pydantic import BaseModel, BaseSettings"
   ]
  },
  {
   "cell_type": "code",
   "execution_count": null,
   "metadata": {},
   "outputs": [],
   "source": [
    "# hide\n",
    "import ipytest\n",
    "import pytest\n",
    "ipytest.autoconfig(raise_on_error=True)"
   ]
  },
  {
   "cell_type": "markdown",
   "metadata": {},
   "source": [
    "## Ipyannotator base\n",
    "\n",
    "The current notebook define the classes, enum and helper functions that will be used on the whole application."
   ]
  },
  {
   "cell_type": "markdown",
   "metadata": {},
   "source": [
    "## State"
   ]
  },
  {
   "cell_type": "code",
   "execution_count": null,
   "metadata": {},
   "outputs": [],
   "source": [
    "#exporti\n",
    "\n",
    "class StateSettings(BaseSettings):\n",
    "    class Config:\n",
    "        validate_assignment = True\n",
    "\n",
    "\n",
    "class BaseState(StateSettings, BaseModel):\n",
    "    def __init__(self, uuid: str = None, *args, **kwargs):\n",
    "        super().__init__(*args, **kwargs)\n",
    "        self.set_quietly('_uuid', uuid)\n",
    "        self.set_quietly('event_map', {})\n",
    "\n",
    "    def set_quietly(self, key: str, value: Any):\n",
    "        \"\"\"\n",
    "        Assigns a value to a state's attribute.\n",
    "\n",
    "        This function can be used to avoid that\n",
    "        the state dispatches a PyPubSub event.\n",
    "        It's very usefull to avoid event recursion,\n",
    "        ex: a component is listening for an event A\n",
    "        but it also changes the state that dispatch\n",
    "        the event A. Using set_quietly to set the\n",
    "        value at the component will avoid the recursion.\n",
    "        \"\"\"\n",
    "        object.__setattr__(self, key, value)\n",
    "\n",
    "    @property\n",
    "    def root_topic(self) -> str:\n",
    "        if hasattr(self, '_uuid') and self._uuid:  # type: ignore\n",
    "            return f'{self._uuid}.{type(self).__name__}'  # type: ignore\n",
    "\n",
    "        return type(self).__name__\n",
    "\n",
    "    def subscribe(self, change: Callable, attribute: str):\n",
    "        key = f'{self.root_topic}.{attribute}'\n",
    "        self.event_map[key] = change  # type: ignore\n",
    "        pub.subscribe(change, key)\n",
    "\n",
    "    def unsubscribe(self, attribute: str):\n",
    "        key = self.topic_attribute(attribute)\n",
    "        pub.unsubscribe(self.event_map[key], key)  # type: ignore\n",
    "        del self.event_map[key]  # type: ignore\n",
    "\n",
    "    def topic_attribute(self, attribute: str):\n",
    "        return f'{self.root_topic}.{attribute}'\n",
    "\n",
    "    def is_subscribed(self, attribute: str) -> bool:\n",
    "        return attribute in self.event_map  # type: ignore\n",
    "\n",
    "    def __setattr__(self, key: str, value: Any):\n",
    "        self.set_quietly(key, value)\n",
    "\n",
    "        if key != '__class__':\n",
    "            pub.sendMessage(f'{self.root_topic}.{key}', **{key: value})"
   ]
  },
  {
   "cell_type": "code",
   "execution_count": null,
   "metadata": {},
   "outputs": [],
   "source": [
    "%%ipytest\n",
    "def test_it_can_unsubscribe():\n",
    "    count = 0\n",
    "    class Increment(BaseState):\n",
    "        inc: int = 1\n",
    "\n",
    "    def incrementing(inc):\n",
    "        nonlocal count\n",
    "        count += inc\n",
    "\n",
    "    state = Increment()\n",
    "    state.subscribe(incrementing, 'inc')\n",
    "    state.inc = 1\n",
    "    assert count == 1\n",
    "    state.unsubscribe('inc')\n",
    "    state.inc = 1\n",
    "    assert count == 1"
   ]
  },
  {
   "cell_type": "markdown",
   "metadata": {},
   "source": [
    "## Annotator\n",
    "\n",
    "All annotator share some states and types, the next cells will design this shared features."
   ]
  },
  {
   "cell_type": "markdown",
   "metadata": {},
   "source": [
    "Ipyannotator's uses a `create`, `explore`, `improve` steps when handling data in it's annotators. This enum will be used across the application to check and change the annotators on every step change"
   ]
  },
  {
   "cell_type": "code",
   "execution_count": null,
   "metadata": {},
   "outputs": [],
   "source": [
    "#exporti\n",
    "class AnnotatorStep(Enum):\n",
    "    EXPLORE = auto()\n",
    "    CREATE = auto()\n",
    "    IMPROVE = auto()"
   ]
  },
  {
   "cell_type": "code",
   "execution_count": null,
   "metadata": {},
   "outputs": [],
   "source": [
    "#exporti\n",
    "\n",
    "class AppWidgetState(BaseState):\n",
    "    annotation_step: AnnotatorStep = AnnotatorStep.CREATE\n",
    "    size: Tuple[int, int] = (640, 400)\n",
    "    max_im_number: int = 1\n",
    "    index: int = 0"
   ]
  },
  {
   "cell_type": "markdown",
   "metadata": {},
   "source": [
    "The following cells will define a common interface for all annotators. Every annotator has a `app_state` that should be implemented."
   ]
  },
  {
   "cell_type": "code",
   "execution_count": null,
   "metadata": {},
   "outputs": [],
   "source": [
    "#exporti\n",
    "class Annotator(ABC):\n",
    "    def __init__(self, app_state: AppWidgetState):\n",
    "        self.app_state = app_state"
   ]
  },
  {
   "cell_type": "code",
   "execution_count": null,
   "metadata": {},
   "outputs": [],
   "source": [
    "%%ipytest\n",
    "def test_it_raises_not_implemented_app_state():\n",
    "    with pytest.raises(TypeError):\n",
    "        class Anno(Annotator):\n",
    "            pass\n",
    "\n",
    "        anno = Anno()\n",
    "        anno.app_state"
   ]
  },
  {
   "cell_type": "code",
   "execution_count": null,
   "metadata": {},
   "outputs": [],
   "source": [
    "%%ipytest\n",
    "def test_it_not_raises_if_implemented_app_state():\n",
    "    try:\n",
    "        class Anno(Annotator):\n",
    "            def __init__(self):\n",
    "                self._app_state = AppWidgetState()\n",
    "                \n",
    "            @property\n",
    "            def app_state(self):\n",
    "                return self._app_state\n",
    "\n",
    "        anno = Anno()\n",
    "        anno.app_state\n",
    "    except:\n",
    "        pytest.fail(\"Anno couldn't call app_state\")"
   ]
  },
  {
   "cell_type": "markdown",
   "metadata": {},
   "source": [
    "## Helpers"
   ]
  },
  {
   "cell_type": "code",
   "execution_count": null,
   "metadata": {},
   "outputs": [],
   "source": [
    "#exporti\n",
    "\n",
    "class Settings(NamedTuple):\n",
    "    project_path: Path = Path('user_project')\n",
    "    project_file: Optional[Path] = None\n",
    "    image_dir: str = 'images'\n",
    "    label_dir: Optional[str] = None\n",
    "    result_dir: Optional[str] = None\n",
    "\n",
    "    im_width: int = 50\n",
    "    im_height: int = 50\n",
    "    label_width: int = 50\n",
    "    label_height: int = 50\n",
    "\n",
    "    n_cols: int = 3\n",
    "    n_rows: Optional[int] = None"
   ]
  },
  {
   "cell_type": "code",
   "execution_count": null,
   "metadata": {},
   "outputs": [],
   "source": [
    "#exporti\n",
    "\n",
    "\n",
    "def generate_subset_anno_json(project_path: Path, project_file,\n",
    "                              number_of_labels,\n",
    "                              out_filename='subset_anno.json'):\n",
    "    \"\"\"\n",
    "    generates random subset from full dataset based on <number_of_labels>\n",
    "    \"\"\"\n",
    "    if number_of_labels == -1:\n",
    "        return project_file\n",
    "\n",
    "    with project_file.open() as f:\n",
    "        data = json.load(f)\n",
    "\n",
    "    all_labels = data.values()\n",
    "    unique_labels = set(label for item_labels in all_labels for label in item_labels)\n",
    "\n",
    "    #  get <number_of_labels> random labels and generate annotation file with them:\n",
    "    assert (number_of_labels <= len(unique_labels))\n",
    "    subset_labels = random.sample([[a] for a in unique_labels], k=number_of_labels)\n",
    "    subset_annotations = {k: v for k, v in data.items() if v in subset_labels}\n",
    "\n",
    "    subset_file = Path(project_path) / out_filename\n",
    "    with subset_file.open('w', encoding='utf-8') as fi:\n",
    "        json.dump(subset_annotations, fi, ensure_ascii=False, indent=4)\n",
    "\n",
    "    return subset_file"
   ]
  },
  {
   "cell_type": "code",
   "execution_count": null,
   "metadata": {},
   "outputs": [],
   "source": [
    "#exporti\n",
    "def validate_project_path(project_path):\n",
    "    project_path = Path(project_path)\n",
    "    assert project_path.exists(), \"WARNING: Project path should point to \" \\\n",
    "                                  \"existing directory\"\n",
    "    assert project_path.is_dir(), \"WARNING: Project path should point to \" \\\n",
    "                                  \"existing directory\"\n",
    "    return project_path"
   ]
  },
  {
   "cell_type": "code",
   "execution_count": null,
   "metadata": {},
   "outputs": [],
   "source": [
    "# hide\n",
    "im2im_proj_path = validate_project_path('../data/projects/im2im1/')"
   ]
  },
  {
   "cell_type": "code",
   "execution_count": null,
   "metadata": {},
   "outputs": [],
   "source": [
    "#hide\n",
    "from nbdev.export import notebook2script\n",
    "notebook2script()"
   ]
  },
  {
   "cell_type": "code",
   "execution_count": null,
   "metadata": {},
   "outputs": [],
   "source": []
  }
 ],
 "metadata": {
  "kernelspec": {
   "display_name": "Python 3",
   "language": "python",
   "name": "python3"
  }
 },
 "nbformat": 4,
 "nbformat_minor": 4
}
